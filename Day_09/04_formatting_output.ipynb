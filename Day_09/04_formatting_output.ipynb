{
 "cells": [
  {
   "cell_type": "code",
   "execution_count": 10,
   "metadata": {},
   "outputs": [
    {
     "name": "stdout",
     "output_type": "stream",
     "text": [
      "Inganathi's salary is R1,500,000\n",
      "Inganathi's salary is R1_500_000\n"
     ]
    }
   ],
   "source": [
    "salary = 1_500_000  # DX ⬆️\n",
    "\n",
    "print(f\"Inganathi's salary is R{salary:,}\") # UX ⬆️\n",
    "print(f\"Inganathi's salary is R{salary:_}\")"
   ]
  },
  {
   "cell_type": "code",
   "execution_count": null,
   "metadata": {},
   "outputs": [
    {
     "name": "stdout",
     "output_type": "stream",
     "text": [
      "3.141592653589793\n",
      "The PI value is: 3\n",
      "The PI value is: 3.14\n",
      "The PI value is: 3.14\n",
      "The PI value is: 3.142\n"
     ]
    }
   ],
   "source": [
    "from math import pi, cos  # Importing from inbuilt package\n",
    "# from <package_name> import <values>, <function>\n",
    "\n",
    "print(pi)\n",
    "print(f\"The PI value is: {round(pi)}\")\n",
    "print(f\"The PI value is: {round(pi, 2)}\")\n",
    "print(f\"The PI value is: {pi:.2f}\")\n",
    "print(f\"The PI value is: {pi:.3f}\")\n",
    "\n",
    "\n",
    "\n"
   ]
  },
  {
   "cell_type": "code",
   "execution_count": 23,
   "metadata": {},
   "outputs": [
    {
     "name": "stdout",
     "output_type": "stream",
     "text": [
      "Ethan's salary is R1,000,000.378\n",
      "Ethan's salary is R1_000_000.378\n"
     ]
    }
   ],
   "source": [
    "# Round off decimal points &  Comma separator\n",
    "print(f\"Ethan's salary is R{1000000.377833:,.3f}\")\n",
    "print(f\"Ethan's salary is R{1000000.377833:_.3f}\")"
   ]
  },
  {
   "cell_type": "code",
   "execution_count": 29,
   "metadata": {},
   "outputs": [
    {
     "name": "stdout",
     "output_type": "stream",
     "text": [
      "       Diyali Devraj:\n",
      "Diyali Devraj       :\n",
      "   Diyali Devraj    :\n"
     ]
    }
   ],
   "source": [
    "# Text - <space> - padding\n",
    "name = \"Diyali Devraj\"\n",
    "print(f\"{name:>20}:\") # > points to the text\n",
    "print(f\"{name:<20}:\")\n",
    "print(f\"{name:^20}:\")"
   ]
  },
  {
   "cell_type": "code",
   "execution_count": null,
   "metadata": {},
   "outputs": [
    {
     "name": "stdout",
     "output_type": "stream",
     "text": [
      "Diyali Devraj aaaaaaaaaaaaaaaaa:\n",
      "Diyali Devraj aaaaaaaaaaaaaaaaa:\n",
      "Diyali Devraj aaaaaaaaaaaaaaaaa:\n"
     ]
    }
   ],
   "source": [
    "# Text - <space> - padding\n",
    "name = \"Diyali Devraj aaaaaaaaaaaaaaaaa\"\n",
    "print(f\"{name:>20}:\") # > points to the text\n",
    "print(f\"{name:<20}:\")\n",
    "print(f\"{name:^20}:\")\n",
    "\n",
    "# Text length < padding"
   ]
  },
  {
   "cell_type": "code",
   "execution_count": 33,
   "metadata": {},
   "outputs": [
    {
     "name": "stdout",
     "output_type": "stream",
     "text": [
      "🥕🥕🥕🥕🥕🥕🥕🥕🥕🥕🥕🥕🥕🥕🥕Jevan:\n",
      "Jevan🥔🥔🥔🥔🥔🥔🥔🥔🥔🥔🥔🥔🥔🥔🥔:\n",
      "🍅🍅🍅🍅🍅🍅🍅Jevan🍅🍅🍅🍅🍅🍅🍅🍅:\n"
     ]
    }
   ],
   "source": [
    "# Text - <space> - padding\n",
    "name = \"Jevan\"\n",
    "print(f\"{name:🥕>20}:\") \n",
    "print(f\"{name:🥔<20}:\")\n",
    "print(f\"{name:🍅^20}:\")"
   ]
  },
  {
   "cell_type": "markdown",
   "metadata": {},
   "source": [
    "```py\n",
    "recipe = {\n",
    "    \"name\": \"Spaghetti Carbonara\",\n",
    "    \"servings\": 4,\n",
    "    \"ingredients\": [\n",
    "        \"200g spaghetti\",\n",
    "        \"100g pancetta\",\n",
    "        \"2 eggs\",\n",
    "        \"1/2 cup grated Parmesan\",\n",
    "        \"1 clove garlic\",\n",
    "    ],\n",
    "}\n",
    "```\n",
    "\n",
    "## Task 1.1\n",
    "```\n",
    "======= Spaghetti Carbonara =======\n",
    "- 200g spaghetti\n",
    "- 100g pancetta\n",
    "- 2 eggs\n",
    "- 1/2 cup grated Parmesan\n",
    "- 1 clove garlic\n",
    "Serves: 4 people\n",
    "```\n",
    "\n"
   ]
  },
  {
   "cell_type": "code",
   "execution_count": null,
   "metadata": {},
   "outputs": [],
   "source": [
    "def format_recipe_output(recipe):\n",
    "    pass"
   ]
  },
  {
   "cell_type": "markdown",
   "metadata": {},
   "source": [
    "## Assignment\n",
    "\n",
    "```\n",
    "Invoice Date: 03 March 2025\n",
    "\n",
    "Product               Qty     Unit Price          Total\n",
    "-------------------------------------------------------\n",
    "Widget A               10           2.50          25.00\n",
    "Widget B                5          15.75          78.75\n",
    "Gadget                  2          99.99         199.98\n",
    "-------------------------------------------------------\n",
    "Grand Total                                      303.73\n",
    "```"
   ]
  },
  {
   "cell_type": "code",
   "execution_count": null,
   "metadata": {},
   "outputs": [
    {
     "name": "stdout",
     "output_type": "stream",
     "text": [
      "Invoice Date: 03 March 2025\n",
      "\n",
      "Product               Qty     Unit Price          Total\n",
      "-------------------------------------------------------\n",
      "Widget A               10           2.50          25.00\n",
      "Widget B                5          15.75          78.75\n",
      "Gadget                  2          99.99         199.98\n",
      "-------------------------------------------------------\n",
      "Grand Total                                      303.73\n"
     ]
    }
   ],
   "source": [
    "from datetime import datetime\n",
    "\n",
    "items = [\n",
    "    {\"name\": \"Widget A\", \"quantity\": 10, \"price\": 2.5},\n",
    "    {\"name\": \"Widget B\", \"quantity\": 5, \"price\": 15.75},\n",
    "    {\"name\": \"Gadget\", \"quantity\": 2, \"price\": 99.99}\n",
    "]\n",
    "\n",
    "def print_invoice(invoice_date, items):\n",
    "    pass\n",
    "\n"
   ]
  }
 ],
 "metadata": {
  "kernelspec": {
   "display_name": "Python 3",
   "language": "python",
   "name": "python3"
  },
  "language_info": {
   "codemirror_mode": {
    "name": "ipython",
    "version": 3
   },
   "file_extension": ".py",
   "mimetype": "text/x-python",
   "name": "python",
   "nbconvert_exporter": "python",
   "pygments_lexer": "ipython3",
   "version": "3.11.3"
  }
 },
 "nbformat": 4,
 "nbformat_minor": 2
}
