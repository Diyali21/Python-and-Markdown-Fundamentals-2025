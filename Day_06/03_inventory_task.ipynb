{
 "cells": [
  {
   "cell_type": "code",
   "execution_count": null,
   "metadata": {},
   "outputs": [],
   "source": [
    "inventory = [\n",
    "    {\"name\": \"Apple 🍎\", \"quantity\": 30, \"price\": 0.50},\n",
    "    {\"name\": \"Banana 🍌\", \"quantity\": 20, \"price\": 0.20},\n",
    "]\n",
    "\n",
    "item_name = input(\"What is the product name?\")\n",
    "item_qty = int(input(\"What is the quantity?\"))\n",
    "item_price = float(input(\"What is the price?\"))\n",
    "\n",
    "print(item_name)\n",
    "print(item_qty)\n",
    "print(item_price)\n",
    "\n",
    "product = {\"name\": item_name, \"quantity\": item_qty, \"price\": item_price}\n",
    "inventory.append(product)\n",
    "\n",
    "# inventory\n",
    "# Would you like add another product? \n"
   ]
  },
  {
   "cell_type": "code",
   "execution_count": null,
   "metadata": {},
   "outputs": [],
   "source": [
    "inventory = [\n",
    "    {\"name\": \"Apple 🍎\", \"quantity\": 30, \"price\": 0.50},\n",
    "    {\"name\": \"Banana 🍌\", \"quantity\": 20, \"price\": 0.20},\n",
    "]\n",
    "\n",
    "item_name = input(\"What is the product name?\")\n",
    "item_qty = int(input(\"What is the quantity?\"))\n",
    "item_price = float(input(\"What is the price?\"))\n",
    "\n",
    "print(item_name)\n",
    "print(item_qty)\n",
    "print(item_price)\n",
    "\n",
    "product = {\"name\": item_name, \"quantity\": item_qty, \"price\": item_price}\n",
    "inventory.append(product)\n",
    "\n",
    "# inventory\n",
    "# Would you like add another product? (Y/N)  Y"
   ]
  },
  {
   "cell_type": "code",
   "execution_count": 15,
   "metadata": {},
   "outputs": [
    {
     "name": "stdout",
     "output_type": "stream",
     "text": [
      "[{'name': 'Apple 🍎', 'quantity': 30, 'price': 0.5}, {'name': 'Banana 🍌', 'quantity': 20, 'price': 0.2}, {'name': 'o', 'quantity': 80, 'price': 0.6}]\n",
      "[{'name': 'Apple 🍎', 'quantity': 30, 'price': 0.5}, {'name': 'Banana 🍌', 'quantity': 20, 'price': 0.2}, {'name': 'o', 'quantity': 80, 'price': 0.6}, {'name': 's', 'quantity': 90, 'price': 0.8}]\n"
     ]
    }
   ],
   "source": [
    "inventory = [\n",
    "    {\"name\": \"Apple 🍎\", \"quantity\": 30, \"price\": 0.50},\n",
    "    {\"name\": \"Banana 🍌\", \"quantity\": 20, \"price\": 0.20},\n",
    "]\n",
    "\n",
    "proceed = 'y'\n",
    "\n",
    "while proceed == 'y':\n",
    "    item_name = input(\"What is the product name?\")\n",
    "    item_qty = int(input(\"What is the quantity?\"))\n",
    "    item_price = float(input(\"What is the price?\"))\n",
    "\n",
    "    product = {\"name\": item_name, \"quantity\": item_qty, \"price\": item_price}\n",
    "    inventory.append(product)\n",
    "    print(inventory)\n",
    "    proceed = input(\"Would you like add another product? (Y/N)\").lower()\n",
    "    if proceed == 'n':\n",
    "        break\n",
    "    "
   ]
  },
  {
   "cell_type": "code",
   "execution_count": null,
   "metadata": {},
   "outputs": [],
   "source": [
    "inventory = [\n",
    "    {\"name\": \"Apple 🍎\", \"quantity\": 30, \"price\": 0.50},\n",
    "    {\"name\": \"Banana 🍌\", \"quantity\": 20, \"price\": 0.20},\n",
    "]\n",
    "\n",
    "proceed = 'y'\n",
    "\n",
    "# Loop, Condition, Op, input, dict, List\n",
    "while proceed == 'y':\n",
    "    item_name = input(\"What is the product name?\")\n",
    "    item_qty = int(input(\"What is the quantity?\"))\n",
    "    item_price = float(input(\"What is the price?\"))\n",
    "\n",
    "    product = {\"name\": item_name, \"quantity\": item_qty, \"price\": item_price}\n",
    "    inventory.append(product)\n",
    "    print(inventory)\n",
    "    proceed = input(\"Would you like add another product? (Y/N)\").lower()"
   ]
  },
  {
   "cell_type": "code",
   "execution_count": 10,
   "metadata": {},
   "outputs": [
    {
     "name": "stdout",
     "output_type": "stream",
     "text": [
      "Hello\n",
      "Hello\n",
      "Hello\n",
      "Hello\n",
      "Hello\n",
      "Hello\n",
      "Hello\n",
      "Hello\n",
      "Hello\n"
     ]
    }
   ],
   "source": [
    "count = 1\n",
    "while True:\n",
    "    print(\"Hello\")\n",
    "    count += 1\n",
    "    if count == 10:\n",
    "        break\n",
    "    \n",
    "# break -> stops the loop    \n",
    "    "
   ]
  },
  {
   "cell_type": "code",
   "execution_count": 13,
   "metadata": {},
   "outputs": [
    {
     "name": "stdout",
     "output_type": "stream",
     "text": [
      "Hello\n",
      "Hello\n",
      "Hello\n",
      "Hello\n",
      "Hello\n",
      "Hello\n",
      "Hello\n",
      "Hello\n",
      "Hello\n",
      "Hello\n"
     ]
    }
   ],
   "source": [
    "count = 1\n",
    "while count <= 10:\n",
    "    print(\"Hello\")\n",
    "    count += 1"
   ]
  },
  {
   "cell_type": "code",
   "execution_count": null,
   "metadata": {},
   "outputs": [],
   "source": [
    "\n",
    " "
   ]
  }
 ],
 "metadata": {
  "kernelspec": {
   "display_name": ".venv",
   "language": "python",
   "name": "python3"
  },
  "language_info": {
   "codemirror_mode": {
    "name": "ipython",
    "version": 3
   },
   "file_extension": ".py",
   "mimetype": "text/x-python",
   "name": "python",
   "nbconvert_exporter": "python",
   "pygments_lexer": "ipython3",
   "version": "3.13.2"
  }
 },
 "nbformat": 4,
 "nbformat_minor": 2
}
