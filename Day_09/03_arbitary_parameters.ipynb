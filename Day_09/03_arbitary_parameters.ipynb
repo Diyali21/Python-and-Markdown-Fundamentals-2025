{
 "cells": [
  {
   "cell_type": "code",
   "execution_count": null,
   "metadata": {},
   "outputs": [],
   "source": [
    "max(9, 6)\n",
    "max(3, 4, 5, 6)\n",
    "max(3, 4, 5, 6, 7, 2, 3, 10, 1)"
   ]
  },
  {
   "cell_type": "code",
   "execution_count": null,
   "metadata": {},
   "outputs": [],
   "source": [
    "def own_max(*nums):  # * -> Collect all the arguments\n",
    "    # Write normal for loop and return max value\n",
    "    pass\n",
    "   \n",
    "   \n",
    "own_max(9, 6)\n",
    "own_max(3, 4, 5, 6)\n",
    "own_max(3, 4, 5, 6, 7, 2, 3, 10, 1)    "
   ]
  },
  {
   "cell_type": "code",
   "execution_count": null,
   "metadata": {},
   "outputs": [],
   "source": [
    "def own_max(*nums):  # * -> Collect all the arguments\n",
    "    # Write normal for loop and return max value\n",
    "    highest = nums[0]\n",
    "    for num in nums:\n",
    "        if num > highest:\n",
    "            highest = num\n",
    "    return highest         \n",
    "   \n",
    "   \n",
    "print(own_max(9, 6))\n",
    "print(own_max(3, 4, 5, 6))\n",
    "print(own_max(3, 7, 2, 10, 1))\n",
    "print(own_max(9))\n",
    "print(own_max(-1, -8, -2))\n"
   ]
  },
  {
   "cell_type": "code",
   "execution_count": null,
   "metadata": {},
   "outputs": [],
   "source": [
    "def own_max(*nums):  # * -> Collect all the arguments\n",
    "    # Write normal for loop and return max value\n",
    "    if len(nums) == 0:\n",
    "        return \"Please provide some values\"\n",
    "    \n",
    "    highest = nums[0]\n",
    "    for num in nums:\n",
    "        if num > highest:\n",
    "            highest = num\n",
    "    return highest         \n",
    "   "
   ]
  },
  {
   "cell_type": "code",
   "execution_count": null,
   "metadata": {},
   "outputs": [
    {
     "name": "stdout",
     "output_type": "stream",
     "text": [
      "Please provide some values\n",
      "9\n",
      "6\n",
      "10\n",
      "9\n",
      "-1\n"
     ]
    }
   ],
   "source": [
    "def own_max(*nums):  # * -> Collect all the arguments\n",
    "    # Write normal for loop and return max value\n",
    "    if not nums:\n",
    "        return \"Please provide some values\"\n",
    "    \n",
    "    highest = nums[0]\n",
    "    for num in nums:\n",
    "        if num > highest:\n",
    "            highest = num\n",
    "    return highest         \n",
    "   \n",
    "   \n",
    "print(own_max())\n",
    "print(own_max(9, 6))\n",
    "print(own_max(3, 4, 5, 6))\n",
    "print(own_max(3, 7, 2, 10, 1))\n",
    "print(own_max(9))\n",
    "print(own_max(-1, -8, -2))"
   ]
  },
  {
   "cell_type": "code",
   "execution_count": null,
   "metadata": {},
   "outputs": [
    {
     "name": "stdout",
     "output_type": "stream",
     "text": [
      "👋 😄 ('👋', '✅', '🥔', '🥕')\n"
     ]
    }
   ],
   "source": [
    "def fun(s1, s2, *emoji):  # * -> Collect all the arguments -> unpacking operator (Position args)\n",
    "    # Write normal for loop and return max value \n",
    "    print(s1, s2, emoji)   \n",
    "\n",
    "fun(\"👋\" , '😄' , \"👋\", \"✅\", \"🥔\", \"🥕\")"
   ]
  },
  {
   "cell_type": "code",
   "execution_count": null,
   "metadata": {},
   "outputs": [],
   "source": [
    "# Position Arg - * -> Collect all pos args\n",
    "# Keyword Args - ** -> Collect all kw args"
   ]
  },
  {
   "cell_type": "code",
   "execution_count": null,
   "metadata": {},
   "outputs": [
    {
     "name": "stdout",
     "output_type": "stream",
     "text": [
      "{'name': 'Cool', 'age': '20', 'car': 'BMW'}\n",
      "name Cool\n",
      "age 20\n",
      "car BMW\n"
     ]
    }
   ],
   "source": [
    "def fun1(**details):\n",
    "    print(details)\n",
    "    for key, value in details.items():\n",
    "        print(key, value)\n",
    "    \n",
    " \n",
    "fun1(name=\"Cool\", age=\"20\", car=\"BMW\")   # ** -> Collect all kw args\n",
    "    "
   ]
  },
  {
   "cell_type": "code",
   "execution_count": 15,
   "metadata": {},
   "outputs": [
    {
     "name": "stdout",
     "output_type": "stream",
     "text": [
      "('👋', '😄', '👋') {'name': 'Cool', 'age': '20', 'car': 'BMW'}\n"
     ]
    }
   ],
   "source": [
    "def fun2(*emoji, **details):  \n",
    "    print(emoji, details)   \n",
    "\n",
    "fun2(\"👋\" , '😄' , \"👋\", name=\"Cool\", age=\"20\", car=\"BMW\")"
   ]
  },
  {
   "cell_type": "code",
   "execution_count": 23,
   "metadata": {},
   "outputs": [
    {
     "name": "stdout",
     "output_type": "stream",
     "text": [
      "Feeling 🙂 this morning 🌅.\n",
      "Feeling 😎 this afternoon ☀️.\n"
     ]
    }
   ],
   "source": [
    "# Task 1.1\n",
    "\n",
    "def mood_report(mood=\"🙂\", time_of_day=\"morning 🌅\"):\n",
    "    return f\"Feeling {mood} this {time_of_day}.\"\n",
    "\n",
    "# Example outputs:\n",
    "print(mood_report())                              # \"Feeling 🙂 this morning 🌅.\"\n",
    "print(mood_report(mood=\"😎\", time_of_day=\"afternoon ☀️\"))  # \"Feeling 😎 this afternoon ☀️.\""
   ]
  },
  {
   "cell_type": "code",
   "execution_count": null,
   "metadata": {},
   "outputs": [],
   "source": [
    "# Task 1.2\n",
    "\n",
    "books = [\n",
    "    {\"title\": \"1984\", \"author\": \"George Orwell\", \"year\": 1949},\n",
    "    {\"author\": \"J.K. Rowling\"},  # Missing title and year\n",
    "    {\"title\": \"The Great Gatsby\", \"author\": \"F. Scott Fitzgerald\", \"year\": 1925},\n",
    "    {\"title\": \"To Kill a Mockingbird\", \"year\": 1960},  # Missing author\n",
    "    {\"author\": \"Ernest Hemingway\", \"year\": 1952}  # Missing title\n",
    "]\n",
    "\n",
    "def format_book_info():\n",
    "    pass\n",
    "\n",
    "# Output\n",
    "# '1984' by George Orwell (1949)\n",
    "# 'Untitled' by J.K. Rowling (N/A)\n",
    "# 'The Great Gatsby' by F. Scott Fitzgerald (1925)\n",
    "# 'To Kill a Mockingbird' by Unknown (1960)\n",
    "# 'Untitled' by Ernest Hemingway (1952)\n",
    "\n"
   ]
  },
  {
   "cell_type": "code",
   "execution_count": null,
   "metadata": {},
   "outputs": [
    {
     "data": {
      "text/plain": [
       "'Inganathi is eligible for driving test. You will be tested with Polo Vivo'"
      ]
     },
     "execution_count": 25,
     "metadata": {},
     "output_type": "execute_result"
    }
   ],
   "source": [
    "def driving_test2(name=\"Mr./Mrs. cool\", age=0, car=\"Polo Vivo\"): # Default value - Order matters ✅\n",
    "    if age >= 18:\n",
    "        return f\"{name} is eligible for driving test. You will be tested with {car}\"\n",
    "    else:\n",
    "        return \"Try again after few years 👶🍼\"\n",
    "    \n",
    "  \n",
    "student = {\n",
    "      \"name\": 'Inganathi',\n",
    "      \"age\": 19,\n",
    "      \"car\": \"Toyota\"\n",
    "}\n",
    "    \n",
    "    \n",
    "print(driving_test2(student['name'], student[\"age\"], student['car']) )\n",
    "print(driving_test2(student['name'], student[\"age\"]))"
   ]
  },
  {
   "cell_type": "code",
   "execution_count": null,
   "metadata": {},
   "outputs": [
    {
     "name": "stdout",
     "output_type": "stream",
     "text": [
      "Inganathi is eligible for driving test. You will be tested with Toyota\n",
      "Inganathi is eligible for driving test. You will be tested with Toyota\n"
     ]
    }
   ],
   "source": [
    "def driving_test2(name=\"Mr./Mrs. cool\", age=0, car=\"Polo Vivo\"): # Default value - Order matters ✅\n",
    "    if age >= 18:\n",
    "        return f\"{name} is eligible for driving test. You will be tested with {car}\"\n",
    "    else:\n",
    "        return \"Try again after few years 👶🍼\"\n",
    "    \n",
    "  \n",
    "student = {\n",
    "      \"name\": 'Inganathi',\n",
    "      \"age\": 19,\n",
    "      \"car\": \"Toyota\"\n",
    "}\n",
    "    \n",
    "    \n",
    "print(driving_test2(**student)) # Short form -> Unpacking dictionary into KW args\n",
    "print(driving_test2(name=\"Inganathi\", age=19, car=\"Toyota\"))  # 3 KW\n"
   ]
  },
  {
   "cell_type": "code",
   "execution_count": null,
   "metadata": {},
   "outputs": [
    {
     "name": "stdout",
     "output_type": "stream",
     "text": [
      "6 7\n"
     ]
    }
   ],
   "source": [
    "def fun3(n1, n2): # Keyword args\n",
    "    print(n1, n2)\n",
    "    \n",
    "vals =  {\n",
    "    \"n1\": 6,\n",
    "    \"n2\": 7\n",
    "}\n",
    "\n",
    "fun3(n1=6, n2=7)    # 2 KW\n",
    "fun3(**vals) "
   ]
  }
 ],
 "metadata": {
  "kernelspec": {
   "display_name": "Python 3",
   "language": "python",
   "name": "python3"
  },
  "language_info": {
   "codemirror_mode": {
    "name": "ipython",
    "version": 3
   },
   "file_extension": ".py",
   "mimetype": "text/x-python",
   "name": "python",
   "nbconvert_exporter": "python",
   "pygments_lexer": "ipython3",
   "version": "3.11.3"
  }
 },
 "nbformat": 4,
 "nbformat_minor": 2
}
