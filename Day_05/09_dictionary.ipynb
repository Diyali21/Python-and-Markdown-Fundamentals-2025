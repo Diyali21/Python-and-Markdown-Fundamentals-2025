{
 "cells": [
  {
   "cell_type": "markdown",
   "metadata": {},
   "source": [
    "# Dictionary\n",
    "\n",
    "- Store mixed datatypes & multiple values\n",
    "- Key & Value pairs"
   ]
  },
  {
   "cell_type": "code",
   "execution_count": null,
   "metadata": {},
   "outputs": [],
   "source": [
    "spiderman = {\n",
    "    \"name\": \"Peter Parker\",\n",
    "    \"age\": 18,\n",
    "    \"team_name\": \"Avengers\",\n",
    "    \"team\": [\"Iron Man\", \"Thor\", \"Hulk\", \"Captain America\"]\n",
    "}\n",
    "spiderman['name'] # keys (Dict) equivalent to index (List)\n"
   ]
  },
  {
   "cell_type": "code",
   "execution_count": null,
   "metadata": {},
   "outputs": [],
   "source": [
    "# Update\n",
    "spiderman[\"name\"] = \"Peter 🕷️\"\n",
    "spiderman"
   ]
  },
  {
   "cell_type": "code",
   "execution_count": null,
   "metadata": {},
   "outputs": [],
   "source": [
    "# age 19\n",
    "\n",
    "spiderman[\"age\"] = spiderman[\"age\"] + 1\n",
    "spiderman\n",
    "spiderman[\"age\"] += 1\n",
    "spiderman"
   ]
  },
  {
   "cell_type": "markdown",
   "metadata": {},
   "source": [
    "## Dictionary Methods\n",
    "1. `keys()`\n",
    "2. `values()`\n",
    "3. `items()`"
   ]
  },
  {
   "cell_type": "code",
   "execution_count": null,
   "metadata": {},
   "outputs": [],
   "source": [
    "print(spiderman.keys())  # List of keys\n",
    "for key in spiderman.keys():\n",
    "    print(key)\n"
   ]
  },
  {
   "cell_type": "code",
   "execution_count": null,
   "metadata": {},
   "outputs": [],
   "source": [
    "for val in spiderman.values():\n",
    "    print(val)"
   ]
  },
  {
   "cell_type": "code",
   "execution_count": null,
   "metadata": {},
   "outputs": [],
   "source": [
    "for val in spiderman.items():  # Tuples of key & value\n",
    "    print(val)"
   ]
  }
 ],
 "metadata": {
  "language_info": {
   "name": "python"
  }
 },
 "nbformat": 4,
 "nbformat_minor": 2
}
