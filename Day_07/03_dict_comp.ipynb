{
 "cells": [
  {
   "cell_type": "code",
   "execution_count": null,
   "metadata": {},
   "outputs": [],
   "source": [
    "# Task\n",
    "# Creating the below dictionary with for loop\n",
    "\n",
    "{\"1\": 1, \"2\": 4, \"3\": 9, \"4\": 16, \"5\": 25}"
   ]
  },
  {
   "cell_type": "code",
   "execution_count": null,
   "metadata": {},
   "outputs": [],
   "source": [
    "for i in range(1, 6):\n",
    "    square = {f\"{i}\": i * i}\n",
    "    print(square)"
   ]
  },
  {
   "cell_type": "code",
   "execution_count": null,
   "metadata": {},
   "outputs": [],
   "source": [
    "nums = {i: i ** 2 for i in range(1, 6)}"
   ]
  },
  {
   "cell_type": "markdown",
   "metadata": {},
   "source": [
    "### Task 1.1: Odd/Even Classification\n",
    " \n",
    "Create a dictionary where keys are numbers from 1 to 10 and values are strings indicating whether the number is 'odd' or 'even'.\n",
    " \n",
    "**Expected Output:**\n",
    "```python\n",
    "{1: 'odd', 2: 'even', 3: 'odd', 4: 'even', 5: 'odd', 6: 'even', 7: 'odd', 8: 'even', 9: 'odd', 10: 'even'}\n",
    "```"
   ]
  },
  {
   "cell_type": "code",
   "execution_count": null,
   "metadata": {},
   "outputs": [],
   "source": [
    "num = [{i: \"odd\" if i % 2 != 0 else \"even\"} for i in range(1, 11)]\n"
   ]
  },
  {
   "cell_type": "markdown",
   "metadata": {},
   "source": [
    "### Task 1.2: Filtering Fruits by Price\n",
    "\n",
    "Given a dictionary of fruits with their prices, filter it to include only fruits priced above 2.\n",
    "\n",
    "```python\n",
    "fruits = {'apple': 1.2, 'banana': 2.5, 'orange': 3.0, 'kiwi': 4.0}\n",
    "```\n",
    "\n",
    "**Expected Output:**\n",
    "```python\n",
    "{'banana': 2.5, 'orange': 3.0, 'kiwi': 4.0}\n",
    "```"
   ]
  },
  {
   "cell_type": "code",
   "execution_count": null,
   "metadata": {},
   "outputs": [],
   "source": [
    "fruits = {\"apple\": 1.2, \"banana\": 2.5, \"orange\": 3.0, \"kiwi\": 4.0}\n",
    "fruits_above_two = {}\n",
    "fruits_above_two = {key: val for key, val in fruits.items() if val > 2}\n",
    "print(fruits_above_two)"
   ]
  },
  {
   "cell_type": "markdown",
   "metadata": {},
   "source": [
    "### Task 1.3: Employee ID to Name Mapping\n",
    "\n",
    "Given a list of employee dictionaries, create a dictionary mapping each employee's ID to their name.\n",
    "\n",
    "```python\n",
    "employees = [\n",
    "    {\"id\": 101, \"name\": \"Alice\", \"age\": 30},\n",
    "    {\"id\": 102, \"name\": \"Bob\", \"age\": 25},\n",
    "    {\"id\": 103, \"name\": \"Charlie\", \"age\": 35}\n",
    "]\n",
    "```\n",
    "\n",
    "**Expected Output:**\n",
    "```python\n",
    "{101: 'Alice', 102: 'Bob', 103: 'Charlie'}\n",
    "```"
   ]
  },
  {
   "cell_type": "code",
   "execution_count": null,
   "metadata": {},
   "outputs": [],
   "source": [
    "employees = [\n",
    "    {\"id\": 101, \"name\": \"Alice\", \"age\": 30},\n",
    "    {\"id\": 102, \"name\": \"Bob\", \"age\": 25},\n",
    "    {\"id\": 103, \"name\": \"Charlie\", \"age\": 35},\n",
    "]\n",
    "emp = {employee[\"id\"]: employee[\"name\"] for employee in employees}\n",
    "print(emp)\n"
   ]
  },
  {
   "cell_type": "markdown",
   "metadata": {},
   "source": [
    "### Task 1.4: Filtered Employee ID to Age Mapping\n",
    "\n",
    "From the same list of employee dictionaries, create a dictionary mapping employee IDs to ages, but only include those over 28.\n",
    "\n",
    "**Expected Output:**\n",
    "```python\n",
    "{101: 30, 103: 35}\n",
    "```"
   ]
  },
  {
   "cell_type": "code",
   "execution_count": null,
   "metadata": {},
   "outputs": [],
   "source": [
    "emp = {employee[\"id\"]: employee[\"age\"] for employee in employees if employee[\"age\"] > 28}\n",
    "print(emp)\n"
   ]
  }
 ],
 "metadata": {
  "language_info": {
   "name": "python"
  }
 },
 "nbformat": 4,
 "nbformat_minor": 2
}
