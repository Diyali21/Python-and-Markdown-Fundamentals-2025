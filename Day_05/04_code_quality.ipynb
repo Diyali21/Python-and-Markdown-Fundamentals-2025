{
 "cells": [
  {
   "cell_type": "markdown",
   "metadata": {},
   "source": [
    "# 5 Pillars Code Quality\n",
    "1. Readability\n",
    "  - 75% Reading code\n",
    "  - Code communicate idea to other devs\n",
    "2. Maintainability ⬇️ - Code Debt ⬆️\n",
    "  - Modular\n",
    "  - Scalable\n",
    "3. Extensibility - Adding features must easy\n",
    "   - Camera - Change lens\n",
    "4. Testability - Easily testable\n",
    "5. Performance\n",
    "   - Don't sacrifice Readability for Performance"
   ]
  },
  {
   "cell_type": "markdown",
   "metadata": {},
   "source": [
    "## Code Debt?\n",
    "Promise you make that I will make the code better tomorrow. But tomorrow comes\n",
    "\n",
    "Startups = Code Debt ⬆️ & Time ⬇️\n",
    "Ideas ⬆️"
   ]
  }
 ],
 "metadata": {
  "language_info": {
   "name": "python"
  }
 },
 "nbformat": 4,
 "nbformat_minor": 2
}
