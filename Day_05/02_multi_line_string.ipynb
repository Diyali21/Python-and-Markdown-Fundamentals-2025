{
 "cells": [
  {
   "cell_type": "markdown",
   "metadata": {},
   "source": [
    "# Multi Line String\n",
    "- Normal String - `\"\"`,`''`\n",
    "- Triple Double or Triple Single quote\n",
    "- Works with f-string"
   ]
  },
  {
   "cell_type": "code",
   "execution_count": null,
   "metadata": {},
   "outputs": [],
   "source": [
    "msg1 = \"This is super cool\"\n",
    "msg2 = 'This is super cool'\n",
    "\n",
    "print(msg1, msg2)"
   ]
  },
  {
   "cell_type": "code",
   "execution_count": null,
   "metadata": {},
   "outputs": [],
   "source": [
    "msg3 = \"This is super cool\\nThis is amazing\" # \\n -> new line character\n",
    "print(msg3)"
   ]
  },
  {
   "cell_type": "code",
   "execution_count": null,
   "metadata": {},
   "outputs": [],
   "source": [
    "msg4 = \"\"\"This is super cool\n",
    "This is amazing\"\"\"\n",
    "print(msg4)"
   ]
  },
  {
   "cell_type": "code",
   "execution_count": null,
   "metadata": {},
   "outputs": [],
   "source": [
    "followers = 2_000\n",
    "\n",
    "msg5 = f'''This is super cool\n",
    "This is amazing\n",
    "Siyanda has {followers}\n",
    "'''\n",
    "\n",
    "print(msg5)"
   ]
  },
  {
   "cell_type": "markdown",
   "metadata": {},
   "source": [
    "# Task 2.2 refactored"
   ]
  },
  {
   "cell_type": "code",
   "execution_count": null,
   "metadata": {},
   "outputs": [],
   "source": [
    "shopping_items = [1000, 5000, 4000, 2000, 3000]\n",
    "sum_items = 0\n",
    "\n",
    "for item in shopping_items:\n",
    "    sum_items = sum_items + item\n",
    "\n",
    "tax = sum_items * 0.1\n",
    "total = sum_items + tax\n",
    "print(\n",
    "    f\"\"\"\n",
    "Your total is R{sum_items}\n",
    "Tax is 10%   R{tax}\n",
    "Your grand total is R{total}\n",
    "\"\"\"\n",
    ")"
   ]
  }
 ],
 "metadata": {
  "language_info": {
   "name": "python"
  }
 },
 "nbformat": 4,
 "nbformat_minor": 2
}
