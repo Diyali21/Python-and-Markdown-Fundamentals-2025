{
 "cells": [
  {
   "cell_type": "markdown",
   "metadata": {},
   "source": [
    "# Intro List\n",
    "- Motivation: Holds multiple values\n",
    "- Non-primitive data type\n",
    "- Same data types (Recommended)\n",
    "- Mixing data types allowed (But don't ❌)\n",
    "- Methods\n",
    "  - Create - marks = [80, 90, 70, 45, 95] ✅\n",
    "  - Read - Index & slice - ✅\n",
    "  - Update - index (mutates), `append()` , `insert()`\n",
    "  - Delete - `remove()`, `pop()`"
   ]
  },
  {
   "cell_type": "code",
   "execution_count": null,
   "metadata": {},
   "outputs": [],
   "source": [
    "mark1 = 80\n",
    "mark2 = 90\n",
    "mark3 = 70\n",
    "mark4 = 45\n",
    "mark5 = 95"
   ]
  },
  {
   "cell_type": "code",
   "execution_count": null,
   "metadata": {},
   "outputs": [],
   "source": [
    "marks = [80, 90, 70, 45, 95] # array or list\n",
    "print(marks, type(marks))"
   ]
  },
  {
   "cell_type": "code",
   "execution_count": null,
   "metadata": {},
   "outputs": [],
   "source": [
    "values = [True, 'abc', 6]\n",
    "print(values)"
   ]
  },
  {
   "cell_type": "markdown",
   "metadata": {},
   "source": [
    "## Index\n",
    "- +ve works\n",
    "- -ve works"
   ]
  },
  {
   "cell_type": "code",
   "execution_count": null,
   "metadata": {},
   "outputs": [],
   "source": [
    "marks = [80, 90, 70, 45, 95]\n",
    "print(marks[2])"
   ]
  },
  {
   "cell_type": "code",
   "execution_count": null,
   "metadata": {},
   "outputs": [],
   "source": [
    "print(marks[4])\n",
    "print(marks[-1])"
   ]
  },
  {
   "cell_type": "markdown",
   "metadata": {},
   "source": [
    "## Slice"
   ]
  },
  {
   "cell_type": "code",
   "execution_count": null,
   "metadata": {},
   "outputs": [],
   "source": [
    "print(marks[1:])\n",
    "print(marks[1:5])"
   ]
  },
  {
   "cell_type": "code",
   "execution_count": null,
   "metadata": {},
   "outputs": [],
   "source": [
    "print(marks[::-1])"
   ]
  },
  {
   "cell_type": "code",
   "execution_count": null,
   "metadata": {},
   "outputs": [],
   "source": [
    "fruits = [\"🍎\", \"🍊\", \"🍓\", \"🍍\"]  # list of strings\n",
    "vegetables = [\"🥕\", \"🥒\", \"🍆\", \"🥔\"]\n",
    "\n",
    "print(fruits + vegetables)\n",
    "print(marks)\n"
   ]
  },
  {
   "cell_type": "markdown",
   "metadata": {},
   "source": [
    "## Repetition operator (*)"
   ]
  },
  {
   "cell_type": "code",
   "execution_count": null,
   "metadata": {},
   "outputs": [],
   "source": [
    "vegetables * 2"
   ]
  },
  {
   "cell_type": "code",
   "execution_count": null,
   "metadata": {},
   "outputs": [],
   "source": [
    "\"💓\" * 20"
   ]
  },
  {
   "cell_type": "code",
   "execution_count": null,
   "metadata": {},
   "outputs": [],
   "source": [
    "vegetables = [\"🥕\", \"🥒\", \"🍆\", \"🥔\"] # count elements in a list\n",
    "len(vegetables) # 4"
   ]
  },
  {
   "cell_type": "code",
   "execution_count": null,
   "metadata": {},
   "outputs": [],
   "source": [
    "vegetables = [\"Carrot 🥕\", \"🥒\", \"🍆\", \"🥔\"]  # count elements in a list\n",
    "len(vegetables)  # 4\n"
   ]
  },
  {
   "cell_type": "code",
   "execution_count": null,
   "metadata": {},
   "outputs": [],
   "source": [
    "len(\"Siyanda\") # 7 characters"
   ]
  },
  {
   "cell_type": "markdown",
   "metadata": {},
   "source": [
    "# Update"
   ]
  },
  {
   "cell_type": "code",
   "execution_count": null,
   "metadata": {},
   "outputs": [],
   "source": [
    "fruits = [\"🍎\", \"🍊\", \"🍓\", \"🍍\"]\n",
    "# Replace \"🍊\" -> \"🫐\"\n",
    "fruits[1] = \"🫐\"\n",
    "\n",
    "fruits #mutable"
   ]
  },
  {
   "cell_type": "code",
   "execution_count": null,
   "metadata": {},
   "outputs": [],
   "source": [
    "fruits = [\"🍎\", \"🍊\", \"🍓\", \"🍍\"]\n",
    "\n",
    "fruits = fruits[:1] + [\"🍌\"] + fruits[2:]"
   ]
  },
  {
   "cell_type": "markdown",
   "metadata": {},
   "source": [
    "# Add\n",
    "- `append()` - add at end\n",
    "- `insert()` - middle"
   ]
  },
  {
   "cell_type": "code",
   "execution_count": null,
   "metadata": {},
   "outputs": [],
   "source": [
    "marks = [80, 90, 100, 60, 85]\n",
    "\n",
    "marks.append(100)\n",
    "marks"
   ]
  },
  {
   "cell_type": "code",
   "execution_count": null,
   "metadata": {},
   "outputs": [],
   "source": [
    "marks = [80, 90, 100, 60, 85]\n",
    "\n",
    "marks.insert(2, 55)\n",
    "marks"
   ]
  },
  {
   "cell_type": "code",
   "execution_count": null,
   "metadata": {},
   "outputs": [],
   "source": [
    "avengers = [\n",
    "    \"Hulk\",\n",
    "    \"Iron man\",\n",
    "    \"Black widow\",\n",
    "    \"Captain america\",\n",
    "    \"Spider man\",\n",
    "    \"Thor\"\n",
    "]\n",
    "\n",
    "avengers.pop()\n",
    "avengers"
   ]
  },
  {
   "cell_type": "code",
   "execution_count": null,
   "metadata": {},
   "outputs": [],
   "source": [
    "avengers = [\"Hulk\", \"Iron man\", \"Black widow\", \"Captain america\", \"Spider man\", \"Thor\"]\n",
    "\n",
    "avengers.pop(2)\n",
    "avengers"
   ]
  },
  {
   "cell_type": "code",
   "execution_count": null,
   "metadata": {},
   "outputs": [],
   "source": [
    "avengers = [\"Hulk\", \"Iron man\", \"Black widow\", \"Captain america\", \"Spider man\", \"Thor\", \"Spider man\"]\n",
    "\n",
    "avengers.remove(\"Spider man\")\n",
    "avengers"
   ]
  },
  {
   "cell_type": "markdown",
   "metadata": {},
   "source": [
    "## Task\n",
    "Print each number in separate line"
   ]
  },
  {
   "cell_type": "code",
   "execution_count": null,
   "metadata": {},
   "outputs": [],
   "source": [
    "marks = [80, 90, 100, 60, 85]\n",
    "\n",
    "# 5 == no of elements\n",
    "for i in range(len(marks)):\n",
    "    print(i, marks[i])\n"
   ]
  },
  {
   "cell_type": "markdown",
   "metadata": {},
   "source": [
    "Task 1.1\n",
    "Find the letters in each characters name\n",
    "Ouput\n",
    "[4, 8, 11, 15, 10, 4]"
   ]
  },
  {
   "cell_type": "code",
   "execution_count": null,
   "metadata": {},
   "outputs": [],
   "source": [
    "avengers = [\"Hulk\", \"Iron man\", \"Black widow\", \"Captain america\", \"Spider man\", \"Thor\"]\n",
    "num_avengers = []\n",
    "\n",
    "\n",
    "for i in range(len(avengers)):\n",
    "    num_avengers.insert(i, len(avengers[i]))\n",
    "num_avengers"
   ]
  },
  {
   "cell_type": "markdown",
   "metadata": {},
   "source": [
    "Task 1.2\n",
    "Find longer names"
   ]
  },
  {
   "cell_type": "code",
   "execution_count": null,
   "metadata": {},
   "outputs": [],
   "source": [
    "avengers = [\"Hulk\", \"Iron man\", \"Black widow\", \"Captain america\", \"Spider man\", \"Thor\"]\n",
    "\n",
    "for i in range(len(avengers)):\n",
    "    if len(avengers[i]) > 10:\n",
    "        avengers[i]"
   ]
  },
  {
   "cell_type": "markdown",
   "metadata": {},
   "source": [
    "## Task 2.1\n",
    " \n",
    "Calculate the total of shopping_items & apply tax of 10%\n",
    " \n",
    "```py\n",
    "shopping_items = [1000, 5000,  4000, 2000, 3000]\n",
    "```\n",
    " \n",
    " \n",
    "Expected Output\n",
    " \n",
    "```\n",
    "Your total is R15000\n",
    "Tax is 10%      R1500\n",
    "Your grand total is R16500\n",
    "```\n",
    " "
   ]
  },
  {
   "cell_type": "code",
   "execution_count": null,
   "metadata": {},
   "outputs": [],
   "source": [
    "shopping_items = [1000, 5000, 4000, 2000, 3000]\n",
    "sum = 0\n",
    "\n",
    "for i in range(len(shopping_items)):\n",
    "    sum = sum + shopping_items[i]\n",
    "print(f\"Your total is R{sum}\")\n",
    "tax = sum * 0.1\n",
    "print(f\"Tax is 10%     R{tax}\")\n",
    "total = sum + tax\n",
    "print(f\"Your grand total is R{total}\")"
   ]
  },
  {
   "cell_type": "markdown",
   "metadata": {},
   "source": [
    "# Numeric Separators"
   ]
  },
  {
   "cell_type": "code",
   "execution_count": null,
   "metadata": {},
   "outputs": [],
   "source": [
    "x = 10_000_000\n",
    "print(x)\n",
    "\n",
    "print(3_000 + 5_000)"
   ]
  },
  {
   "cell_type": "code",
   "execution_count": null,
   "metadata": {},
   "outputs": [],
   "source": [
    "y = 5,600 # ❌ (Creates a tuple)\n",
    "print(y)"
   ]
  },
  {
   "cell_type": "markdown",
   "metadata": {},
   "source": [
    "# For loop with List\n",
    "1. `for with index` - When index & value is needed\n",
    "2. `Simple for loop` - Only when need value"
   ]
  },
  {
   "cell_type": "code",
   "execution_count": null,
   "metadata": {},
   "outputs": [],
   "source": [
    "powers = [90, 80, 50, 65]\n",
    "\n",
    "for idx in range(len(powers)):\n",
    "    print(idx, powers[idx] * 2)"
   ]
  },
  {
   "cell_type": "code",
   "execution_count": null,
   "metadata": {},
   "outputs": [],
   "source": [
    "powers = [90, 80, 50, 65]\n",
    "\n",
    "# Simple for loop\n",
    "for power in powers:\n",
    "    print(power, power * 2)\n"
   ]
  }
 ],
 "metadata": {
  "kernelspec": {
   "display_name": "Python 3",
   "language": "python",
   "name": "python3"
  },
  "language_info": {
   "name": "python",
   "version": "3.10.2"
  }
 },
 "nbformat": 4,
 "nbformat_minor": 2
}
