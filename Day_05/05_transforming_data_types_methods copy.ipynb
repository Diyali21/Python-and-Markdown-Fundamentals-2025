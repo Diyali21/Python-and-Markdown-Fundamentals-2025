{
 "cells": [
  {
   "cell_type": "markdown",
   "metadata": {},
   "source": [
    "# `join()`\n",
    "**List to string**"
   ]
  },
  {
   "cell_type": "code",
   "execution_count": null,
   "metadata": {},
   "outputs": [],
   "source": [
    "fruits = [\"🍎\", \"🍊\", \"🍓\", \"🍍\"]\n",
    "\",\".join(fruits)"
   ]
  },
  {
   "cell_type": "code",
   "execution_count": null,
   "metadata": {},
   "outputs": [],
   "source": [
    "\"|\".join(fruits) #List -> String"
   ]
  },
  {
   "cell_type": "markdown",
   "metadata": {},
   "source": [
    "##  String to List (Conversion)\n",
    "- `split()`\n",
    "- `split()` ❌ `join()`"
   ]
  },
  {
   "cell_type": "code",
   "execution_count": null,
   "metadata": {},
   "outputs": [],
   "source": [
    "ice_creams = \"mint|chocolate|vanilla\"\n",
    "\n",
    "ice_creams.split(\"|\")"
   ]
  },
  {
   "cell_type": "code",
   "execution_count": null,
   "metadata": {},
   "outputs": [],
   "source": [
    "ice_creams = \"mint|chocolate|vanilla\"\n",
    "\n",
    "ice_creams.split('o')"
   ]
  },
  {
   "cell_type": "code",
   "execution_count": null,
   "metadata": {},
   "outputs": [],
   "source": [
    "scrambled_message = \"world the save to time no is there\"\n",
    "\n",
    "# Output\n",
    "# there is no time to save the world\n",
    "\n",
    "scrambled_list = scrambled_message.split(\" \")\n",
    "\n",
    "unscrambled_list = scrambled_list[::-1]\n",
    "\n",
    "unscrambled_str = \" \".join(unscrambled_list)\n",
    "\n",
    "print(unscrambled_str)"
   ]
  },
  {
   "cell_type": "markdown",
   "metadata": {},
   "source": [
    "# Task 1.2\n",
    "\n",
    "```py\n",
    "playlist = \"🎵Dancing Queen;🎸Sweet Child O' Mine;🎹Piano Man;🎤Bohemian Rhapsody;🎺All That Jazz\"\n",
    "```\n",
    "\n",
    "## Output\n",
    "My favorite playlist:\n",
    "1. 🎵Dancing Queen\n",
    "2. 🎸Sweet Child O' Mine\n",
    "3. 🎹Piano Man\n",
    "4. 🎤Bohemian Rhapsody\n",
    "5. 🎺All That Jazz\n"
   ]
  },
  {
   "cell_type": "code",
   "execution_count": null,
   "metadata": {},
   "outputs": [],
   "source": [
    "playlist = \"🎵Dancing Queen;🎸Sweet Child O' Mine;🎹Piano Man;🎤Bohemian Rhapsody;🎺All That Jazz\"\n",
    "\n",
    "playlist_list = playlist.split(\";\")\n",
    "\n",
    "print(\"My favorite playlist:\")\n",
    "\n",
    "for i in range(len(playlist_list)):\n",
    "    print(f\"{i + 1}. {playlist_list[i]}\")\n"
   ]
  }
 ],
 "metadata": {
  "kernelspec": {
   "display_name": "Python 3",
   "language": "python",
   "name": "python3"
  },
  "language_info": {
   "name": "python",
   "version": "3.10.2"
  }
 },
 "nbformat": 4,
 "nbformat_minor": 2
}
