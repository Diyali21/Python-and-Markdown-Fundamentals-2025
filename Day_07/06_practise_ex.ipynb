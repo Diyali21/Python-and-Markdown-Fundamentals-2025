{
 "cells": [
  {
   "cell_type": "code",
   "execution_count": null,
   "metadata": {},
   "outputs": [],
   "source": [
    "guests = [{\n",
    "    \"name\": \"Alice\",\n",
    "    \"age\": 25,\n",
    "    \"code\": \"VIP123\"\n",
    "}, {\n",
    "    \"name\": \"Bob\",\n",
    "    \"age\": 17,\n",
    "    \"code\": \"VIP123\"\n",
    "}, {\n",
    "    \"name\": \"Charlie\",\n",
    "    \"age\": 30,\n",
    "    \"code\": \"VIP123\"\n",
    "}, {\n",
    "    \"name\": \"Dave\",\n",
    "    \"age\": 22,\n",
    "    \"code\": \"GUEST\"\n",
    "}, {\n",
    "    \"name\": \"Eve\",\n",
    "    \"age\": 29,\n",
    "    \"code\": \"VIP123\"\n",
    "}]\n",
    "\n",
    "\n",
    "\n",
    "blacklist = [\"Dave\", \"Eve\"]\n",
    "\n",
    "# Task\n",
    "# People who are 21 or above and VIP123\n",
    "# Blacklist are not allowed\n",
    "\n",
    "\n",
    "PASS_CODE = \"VIP123\"\n",
    "\n",
    "guestlist = [] # ?"
   ]
  },
  {
   "cell_type": "code",
   "execution_count": null,
   "metadata": {},
   "outputs": [],
   "source": [
    "# Task 1.1 - Simple for loop\n",
    "for guest in guests:\n",
    "    if (\n",
    "        guest[\"age\"] >= 21\n",
    "        and guest[\"code\"] == \"VIP123\"\n",
    "        and guest[\"name\"] not in blacklist\n",
    "    ):\n",
    "        guestlist.append(guest[\"name\"])\n",
    "print(guestlist)"
   ]
  },
  {
   "cell_type": "code",
   "execution_count": null,
   "metadata": {},
   "outputs": [],
   "source": [
    "# Task 1.2 - List comp\n",
    "print(\n",
    "    [\n",
    "        guest[\"name\"]\n",
    "        for guest in guests\n",
    "        if guest[\"age\"] >= 21\n",
    "        and guest[\"code\"] == \"VIP123\"\n",
    "        and guest[\"name\"] not in blacklist\n",
    "    ]\n",
    ")"
   ]
  },
  {
   "cell_type": "code",
   "execution_count": null,
   "metadata": {},
   "outputs": [],
   "source": [
    "# Task 2 (Challenging)\n",
    "\n",
    "# Restaurant menus with emoji food items and prices\n",
    "restaurant_menus = [\n",
    "    {\"restaurant\": \"Italian Place\", \"menu\": {\"🍕\": 12.99, \"🍝\": 10.99, \"🥖\": 3.99, \"🥗\": 7.99}},\n",
    "    {\"restaurant\": \"Burger Joint\", \"menu\": {\"🍔\": 8.99, \"🍟\": 3.99, \"🥤\": 1.99, \"🍦\": 4.99}},\n",
    "    {\"restaurant\": \"Sushi Bar\", \"menu\": {\"🍣\": 15.99, \"🍜\": 12.99, \"🍙\": 6.99, \"🍶\": 9.99}},\n",
    "    {\"restaurant\": \"Health Spot\", \"menu\": {\"🥗\": 9.99, \"🥙\": 8.99, \"🥑\": 4.99, \"🥝\": 3.99}},\n",
    "]\n",
    "\n",
    "# Expected output\n",
    "# Output\n",
    "{\n",
    "    'Italian Place': {'🥖': 3.99, '🥗': 7.99},\n",
    "    'Burger Joint': {'🍔': 8.99, '🍟': 3.99, '🥤': 1.99, '🍦': 4.99},\n",
    "    'Sushi Bar': {'🍙': 6.99},\n",
    "    'Health Spot': {'🥙': 8.99, '🥑': 4.99, '🥝': 3.99}\n",
    "}"
   ]
  },
  {
   "cell_type": "code",
   "execution_count": null,
   "metadata": {},
   "outputs": [],
   "source": [
    "# normal for loop (nesting)"
   ]
  },
  {
   "cell_type": "code",
   "execution_count": null,
   "metadata": {},
   "outputs": [],
   "source": [
    "# Comprehension (nesting)\n"
   ]
  }
 ],
 "metadata": {
  "language_info": {
   "name": "python"
  }
 },
 "nbformat": 4,
 "nbformat_minor": 2
}
