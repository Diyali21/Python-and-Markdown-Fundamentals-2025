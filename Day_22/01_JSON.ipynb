{
 "cells": [
  {
   "cell_type": "code",
   "execution_count": 9,
   "metadata": {},
   "outputs": [],
   "source": [
    "data = {\n",
    "    \"employees\": [\n",
    "        {\"name\": \"Alice\", \"age\": 30, \"department\": \"Sales\"},\n",
    "        {\"name\": \"Bob\", \"age\": 25, \"department\": \"Marketing\"},\n",
    "    ]\n",
    "}\n"
   ]
  },
  {
   "cell_type": "code",
   "execution_count": 10,
   "metadata": {},
   "outputs": [
    {
     "name": "stdout",
     "output_type": "stream",
     "text": [
      "<class 'dict'>\n",
      "30\n"
     ]
    }
   ],
   "source": [
    "print(type(data))\n",
    "print(data['employees'][0]['age'])"
   ]
  },
  {
   "cell_type": "code",
   "execution_count": 16,
   "metadata": {},
   "outputs": [],
   "source": [
    "import json"
   ]
  },
  {
   "cell_type": "code",
   "execution_count": 12,
   "metadata": {},
   "outputs": [
    {
     "name": "stdout",
     "output_type": "stream",
     "text": [
      "{\n",
      "    \"employees\": [\n",
      "        {\n",
      "            \"name\": \"Alice\",\n",
      "            \"age\": 30,\n",
      "            \"department\": \"Sales\"\n",
      "        },\n",
      "        {\n",
      "            \"name\": \"Bob\",\n",
      "            \"age\": 25,\n",
      "            \"department\": \"Marketing\"\n",
      "        }\n",
      "    ]\n",
      "} <class 'str'>\n"
     ]
    }
   ],
   "source": [
    "data_json = json.dumps(data, indent=4)\n",
    "\n",
    "print(data_json, type(data_json)) # JSON - JavaScript Object Notation"
   ]
  },
  {
   "cell_type": "code",
   "execution_count": 13,
   "metadata": {},
   "outputs": [
    {
     "data": {
      "text/plain": [
       "'W'"
      ]
     },
     "execution_count": 13,
     "metadata": {},
     "output_type": "execute_result"
    }
   ],
   "source": [
    "x  = \"Welcome\"\n",
    "x[0]"
   ]
  },
  {
   "cell_type": "code",
   "execution_count": null,
   "metadata": {},
   "outputs": [
    {
     "name": "stdout",
     "output_type": "stream",
     "text": [
      "{\n",
      "    \"employees\": [\n",
      "        {\n",
      "            \"name\": \"Alice\",\n",
      "            \"age\": 30,\n",
      "            \"department\": \"Sales\"\n",
      "        },\n",
      "        {\n",
      "            \"name\": \"Bob\",\n",
      "            \"age\": 25,\n",
      "            \"department\": \"Marketing\"\n",
      "        }\n",
      "    ]\n",
      "} <class 'str'>\n"
     ]
    }
   ],
   "source": [
    "data = {\n",
    "    \"employees\": [\n",
    "        {\"name\": 'Alice', \"age\": 30, \"department\": 'Sales'},\n",
    "        {\"name\": \"Bob\", \"age\": 25, \"department\": \"Marketing\"},\n",
    "    ]\n",
    "}\n",
    "\n",
    "\n",
    "\n",
    "data_json = json.dumps(data, indent=4)\n",
    "\n",
    "print(data_json, type(data_json))"
   ]
  },
  {
   "cell_type": "markdown",
   "metadata": {},
   "source": [
    "## Summary\n",
    "\n",
    "### Invalid JSON\n",
    "- no single quotes\n",
    "- trailing commas\n",
    "- Function are not allowed"
   ]
  },
  {
   "cell_type": "code",
   "execution_count": null,
   "metadata": {},
   "outputs": [
    {
     "ename": "TypeError",
     "evalue": "Object of type function is not JSON serializable",
     "output_type": "error",
     "traceback": [
      "\u001b[1;31m---------------------------------------------------------------------------\u001b[0m",
      "\u001b[1;31mTypeError\u001b[0m                                 Traceback (most recent call last)",
      "Cell \u001b[1;32mIn[15], line 14\u001b[0m\n\u001b[0;32m      4\u001b[0m data \u001b[38;5;241m=\u001b[39m {\n\u001b[0;32m      5\u001b[0m     \u001b[38;5;124m\"\u001b[39m\u001b[38;5;124memployees\u001b[39m\u001b[38;5;124m\"\u001b[39m: [\n\u001b[0;32m      6\u001b[0m         {\u001b[38;5;124m\"\u001b[39m\u001b[38;5;124mname\u001b[39m\u001b[38;5;124m\"\u001b[39m: \u001b[38;5;124m'\u001b[39m\u001b[38;5;124mAlice\u001b[39m\u001b[38;5;124m'\u001b[39m, \u001b[38;5;124m\"\u001b[39m\u001b[38;5;124mage\u001b[39m\u001b[38;5;124m\"\u001b[39m: \u001b[38;5;241m30\u001b[39m, \u001b[38;5;124m\"\u001b[39m\u001b[38;5;124mdepartment\u001b[39m\u001b[38;5;124m\"\u001b[39m: \u001b[38;5;124m'\u001b[39m\u001b[38;5;124mSales\u001b[39m\u001b[38;5;124m'\u001b[39m},\n\u001b[1;32m   (...)\u001b[0m\n\u001b[0;32m      9\u001b[0m     \u001b[38;5;124m\"\u001b[39m\u001b[38;5;124mfun\u001b[39m\u001b[38;5;124m\"\u001b[39m: add\n\u001b[0;32m     10\u001b[0m }\n\u001b[0;32m     12\u001b[0m data[\u001b[38;5;124m\"\u001b[39m\u001b[38;5;124mfun\u001b[39m\u001b[38;5;124m\"\u001b[39m](\u001b[38;5;241m7\u001b[39m)\n\u001b[1;32m---> 14\u001b[0m data_json \u001b[38;5;241m=\u001b[39m \u001b[43mjson\u001b[49m\u001b[38;5;241;43m.\u001b[39;49m\u001b[43mdumps\u001b[49m\u001b[43m(\u001b[49m\u001b[43mdata\u001b[49m\u001b[43m,\u001b[49m\u001b[43m \u001b[49m\u001b[43mindent\u001b[49m\u001b[38;5;241;43m=\u001b[39;49m\u001b[38;5;241;43m4\u001b[39;49m\u001b[43m)\u001b[49m \u001b[38;5;66;03m## error\u001b[39;00m\n\u001b[0;32m     16\u001b[0m \u001b[38;5;28mprint\u001b[39m(data_json, \u001b[38;5;28mtype\u001b[39m(data_json)) \n",
      "File \u001b[1;32mC:\\Program Files\\Python310\\lib\\json\\__init__.py:238\u001b[0m, in \u001b[0;36mdumps\u001b[1;34m(obj, skipkeys, ensure_ascii, check_circular, allow_nan, cls, indent, separators, default, sort_keys, **kw)\u001b[0m\n\u001b[0;32m    232\u001b[0m \u001b[38;5;28;01mif\u001b[39;00m \u001b[38;5;28mcls\u001b[39m \u001b[38;5;129;01mis\u001b[39;00m \u001b[38;5;28;01mNone\u001b[39;00m:\n\u001b[0;32m    233\u001b[0m     \u001b[38;5;28mcls\u001b[39m \u001b[38;5;241m=\u001b[39m JSONEncoder\n\u001b[0;32m    234\u001b[0m \u001b[38;5;28;01mreturn\u001b[39;00m \u001b[38;5;28;43mcls\u001b[39;49m\u001b[43m(\u001b[49m\n\u001b[0;32m    235\u001b[0m \u001b[43m    \u001b[49m\u001b[43mskipkeys\u001b[49m\u001b[38;5;241;43m=\u001b[39;49m\u001b[43mskipkeys\u001b[49m\u001b[43m,\u001b[49m\u001b[43m \u001b[49m\u001b[43mensure_ascii\u001b[49m\u001b[38;5;241;43m=\u001b[39;49m\u001b[43mensure_ascii\u001b[49m\u001b[43m,\u001b[49m\n\u001b[0;32m    236\u001b[0m \u001b[43m    \u001b[49m\u001b[43mcheck_circular\u001b[49m\u001b[38;5;241;43m=\u001b[39;49m\u001b[43mcheck_circular\u001b[49m\u001b[43m,\u001b[49m\u001b[43m \u001b[49m\u001b[43mallow_nan\u001b[49m\u001b[38;5;241;43m=\u001b[39;49m\u001b[43mallow_nan\u001b[49m\u001b[43m,\u001b[49m\u001b[43m \u001b[49m\u001b[43mindent\u001b[49m\u001b[38;5;241;43m=\u001b[39;49m\u001b[43mindent\u001b[49m\u001b[43m,\u001b[49m\n\u001b[0;32m    237\u001b[0m \u001b[43m    \u001b[49m\u001b[43mseparators\u001b[49m\u001b[38;5;241;43m=\u001b[39;49m\u001b[43mseparators\u001b[49m\u001b[43m,\u001b[49m\u001b[43m \u001b[49m\u001b[43mdefault\u001b[49m\u001b[38;5;241;43m=\u001b[39;49m\u001b[43mdefault\u001b[49m\u001b[43m,\u001b[49m\u001b[43m \u001b[49m\u001b[43msort_keys\u001b[49m\u001b[38;5;241;43m=\u001b[39;49m\u001b[43msort_keys\u001b[49m\u001b[43m,\u001b[49m\n\u001b[1;32m--> 238\u001b[0m \u001b[43m    \u001b[49m\u001b[38;5;241;43m*\u001b[39;49m\u001b[38;5;241;43m*\u001b[39;49m\u001b[43mkw\u001b[49m\u001b[43m)\u001b[49m\u001b[38;5;241;43m.\u001b[39;49m\u001b[43mencode\u001b[49m\u001b[43m(\u001b[49m\u001b[43mobj\u001b[49m\u001b[43m)\u001b[49m\n",
      "File \u001b[1;32mC:\\Program Files\\Python310\\lib\\json\\encoder.py:201\u001b[0m, in \u001b[0;36mJSONEncoder.encode\u001b[1;34m(self, o)\u001b[0m\n\u001b[0;32m    199\u001b[0m chunks \u001b[38;5;241m=\u001b[39m \u001b[38;5;28mself\u001b[39m\u001b[38;5;241m.\u001b[39miterencode(o, _one_shot\u001b[38;5;241m=\u001b[39m\u001b[38;5;28;01mTrue\u001b[39;00m)\n\u001b[0;32m    200\u001b[0m \u001b[38;5;28;01mif\u001b[39;00m \u001b[38;5;129;01mnot\u001b[39;00m \u001b[38;5;28misinstance\u001b[39m(chunks, (\u001b[38;5;28mlist\u001b[39m, \u001b[38;5;28mtuple\u001b[39m)):\n\u001b[1;32m--> 201\u001b[0m     chunks \u001b[38;5;241m=\u001b[39m \u001b[38;5;28;43mlist\u001b[39;49m\u001b[43m(\u001b[49m\u001b[43mchunks\u001b[49m\u001b[43m)\u001b[49m\n\u001b[0;32m    202\u001b[0m \u001b[38;5;28;01mreturn\u001b[39;00m \u001b[38;5;124m'\u001b[39m\u001b[38;5;124m'\u001b[39m\u001b[38;5;241m.\u001b[39mjoin(chunks)\n",
      "File \u001b[1;32mC:\\Program Files\\Python310\\lib\\json\\encoder.py:431\u001b[0m, in \u001b[0;36m_make_iterencode.<locals>._iterencode\u001b[1;34m(o, _current_indent_level)\u001b[0m\n\u001b[0;32m    429\u001b[0m     \u001b[38;5;28;01myield from\u001b[39;00m _iterencode_list(o, _current_indent_level)\n\u001b[0;32m    430\u001b[0m \u001b[38;5;28;01melif\u001b[39;00m \u001b[38;5;28misinstance\u001b[39m(o, \u001b[38;5;28mdict\u001b[39m):\n\u001b[1;32m--> 431\u001b[0m     \u001b[38;5;28;01myield from\u001b[39;00m _iterencode_dict(o, _current_indent_level)\n\u001b[0;32m    432\u001b[0m \u001b[38;5;28;01melse\u001b[39;00m:\n\u001b[0;32m    433\u001b[0m     \u001b[38;5;28;01mif\u001b[39;00m markers \u001b[38;5;129;01mis\u001b[39;00m \u001b[38;5;129;01mnot\u001b[39;00m \u001b[38;5;28;01mNone\u001b[39;00m:\n",
      "File \u001b[1;32mC:\\Program Files\\Python310\\lib\\json\\encoder.py:405\u001b[0m, in \u001b[0;36m_make_iterencode.<locals>._iterencode_dict\u001b[1;34m(dct, _current_indent_level)\u001b[0m\n\u001b[0;32m    403\u001b[0m         \u001b[38;5;28;01melse\u001b[39;00m:\n\u001b[0;32m    404\u001b[0m             chunks \u001b[38;5;241m=\u001b[39m _iterencode(value, _current_indent_level)\n\u001b[1;32m--> 405\u001b[0m         \u001b[38;5;28;01myield from\u001b[39;00m chunks\n\u001b[0;32m    406\u001b[0m \u001b[38;5;28;01mif\u001b[39;00m newline_indent \u001b[38;5;129;01mis\u001b[39;00m \u001b[38;5;129;01mnot\u001b[39;00m \u001b[38;5;28;01mNone\u001b[39;00m:\n\u001b[0;32m    407\u001b[0m     _current_indent_level \u001b[38;5;241m-\u001b[39m\u001b[38;5;241m=\u001b[39m \u001b[38;5;241m1\u001b[39m\n",
      "File \u001b[1;32mC:\\Program Files\\Python310\\lib\\json\\encoder.py:438\u001b[0m, in \u001b[0;36m_make_iterencode.<locals>._iterencode\u001b[1;34m(o, _current_indent_level)\u001b[0m\n\u001b[0;32m    436\u001b[0m         \u001b[38;5;28;01mraise\u001b[39;00m \u001b[38;5;167;01mValueError\u001b[39;00m(\u001b[38;5;124m\"\u001b[39m\u001b[38;5;124mCircular reference detected\u001b[39m\u001b[38;5;124m\"\u001b[39m)\n\u001b[0;32m    437\u001b[0m     markers[markerid] \u001b[38;5;241m=\u001b[39m o\n\u001b[1;32m--> 438\u001b[0m o \u001b[38;5;241m=\u001b[39m \u001b[43m_default\u001b[49m\u001b[43m(\u001b[49m\u001b[43mo\u001b[49m\u001b[43m)\u001b[49m\n\u001b[0;32m    439\u001b[0m \u001b[38;5;28;01myield from\u001b[39;00m _iterencode(o, _current_indent_level)\n\u001b[0;32m    440\u001b[0m \u001b[38;5;28;01mif\u001b[39;00m markers \u001b[38;5;129;01mis\u001b[39;00m \u001b[38;5;129;01mnot\u001b[39;00m \u001b[38;5;28;01mNone\u001b[39;00m:\n",
      "File \u001b[1;32mC:\\Program Files\\Python310\\lib\\json\\encoder.py:179\u001b[0m, in \u001b[0;36mJSONEncoder.default\u001b[1;34m(self, o)\u001b[0m\n\u001b[0;32m    160\u001b[0m \u001b[38;5;28;01mdef\u001b[39;00m\u001b[38;5;250m \u001b[39m\u001b[38;5;21mdefault\u001b[39m(\u001b[38;5;28mself\u001b[39m, o):\n\u001b[0;32m    161\u001b[0m \u001b[38;5;250m    \u001b[39m\u001b[38;5;124;03m\"\"\"Implement this method in a subclass such that it returns\u001b[39;00m\n\u001b[0;32m    162\u001b[0m \u001b[38;5;124;03m    a serializable object for ``o``, or calls the base implementation\u001b[39;00m\n\u001b[0;32m    163\u001b[0m \u001b[38;5;124;03m    (to raise a ``TypeError``).\u001b[39;00m\n\u001b[1;32m   (...)\u001b[0m\n\u001b[0;32m    177\u001b[0m \n\u001b[0;32m    178\u001b[0m \u001b[38;5;124;03m    \"\"\"\u001b[39;00m\n\u001b[1;32m--> 179\u001b[0m     \u001b[38;5;28;01mraise\u001b[39;00m \u001b[38;5;167;01mTypeError\u001b[39;00m(\u001b[38;5;124mf\u001b[39m\u001b[38;5;124m'\u001b[39m\u001b[38;5;124mObject of type \u001b[39m\u001b[38;5;132;01m{\u001b[39;00mo\u001b[38;5;241m.\u001b[39m\u001b[38;5;18m__class__\u001b[39m\u001b[38;5;241m.\u001b[39m\u001b[38;5;18m__name__\u001b[39m\u001b[38;5;132;01m}\u001b[39;00m\u001b[38;5;124m \u001b[39m\u001b[38;5;124m'\u001b[39m\n\u001b[0;32m    180\u001b[0m                     \u001b[38;5;124mf\u001b[39m\u001b[38;5;124m'\u001b[39m\u001b[38;5;124mis not JSON serializable\u001b[39m\u001b[38;5;124m'\u001b[39m)\n",
      "\u001b[1;31mTypeError\u001b[0m: Object of type function is not JSON serializable"
     ]
    }
   ],
   "source": [
    "def add(n):\n",
    "    return n + 1\n",
    "\n",
    "data = {\n",
    "    \"employees\": [\n",
    "        {\"name\": 'Alice', \"age\": 30, \"department\": 'Sales'},\n",
    "        {\"name\": \"Bob\", \"age\": 25, \"department\": \"Marketing\"},\n",
    "    ],\n",
    "    \"fun\": add\n",
    "}\n",
    "\n",
    "data[\"fun\"](7)\n",
    "\n",
    "data_json = json.dumps(data, indent=4) ## error\n",
    "\n",
    "print(data_json, type(data_json))\n"
   ]
  },
  {
   "cell_type": "code",
   "execution_count": null,
   "metadata": {},
   "outputs": [
    {
     "name": "stdout",
     "output_type": "stream",
     "text": [
      "{\n",
      "    \"employees\": [\n",
      "        {\n",
      "            \"name\": \"Alice\",\n",
      "            \"age\": 30,\n",
      "            \"department\": \"Sales\"\n",
      "        },\n",
      "        {\n",
      "            \"name\": \"Bob\",\n",
      "            \"age\": 25,\n",
      "            \"department\": \"Marketing\"\n",
      "        }\n",
      "    ],\n",
      "    \"hike\": 10.5,\n",
      "    \"cool\": true\n",
      "} <class 'str'>\n"
     ]
    }
   ],
   "source": [
    "data = {\n",
    "    \"employees\": [\n",
    "        {\"name\": 'Alice', \"age\": 30, \"department\": 'Sales'},\n",
    "        {\"name\": \"Bob\", \"age\": 25, \"department\": \"Marketing\"},\n",
    "    ],\n",
    "    \"hike\": 10.5,\n",
    "    \"cool\": True\n",
    "}\n",
    "\n",
    "# Dict -> JSON: dumps\n",
    "data_json = json.dumps(data, indent=4) ## error\n",
    "\n",
    "print(data_json, type(data_json))"
   ]
  },
  {
   "cell_type": "code",
   "execution_count": null,
   "metadata": {},
   "outputs": [],
   "source": [
    "student_json = \"\"\"\n",
    "{\n",
    "    \"name\": \"Jamie\",\n",
    "    \"gender\": \"Female\"\n",
    "}\n",
    "\"\"\""
   ]
  },
  {
   "cell_type": "code",
   "execution_count": null,
   "metadata": {},
   "outputs": [
    {
     "name": "stdout",
     "output_type": "stream",
     "text": [
      "<class 'str'>\n"
     ]
    }
   ],
   "source": [
    "print(type(student_json))"
   ]
  },
  {
   "cell_type": "code",
   "execution_count": null,
   "metadata": {},
   "outputs": [
    {
     "name": "stdout",
     "output_type": "stream",
     "text": [
      "{'name': 'Jamie', 'gender': 'Female'} <class 'dict'>\n",
      "Jamie\n"
     ]
    }
   ],
   "source": [
    "\n",
    "# Dict -> JSON: dumps\n",
    "# JSON -> Dict: loads\n",
    "\n",
    "student = json.loads(student_json)\n",
    "\n",
    "print(student, type(student))\n",
    "print(student['name'])"
   ]
  },
  {
   "cell_type": "code",
   "execution_count": 18,
   "metadata": {},
   "outputs": [],
   "source": [
    "bank_data = \"\"\"\n",
    "[\n",
    "    {\n",
    "        \"id\": 1,\n",
    "        \"name\": \"John Doe\",\n",
    "        \"email\": \"johndoe@example.com\",\n",
    "        \"isActive\": true,\n",
    "        \"balance\": 150.75\n",
    "    },\n",
    "    {\n",
    "        \"id\": 2,\n",
    "        \"name\": \"Jane Smith\",\n",
    "        \"email\": \"janesmith@example.com\",\n",
    "        \"isActive\": false,\n",
    "        \"balance\": 500.50\n",
    "    },\n",
    "    {\n",
    "        \"id\": 3,\n",
    "        \"name\": \"Emily Jones\",\n",
    "        \"email\": \"emilyjones@example.com\",\n",
    "        \"isActive\": true,\n",
    "        \"balance\": 0.00\n",
    "    }\n",
    "]\n",
    "\"\"\""
   ]
  },
  {
   "cell_type": "markdown",
   "metadata": {},
   "source": [
    "## Task 1.1 (normal for loop)\n",
    "- All Active user's balance should increase by 10%\n",
    "- Final Output should be JSON format"
   ]
  },
  {
   "cell_type": "code",
   "execution_count": 25,
   "metadata": {},
   "outputs": [
    {
     "data": {
      "text/plain": [
       "'[{\"id\": 1, \"name\": \"John Doe\", \"email\": \"johndoe@example.com\", \"isActive\": true, \"balance\": 165.82500000000002}, {\"id\": 2, \"name\": \"Jane Smith\", \"email\": \"janesmith@example.com\", \"isActive\": false, \"balance\": 500.5}, {\"id\": 3, \"name\": \"Emily Jones\", \"email\": \"emilyjones@example.com\", \"isActive\": true, \"balance\": 0.0}]'"
      ]
     },
     "execution_count": 25,
     "metadata": {},
     "output_type": "execute_result"
    }
   ],
   "source": [
    "bank_dict = json.loads(bank_data)\n",
    "\n",
    "for account in bank_dict:\n",
    "    if account['isActive']:\n",
    "        account['balance'] *= 1.1\n",
    "\n",
    "json.dumps(bank_dict)"
   ]
  },
  {
   "cell_type": "code",
   "execution_count": null,
   "metadata": {},
   "outputs": [
    {
     "name": "stdout",
     "output_type": "stream",
     "text": [
      "[\n",
      "    {\n",
      "        \"id\": 1,\n",
      "        \"name\": \"John Doe\",\n",
      "        \"email\": \"johndoe@example.com\",\n",
      "        \"isActive\": true,\n",
      "        \"balance\": 165.82500000000002\n",
      "    },\n",
      "    {\n",
      "        \"id\": 2,\n",
      "        \"name\": \"Jane Smith\",\n",
      "        \"email\": \"janesmith@example.com\",\n",
      "        \"isActive\": false,\n",
      "        \"balance\": 500.5\n",
      "    },\n",
      "    {\n",
      "        \"id\": 3,\n",
      "        \"name\": \"Emily Jones\",\n",
      "        \"email\": \"emilyjones@example.com\",\n",
      "        \"isActive\": true,\n",
      "        \"balance\": 0.0\n",
      "    }\n",
      "]\n"
     ]
    }
   ],
   "source": [
    "bank_accounts = json.loads(bank_data)\n",
    "\n",
    "for account in bank_accounts:\n",
    "    if account['isActive']:\n",
    "        account['balance'] *= 1.1\n",
    "\n",
    "print(json.dumps(bank_accounts, indent=4))"
   ]
  },
  {
   "cell_type": "code",
   "execution_count": null,
   "metadata": {},
   "outputs": [
    {
     "name": "stdout",
     "output_type": "stream",
     "text": [
      "[\n",
      "    {\n",
      "        \"id\": 1,\n",
      "        \"name\": \"John Doe\",\n",
      "        \"email\": \"johndoe@example.com\",\n",
      "        \"isActive\": true,\n",
      "        \"balance\": 165.82500000000002\n",
      "    },\n",
      "    {\n",
      "        \"id\": 2,\n",
      "        \"name\": \"Jane Smith\",\n",
      "        \"email\": \"janesmith@example.com\",\n",
      "        \"isActive\": false,\n",
      "        \"balance\": 500.5\n",
      "    },\n",
      "    {\n",
      "        \"id\": 3,\n",
      "        \"name\": \"Emily Jones\",\n",
      "        \"email\": \"emilyjones@example.com\",\n",
      "        \"isActive\": true,\n",
      "        \"balance\": 0.0\n",
      "    }\n",
      "]\n"
     ]
    }
   ],
   "source": [
    "def increase_bal_10_percent(bank_data):\n",
    "    bank_accounts = json.loads(bank_data)\n",
    "    INTEREST_RATE = 1.1\n",
    "    for account in bank_accounts:\n",
    "        if account['isActive']:\n",
    "            account['balance'] *= INTEREST_RATE\n",
    "\n",
    "    return json.dumps(bank_accounts, indent=4)\n",
    "\n",
    "print(increase_bal_10_percent(bank_data))"
   ]
  },
  {
   "cell_type": "markdown",
   "metadata": {},
   "source": [
    "## Task 1.2 (List comprehension)\n",
    "- Clue: Ternary, unpacking"
   ]
  },
  {
   "cell_type": "code",
   "execution_count": 41,
   "metadata": {},
   "outputs": [
    {
     "name": "stdout",
     "output_type": "stream",
     "text": [
      "[\n",
      "    {\n",
      "        \"id\": 1,\n",
      "        \"name\": \"John Doe\",\n",
      "        \"email\": \"johndoe@example.com\",\n",
      "        \"isActive\": true,\n",
      "        \"balance\": 165.82500000000002\n",
      "    },\n",
      "    {\n",
      "        \"id\": 2,\n",
      "        \"name\": \"Jane Smith\",\n",
      "        \"email\": \"janesmith@example.com\",\n",
      "        \"isActive\": false,\n",
      "        \"balance\": 500.5\n",
      "    },\n",
      "    {\n",
      "        \"id\": 3,\n",
      "        \"name\": \"Emily Jones\",\n",
      "        \"email\": \"emilyjones@example.com\",\n",
      "        \"isActive\": true,\n",
      "        \"balance\": 0.0\n",
      "    }\n",
      "]\n"
     ]
    }
   ],
   "source": [
    "def increase_10(bank_data):\n",
    "    bank_dict = json.loads(bank_data)\n",
    "\n",
    "    inc_10 = [ {**account, 'balance':\n",
    "        account[\"balance\"] * 1.1} if account[\"isActive\"] else account\n",
    "        for account in bank_dict\n",
    "    ]\n",
    "\n",
    "    bank_json = json.dumps(inc_10, indent=4)\n",
    "    return bank_json\n",
    "\n",
    "print(increase_10(bank_data))"
   ]
  },
  {
   "cell_type": "code",
   "execution_count": null,
   "metadata": {},
   "outputs": [
    {
     "name": "stdout",
     "output_type": "stream",
     "text": [
      "[165.82500000000002, 550.5500000000001, 0.0]\n"
     ]
    }
   ],
   "source": [
    "def increase_bal_10_percent(bank_data):\n",
    "    bank_accounts = json.loads(bank_data)\n",
    "    INTEREST_RATE = 1.1\n",
    "    update_accounts = [\n",
    "        account[\"balance\"] * INTEREST_RATE\n",
    "        if account[\"isActive\"]\n",
    "        else account[\"balance\"]\n",
    "        for account in bank_accounts\n",
    "    ]\n",
    "\n",
    "    return update_accounts\n",
    "\n",
    "    # for account in bank_accounts:\n",
    "    #     if account['isActive']:\n",
    "    #         account['balance'] *= INTEREST_RATE\n",
    "\n",
    "    # return json.dumps(bank_accounts, indent=4)\n",
    "\n",
    "\n",
    "print(increase_bal_10_percent(bank_data))"
   ]
  },
  {
   "cell_type": "code",
   "execution_count": null,
   "metadata": {},
   "outputs": [
    {
     "name": "stdout",
     "output_type": "stream",
     "text": [
      "[{'balance': 165.82500000000002},\n",
      " {'balance': 500.5,\n",
      "  'email': 'janesmith@example.com',\n",
      "  'id': 2,\n",
      "  'isActive': False,\n",
      "  'name': 'Jane Smith'},\n",
      " {'balance': 0.0}]\n"
     ]
    }
   ],
   "source": [
    "from pprint import pprint\n",
    "\n",
    "def increase_bal_10_percent(bank_data):\n",
    "    bank_accounts = json.loads(bank_data)\n",
    "    INTEREST_RATE = 1.1\n",
    "    update_accounts = [\n",
    "        {\"balance\": account[\"balance\"] * INTEREST_RATE}\n",
    "        if account[\"isActive\"]\n",
    "        else account\n",
    "        for account in bank_accounts\n",
    "    ]\n",
    "\n",
    "    return update_accounts\n",
    "\n",
    "    # for account in bank_accounts:\n",
    "    #     if account['isActive']:\n",
    "    #         account['balance'] *= INTEREST_RATE\n",
    "\n",
    "    # return json.dumps(bank_accounts, indent=4)\n",
    "\n",
    "\n",
    "pprint(increase_bal_10_percent(bank_data))"
   ]
  },
  {
   "cell_type": "code",
   "execution_count": null,
   "metadata": {},
   "outputs": [
    {
     "name": "stdout",
     "output_type": "stream",
     "text": [
      "[\n",
      "    {\n",
      "        \"id\": 1,\n",
      "        \"name\": \"John Doe\",\n",
      "        \"email\": \"johndoe@example.com\",\n",
      "        \"isActive\": true,\n",
      "        \"balance\": 165.82500000000002\n",
      "    },\n",
      "    {\n",
      "        \"id\": 2,\n",
      "        \"name\": \"Jane Smith\",\n",
      "        \"email\": \"janesmith@example.com\",\n",
      "        \"isActive\": false,\n",
      "        \"balance\": 500.5\n",
      "    },\n",
      "    {\n",
      "        \"id\": 3,\n",
      "        \"name\": \"Emily Jones\",\n",
      "        \"email\": \"emilyjones@example.com\",\n",
      "        \"isActive\": true,\n",
      "        \"balance\": 0.0\n",
      "    }\n",
      "]\n"
     ]
    }
   ],
   "source": [
    "from pprint import pprint\n",
    "\n",
    "def increase_bal_10_percent(bank_data):\n",
    "    bank_accounts = json.loads(bank_data)\n",
    "    INTEREST_RATE = 1.1\n",
    "    update_accounts = [\n",
    "        {**account, \"balance\": account[\"balance\"] * INTEREST_RATE}\n",
    "        if account[\"isActive\"]\n",
    "        else account\n",
    "        for account in bank_accounts\n",
    "    ]\n",
    "\n",
    "    return json.dumps(update_accounts, indent=4)\n",
    "\n",
    "\n",
    "print(increase_bal_10_percent(bank_data))"
   ]
  },
  {
   "cell_type": "markdown",
   "metadata": {},
   "source": [
    "## Handling Files"
   ]
  },
  {
   "cell_type": "code",
   "execution_count": null,
   "metadata": {},
   "outputs": [],
   "source": [
    "def increase_bal_10_percent(bank_data):\n",
    "    bank_accounts = json.loads(bank_data)\n",
    "    INTEREST_RATE = 1.1\n",
    "    update_accounts = [\n",
    "        {**account, \"balance\": account[\"balance\"] * INTEREST_RATE}\n",
    "        if account[\"isActive\"]\n",
    "        else account\n",
    "        for account in bank_accounts\n",
    "    ]\n",
    "\n",
    "    return update_accounts\n",
    "\n",
    "# Dictionary\n",
    "update_accounts = increase_bal_10_percent(bank_data)\n",
    "\n",
    "# with -> close the file\n",
    "with open(\"./bank_accounts.json\", 'w') as file:\n",
    "    # Convert Dict -> JSON & Write to file\n",
    "    json.dump(update_accounts, file, indent=4)"
   ]
  },
  {
   "cell_type": "code",
   "execution_count": null,
   "metadata": {},
   "outputs": [
    {
     "name": "stdout",
     "output_type": "stream",
     "text": [
      "[{'balance': 165.82500000000002,\n",
      "  'email': 'johndoe@example.com',\n",
      "  'id': 1,\n",
      "  'isActive': True,\n",
      "  'name': 'John Doe'},\n",
      " {'balance': 500.5,\n",
      "  'email': 'janesmith@example.com',\n",
      "  'id': 2,\n",
      "  'isActive': False,\n",
      "  'name': 'Jane Smith'},\n",
      " {'balance': 0.0,\n",
      "  'email': 'emilyjones@example.com',\n",
      "  'id': 3,\n",
      "  'isActive': True,\n",
      "  'name': 'Emily Jones'}]\n"
     ]
    }
   ],
   "source": [
    "with open(\"./bank_accounts.json\", 'r') as file:\n",
    "    # Convert JSON -> Dict\n",
    "    accounts = json.load(file)\n",
    "    pprint(accounts)"
   ]
  },
  {
   "cell_type": "markdown",
   "metadata": {},
   "source": [
    "## Summary\n",
    "- Dict -> JSON: dumps (variable), dump (file)\n",
    "- JSON -> Dict: loads (variable), load (file)"
   ]
  },
  {
   "cell_type": "markdown",
   "metadata": {},
   "source": [
    "## Task\n",
    "Read the json in blog_post.json and output as below in posts_summary.json\n",
    "\n",
    "### posts_summary.json\n",
    "```json\n",
    "{\n",
    "  \"posts_summary\": [\n",
    "    {\n",
    "      \"title\": \"The Future of AI\",\n",
    "      \"author\": \"Alice\",\n",
    "      \"number_of_comments\": 2\n",
    "    },\n",
    "    {\n",
    "      \"title\": \"Learning Python\",\n",
    "      \"author\": \"Bob\",\n",
    "      \"number_of_comments\": 1\n",
    "    },\n",
    "    {\n",
    "      \"title\": \"Web Development Trends\",\n",
    "      \"author\": \"Charlie\",\n",
    "      \"number_of_comments\": 0\n",
    "    }\n",
    "  ]\n",
    "}\n",
    "```"
   ]
  },
  {
   "cell_type": "code",
   "execution_count": 57,
   "metadata": {},
   "outputs": [
    {
     "name": "stdout",
     "output_type": "stream",
     "text": [
      "{'posts_summary': [{'title': 'The Future of AI', 'author': 'Alice', 'number_of_comments': 2}, {'title': 'Learning Python', 'author': 'Bob', 'number_of_comments': 1}, {'title': 'Web Development Trends', 'author': 'Charlie', 'number_of_comments': 0}]}\n"
     ]
    }
   ],
   "source": [
    "with open (\"./blog_post.json\", \"r\") as file:\n",
    "    blog_dict = json.load(file)\n",
    "\n",
    "    post_summary = {\"posts_summary\": []}\n",
    "\n",
    "    for blog in blog_dict['posts']:\n",
    "        post_summary['posts_summary'].append({\n",
    "        'title': blog['title'],\n",
    "        'author': blog['author'],\n",
    "        'number_of_comments': len(blog['comments'])\n",
    "        })\n",
    "\n",
    "    print(post_summary)"
   ]
  }
 ],
 "metadata": {
  "kernelspec": {
   "display_name": ".venv",
   "language": "python",
   "name": "python3"
  },
  "language_info": {
   "codemirror_mode": {
    "name": "ipython",
    "version": 3
   },
   "file_extension": ".py",
   "mimetype": "text/x-python",
   "name": "python",
   "nbconvert_exporter": "python",
   "pygments_lexer": "ipython3",
   "version": "3.10.2"
  }
 },
 "nbformat": 4,
 "nbformat_minor": 2
}
