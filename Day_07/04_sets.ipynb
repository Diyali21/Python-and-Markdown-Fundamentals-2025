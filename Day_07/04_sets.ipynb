{
 "cells": [
  {
   "cell_type": "code",
   "execution_count": 38,
   "metadata": {},
   "outputs": [
    {
     "name": "stdout",
     "output_type": "stream",
     "text": [
      "{1, 2, 3, 4} <class 'set'>\n"
     ]
    }
   ],
   "source": [
    "# Creating Set - {}\n",
    "\n",
    "nums = { 1, 2, 3, 4}\n",
    "\n",
    "print(nums, type(nums))"
   ]
  },
  {
   "cell_type": "markdown",
   "metadata": {},
   "source": [
    "# Set\n",
    "- No Duplicates !!!\n",
    "- Order not guaranteed\n",
    "- Mutable"
   ]
  },
  {
   "cell_type": "code",
   "execution_count": 39,
   "metadata": {},
   "outputs": [
    {
     "name": "stdout",
     "output_type": "stream",
     "text": [
      "{1, 2, 3, 100, 4, 5} [100, 1, 2, 3, 3, 4, 5, 5]\n"
     ]
    }
   ],
   "source": [
    "nums = {100, 1, 2, 3, 3, 4, 5, 5}\n",
    "nums1 = [100, 1, 2, 3, 3, 4, 5, 5]\n",
    "print(nums, nums1)"
   ]
  },
  {
   "cell_type": "code",
   "execution_count": 40,
   "metadata": {},
   "outputs": [
    {
     "name": "stdout",
     "output_type": "stream",
     "text": [
      "<class 'dict'>\n"
     ]
    }
   ],
   "source": [
    "x = {} # not empty set\n",
    "\n",
    "print(type(x))"
   ]
  },
  {
   "cell_type": "code",
   "execution_count": 41,
   "metadata": {},
   "outputs": [
    {
     "name": "stdout",
     "output_type": "stream",
     "text": [
      "<class 'set'>\n"
     ]
    }
   ],
   "source": [
    "y = set() # empty set\n",
    "\n",
    "\n",
    "print(type(y ))"
   ]
  },
  {
   "cell_type": "markdown",
   "metadata": {},
   "source": [
    "## CRUD Methods\n",
    "- Create\n",
    "- Update - add(), update()\n",
    "- Read - for loop\n",
    "- Delete - discard(), remove() ❌"
   ]
  },
  {
   "cell_type": "code",
   "execution_count": 42,
   "metadata": {},
   "outputs": [
    {
     "data": {
      "text/plain": [
       "{'⌚ Smartwatch', '💻 Laptop', '📚 E-reader', '📱 Smartphone', '📱 Tablet'}"
      ]
     },
     "execution_count": 42,
     "metadata": {},
     "output_type": "execute_result"
    }
   ],
   "source": [
    "tech_gadgets = {'📱 Smartphone', '💻 Laptop', '⌚ Smartwatch', '📱 Tablet', '📱 Tablet'}\n",
    "\n",
    "\n",
    "tech_gadgets.add('📚 E-reader')\n",
    "tech_gadgets.add('📚 E-reader')\n",
    "tech_gadgets.add('📚 E-reader')\n",
    "tech_gadgets.add('📚 E-reader')\n",
    "tech_gadgets"
   ]
  },
  {
   "cell_type": "code",
   "execution_count": 43,
   "metadata": {},
   "outputs": [
    {
     "data": {
      "text/plain": [
       "{'⌚ Smartwatch',\n",
       " '💻 Laptop',\n",
       " '📚 E-reader',\n",
       " '📱 Smartphone',\n",
       " '📱 Tablet',\n",
       " '🛸 Drone',\n",
       " '🤳 Selfie stick'}"
      ]
     },
     "execution_count": 43,
     "metadata": {},
     "output_type": "execute_result"
    }
   ],
   "source": [
    "more_gadgets = ['🛸 Drone', '🤳 Selfie stick']\n",
    "\n",
    "for gadget in more_gadgets:\n",
    "    tech_gadgets.add(gadget)\n",
    "\n",
    "\n",
    "tech_gadgets"
   ]
  },
  {
   "cell_type": "code",
   "execution_count": 44,
   "metadata": {},
   "outputs": [],
   "source": [
    "tech_gadgets = {'📱 Smartphone', '💻 Laptop', '⌚ Smartwatch', '📱 Tablet', '📱 Tablet'}\n",
    "tech_gadgets.add('📚 E-reader')  # One item\n",
    "more_gadgets = ['🛸 Drone', '🤳 Selfie stick']\n",
    "\n",
    "\n",
    "tech_gadgets.update(more_gadgets) # Multiple items\n",
    "nice_gadgets =  tech_gadgets"
   ]
  },
  {
   "cell_type": "code",
   "execution_count": 45,
   "metadata": {},
   "outputs": [
    {
     "name": "stdout",
     "output_type": "stream",
     "text": [
      "📱 Tablet\n",
      "🛸 Drone\n",
      "📚 E-reader\n",
      "🤳 Selfie stick\n",
      "📱 Smartphone\n",
      "⌚ Smartwatch\n",
      "💻 Laptop\n"
     ]
    }
   ],
   "source": [
    "for gadget in nice_gadgets:\n",
    "    print(gadget)"
   ]
  },
  {
   "cell_type": "code",
   "execution_count": null,
   "metadata": {},
   "outputs": [
    {
     "data": {
      "text/plain": [
       "{'⌚ Smartwatch',\n",
       " '💻 Laptop',\n",
       " '📚 E-reader',\n",
       " '📱 Smartphone',\n",
       " '📱 Tablet',\n",
       " '🤳 Selfie stick'}"
      ]
     },
     "execution_count": 59,
     "metadata": {},
     "output_type": "execute_result"
    }
   ],
   "source": [
    "# nice_gadgets.remove('🛸 Drone') # avoid remove (Error if not exist)\n",
    "\n",
    "nice_gadgets.discard('🛸 Drone')\n",
    "nice_gadgets.discard('abc') # Silently fails\n",
    "nice_gadgets"
   ]
  },
  {
   "cell_type": "code",
   "execution_count": null,
   "metadata": {},
   "outputs": [
    {
     "ename": "TypeError",
     "evalue": "'set' object is not subscriptable",
     "output_type": "error",
     "traceback": [
      "\u001b[1;31m---------------------------------------------------------------------------\u001b[0m",
      "\u001b[1;31mTypeError\u001b[0m                                 Traceback (most recent call last)",
      "Cell \u001b[1;32mIn[60], line 1\u001b[0m\n\u001b[1;32m----> 1\u001b[0m \u001b[43mnice_gadgets\u001b[49m\u001b[43m[\u001b[49m\u001b[38;5;241;43m0\u001b[39;49m\u001b[43m]\u001b[49m\n",
      "\u001b[1;31mTypeError\u001b[0m: 'set' object is not subscriptable"
     ]
    }
   ],
   "source": [
    "nice_gadgets[0] # no index in set"
   ]
  },
  {
   "cell_type": "code",
   "execution_count": null,
   "metadata": {},
   "outputs": [],
   "source": [
    "# Task\n",
    "# Remove the duplicates\n",
    "colors = [\"🔴 red\", \"🔵 blue\", \"🔴 red\", \"🟢 green\", \"💗 pink\", \"🔵 blue\"]\n",
    "# Hard way\n",
    "\n",
    "# Easy way\n",
    "\n",
    "# \"🔴 red\", \"🔵 blue\", \"🟢 green\", \"💗 pink\""
   ]
  },
  {
   "cell_type": "code",
   "execution_count": null,
   "metadata": {},
   "outputs": [],
   "source": [
    "# Easy\n",
    "print(set(colors))\n",
    "\n",
    "# Hard\n",
    "c = set()\n",
    "for color in colors:\n",
    "    c.add(color)\n",
    "print(c)"
   ]
  }
 ],
 "metadata": {
  "kernelspec": {
   "display_name": ".venv",
   "language": "python",
   "name": "python3"
  },
  "language_info": {
   "codemirror_mode": {
    "name": "ipython",
    "version": 3
   },
   "file_extension": ".py",
   "mimetype": "text/x-python",
   "name": "python",
   "nbconvert_exporter": "python",
   "pygments_lexer": "ipython3",
   "version": "3.13.2"
  }
 },
 "nbformat": 4,
 "nbformat_minor": 2
}
