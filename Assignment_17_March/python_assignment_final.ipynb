{
 "cells": [
  {
   "cell_type": "markdown",
   "metadata": {},
   "source": [
    "<summary>Exercise 1: Data Sorting and Ranking (⭐⭐)</summary>\n",
    "\n",
    "### 🏆 Objective\n",
    "\n",
    "Sort a complex data structure and add a ranking key based on a specific criterion.\n",
    "\n",
    "```python\n",
    "# Setup Code\n",
    "students = [\n",
    "    {\"name\": \"Alice\", \"grade\": 88},\n",
    "    {\"name\": \"Bob\", \"grade\": 75},\n",
    "    {\"name\": \"Charlie\", \"grade\": 93}\n",
    "]\n",
    "# Expected Task: Sort the list of dictionaries by grade in descending order and add a \"rank\" key to each dictionary based on the sorting.\n",
    "\n",
    "# Your solution here:\n",
    "# sorted_students = ...\n",
    "\n",
    "# Expected Output\n",
    "# print(sorted_students)\n",
    "```\n",
    "\n",
    "### Expected Output\n",
    "\n",
    "```\n",
    "[\n",
    "    {\"name\": \"Charlie\", \"grade\": 93, \"rank\": 1},\n",
    "    {\"name\": \"Alice\", \"grade\": 88, \"rank\": 2},\n",
    "    {\"name\": \"Bob\", \"grade\": 75, \"rank\": 3}\n",
    "]\n",
    "```"
   ]
  },
  {
   "cell_type": "code",
   "execution_count": 1,
   "metadata": {},
   "outputs": [
    {
     "name": "stdout",
     "output_type": "stream",
     "text": [
      "[{'name': 'Charlie', 'grade': 93, 'rank': 1}, {'name': 'Alice', 'grade': 88, 'rank': 2}, {'name': 'Bob', 'grade': 75, 'rank': 3}]\n",
      "[{'name': 'Charlie', 'grade': 93, 'rank': 1}, {'name': 'Alice', 'grade': 88, 'rank': 2}, {'name': 'Bob', 'grade': 75, 'rank': 3}]\n"
     ]
    }
   ],
   "source": [
    "students = [\n",
    "    {\"name\": \"Alice\", \"grade\": 88},\n",
    "    {\"name\": \"Bob\", \"grade\": 75},\n",
    "    {\"name\": \"Charlie\", \"grade\": 93},\n",
    "]\n",
    "\n",
    "# First way\n",
    "def sort_students1(students):\n",
    "    sorted_students = list(\n",
    "        sorted(students, key=lambda student: student[\"grade\"], reverse=True)\n",
    "    )\n",
    "\n",
    "    rank = 1\n",
    "\n",
    "    for student in sorted_students:\n",
    "        student[\"rank\"] = rank\n",
    "        rank += 1\n",
    "\n",
    "    print(sorted_students)\n",
    "\n",
    "\n",
    "sort_students1(students)\n",
    "\n",
    "# Second way (simplified)\n",
    "def sort_students2(students):\n",
    "    sorted_students = list(\n",
    "        sorted(students, key=lambda student: student[\"grade\"], reverse=True)\n",
    "    )\n",
    "\n",
    "    for i in range(len(sorted_students)):\n",
    "        sorted_students[i][\"rank\"] = i + 1\n",
    "\n",
    "    print(sorted_students)\n",
    "\n",
    "\n",
    "sort_students2(students)"
   ]
  },
  {
   "cell_type": "markdown",
   "metadata": {},
   "source": [
    "<summary>Exercise 2: Merging Data from Two Lists (⭐⭐)</summary>\n",
    "\n",
    "### 🔄 Objective\n",
    "\n",
    "Merge data from two lists of dictionaries based on a common key.\n",
    "\n",
    "```python\n",
    "# Setup Code\n",
    "employees = [{\"id\": 1, \"name\": \"Alice\"}, {\"id\": 2, \"name\": \"Bob\"}]\n",
    "salaries = [{\"id\": 1, \"salary\": 50000}, {\"id\": 2, \"salary\": 60000}]\n",
    "# Expected Task: Merge these lists into a single list of dictionaries by matching the \"id\" field, including all keys.\n",
    "\n",
    "# Your solution here:\n",
    "# merged_data = ...\n",
    "\n",
    "# Expected Output\n",
    "# print(merged_data)\n",
    "```\n",
    "\n",
    "### Expected Output\n",
    "\n",
    "```\n",
    "[\n",
    "    {\"id\": 1, \"name\": \"Alice\", \"salary\": 50000},\n",
    "    {\"id\": 2, \"name\": \"Bob\", \"salary\": 60000}\n",
    "]\n",
    "```"
   ]
  },
  {
   "cell_type": "code",
   "execution_count": 2,
   "metadata": {},
   "outputs": [
    {
     "name": "stdout",
     "output_type": "stream",
     "text": [
      "[{'id': 1, 'name': 'Alice', 'salary': 50000}, {'id': 2, 'name': 'Bob', 'salary': 60000}]\n"
     ]
    }
   ],
   "source": [
    "employees = [{\"id\": 1, \"name\": \"Alice\"}, {\"id\": 2, \"name\": \"Bob\"}]\n",
    "salaries = [{\"id\": 1, \"salary\": 50000}, {\"id\": 2, \"salary\": 60000}]\n",
    "\n",
    "\n",
    "def merge_list_dict():\n",
    "    merged_data = []\n",
    "\n",
    "    for employee in employees:\n",
    "        merged_dict = {}\n",
    "        for salary in salaries:\n",
    "            if employee[\"id\"] == salary[\"id\"]:\n",
    "                merged_dict[\"id\"] = employee[\"id\"]\n",
    "                merged_dict[\"name\"] = employee[\"name\"]\n",
    "                merged_dict[\"salary\"] = salary[\"salary\"]\n",
    "                merged_data.append(merged_dict)\n",
    "\n",
    "    return merged_data\n",
    "\n",
    "\n",
    "print(merge_list_dict())\n"
   ]
  },
  {
   "cell_type": "markdown",
   "metadata": {},
   "source": [
    "<summary>Exercise 3: Advanced Filtering with Multiple Conditions (⭐⭐)</summary>\n",
    "\n",
    "### 🔍 Objective\n",
    "\n",
    "Apply multiple filtering criteria to a list of dictionaries.\n",
    "\n",
    "```python\n",
    "# Setup Code\n",
    "products = [\n",
    "    {\"id\": 1, \"category\": \"Electronics\", \"price\": 850},\n",
    "    {\"id\": 2, \"category\": \"Furniture\", \"price\": 1200},\n",
    "    {\"id\": 3, \"category\": \"Electronics\", \"price\": 400}\n",
    "]\n",
    "# Expected Task: Filter the list to include only products in the \"Electronics\" category with a price less than 500.\n",
    "\n",
    "# Your solution here:\n",
    "# filtered_products = ...\n",
    "\n",
    "# Expected Output\n",
    "# print(filtered_products)\n",
    "```\n",
    "\n",
    "### Expected Output\n",
    "\n",
    "```\n",
    "[\n",
    "    {\"id\": 3, \"category\": \"Electronics\", \"price\": 400}\n",
    "]\n",
    "```"
   ]
  },
  {
   "cell_type": "code",
   "execution_count": 3,
   "metadata": {},
   "outputs": [
    {
     "name": "stdout",
     "output_type": "stream",
     "text": [
      "{'id': 3, 'category': 'Electronics', 'price': 400}\n",
      "[{'id': 3, 'category': 'Electronics', 'price': 400}]\n"
     ]
    }
   ],
   "source": [
    "products = [\n",
    "    {\"id\": 1, \"category\": \"Electronics\", \"price\": 850},\n",
    "    {\"id\": 2, \"category\": \"Furniture\", \"price\": 1200},\n",
    "    {\"id\": 3, \"category\": \"Electronics\", \"price\": 400},\n",
    "]\n",
    "\n",
    "\n",
    "# First way\n",
    "def electronics1():\n",
    "    for product in products:\n",
    "        if product[\"category\"] == \"Electronics\" and product[\"price\"] < 500:\n",
    "            print(product)\n",
    "\n",
    "\n",
    "electronics1()\n",
    "\n",
    "\n",
    "# Second way (Simplified)\n",
    "def electronics2():\n",
    "    filtered_products = [\n",
    "        product\n",
    "        for product in products\n",
    "        if product[\"category\"] == \"Electronics\" and product[\"price\"] < 500\n",
    "    ]\n",
    "    return filtered_products\n",
    "\n",
    "\n",
    "print(electronics2())"
   ]
  },
  {
   "cell_type": "markdown",
   "metadata": {},
   "source": [
    "<summary>Exercise 4: Complex Data Transformation (⭐⭐⭐)</summary>\n",
    "\n",
    "### 🔄 Objective\n",
    "\n",
    "Transform a list of dictionaries into a new structure.\n",
    "\n",
    "```python\n",
    "# Setup Code\n",
    "orders = [\n",
    "    {\"order_id\": 1, \"items\": [{\"product\": \"A\", \"quantity\": 2}, {\"product\": \"B\", \"quantity\": 3}]},\n",
    "    {\"order_id\": 2, \"items\": [{\"product\": \"A\", \"quantity\": 1}, {\"product\": \"C\", \"quantity\": 1}]}\n",
    "]\n",
    "# Expected Task: Transform this list into a dictionary where keys are product names and values are total quantities ordered across all orders.\n",
    "\n",
    "# Your solution here:\n",
    "# product_quantities = ...\n",
    "\n",
    "# Expected Output\n",
    "# print(product_quantities)\n",
    "```\n",
    "\n",
    "### Expected Output\n",
    "\n",
    "```\n",
    "{\n",
    "    \"A\": 3,\n",
    "    \"B\": 3,\n",
    "    \"C\": 1\n",
    "}\n",
    "```"
   ]
  },
  {
   "cell_type": "code",
   "execution_count": 4,
   "metadata": {},
   "outputs": [
    {
     "name": "stdout",
     "output_type": "stream",
     "text": [
      "{'A': 3, 'B': 3, 'C': 1}\n"
     ]
    }
   ],
   "source": [
    "orders = [\n",
    "    {\n",
    "        \"order_id\": 1,\n",
    "        \"items\": [{\"product\": \"A\", \"quantity\": 2}, {\"product\": \"B\", \"quantity\": 3}],\n",
    "    },\n",
    "    {\n",
    "        \"order_id\": 2,\n",
    "        \"items\": [{\"product\": \"A\", \"quantity\": 1}, {\"product\": \"C\", \"quantity\": 1}],\n",
    "    },\n",
    "]\n",
    "\n",
    "\n",
    "def prod_qty(orders):\n",
    "    product_quantities = {}\n",
    "\n",
    "    for item in orders:\n",
    "        for product in item[\"items\"]:\n",
    "            prod_name = product[\"product\"]\n",
    "            qty = product[\"quantity\"]\n",
    "\n",
    "            if prod_name in product_quantities.keys():\n",
    "                product_quantities[prod_name] += qty\n",
    "            else:\n",
    "                product_quantities[prod_name] = qty\n",
    "    print(product_quantities)\n",
    "\n",
    "\n",
    "prod_qty(orders)"
   ]
  },
  {
   "cell_type": "markdown",
   "metadata": {},
   "source": [
    "<summary>Exercise 5: Data Consolidation and Summarization (⭐⭐⭐)</summary>\n",
    "\n",
    "### 📊 Objective\n",
    "\n",
    "Consolidate and summarize data from a list of dictionaries.\n",
    "\n",
    "```python\n",
    "# Setup Code\n",
    "transactions = [\n",
    "    {\"date\": \"2021-01-01\", \"amount\": 100, \"category\": \"Food\"},\n",
    "    {\"date\": \"2021-01-01\", \"amount\": 200, \"category\": \"Transport\"},\n",
    "    {\"date\": \"2021-01-02\", \"amount\": 150, \"category\": \"Food\"}\n",
    "]\n",
    "# Expected Task: Summarize the total amount spent per category.\n",
    "\n",
    "# Your solution here:\n",
    "# category_totals = ...\n",
    "\n",
    "# Expected Output\n",
    "# print(category_totals)\n",
    "```\n",
    "\n",
    "### Expected Output\n",
    "\n",
    "```\n",
    "{\n",
    "    \"Food\": 250,\n",
    "    \"Transport\": 200\n",
    "}\n",
    "```"
   ]
  },
  {
   "cell_type": "code",
   "execution_count": 5,
   "metadata": {},
   "outputs": [
    {
     "name": "stdout",
     "output_type": "stream",
     "text": [
      "{'Food': 250, 'Transport': 200}\n"
     ]
    }
   ],
   "source": [
    "transactions = [\n",
    "    {\"date\": \"2021-01-01\", \"amount\": 100, \"category\": \"Food\"},\n",
    "    {\"date\": \"2021-01-01\", \"amount\": 200, \"category\": \"Transport\"},\n",
    "    {\"date\": \"2021-01-02\", \"amount\": 150, \"category\": \"Food\"},\n",
    "]\n",
    "\n",
    "\n",
    "def cat_total(transactions):\n",
    "    category_totals = {}\n",
    "\n",
    "    for transaction in transactions:\n",
    "        category = transaction[\"category\"]\n",
    "        amount = transaction[\"amount\"]\n",
    "\n",
    "        if category in category_totals.keys():\n",
    "            category_totals[category] += amount\n",
    "        else:\n",
    "            category_totals[category] = amount\n",
    "    print(category_totals)\n",
    "\n",
    "\n",
    "cat_total(transactions)\n"
   ]
  },
  {
   "cell_type": "markdown",
   "metadata": {},
   "source": [
    "<summary>Exercise 6: Grouping and Aggregating Data (⭐⭐⭐)</summary>\n",
    "\n",
    "### 📈 Objective\n",
    "\n",
    "Group data by a specific key and perform aggregation.\n",
    "\n",
    "```python\n",
    "# Setup Code\n",
    "sales = [\n",
    "    {\"salesperson\": \"Alice\", \"amount\": 200},\n",
    "    {\"salesperson\": \"Bob\", \"amount\": 150},\n",
    "    {\"salesperson\": \"Alice\", \"amount\": 100}\n",
    "]\n",
    "# Expected Task: Group sales by salesperson and calculate the total sales amount for each.\n",
    "\n",
    "# Your solution here:\n",
    "# sales_by_person = ...\n",
    "\n",
    "# Expected Output\n",
    "# print(sales_by_person)\n",
    "```\n",
    "\n",
    "### Expected Output\n",
    "\n",
    "```\n",
    "{\n",
    "    \"Alice\": 300,\n",
    "    \"Bob\": 150\n",
    "}\n",
    "```"
   ]
  },
  {
   "cell_type": "code",
   "execution_count": 6,
   "metadata": {},
   "outputs": [
    {
     "name": "stdout",
     "output_type": "stream",
     "text": [
      "{'Alice': 300, 'Bob': 150}\n"
     ]
    }
   ],
   "source": [
    "sales = [\n",
    "    {\"salesperson\": \"Alice\", \"amount\": 200},\n",
    "    {\"salesperson\": \"Bob\", \"amount\": 150},\n",
    "    {\"salesperson\": \"Alice\", \"amount\": 100},\n",
    "]\n",
    "\n",
    "\n",
    "def sales_person(sales):\n",
    "    sales_by_person = {}\n",
    "\n",
    "    for sale in sales:\n",
    "        salesperson = sale[\"salesperson\"]\n",
    "        amount = sale[\"amount\"]\n",
    "\n",
    "        if salesperson in sales_by_person.keys():\n",
    "            sales_by_person[salesperson] += amount\n",
    "        else:\n",
    "            sales_by_person[salesperson] = amount\n",
    "    print(sales_by_person)\n",
    "\n",
    "\n",
    "sales_person(sales)\n"
   ]
  },
  {
   "cell_type": "markdown",
   "metadata": {},
   "source": [
    "<summary>Exercise 7: Lambda Functions for Spell Power (⭐⭐)</summary>\n",
    "\n",
    "### ✨ Objective\n",
    "\n",
    "Use a lambda function to sort a list of spells by their power level.\n",
    "\n",
    "```python\n",
    "# Setup Code\n",
    "spells = [(\"Lumos\", 5), (\"Obliviate\", 10), (\"Expelliarmus\", 7)]\n",
    "# Expected Task: Sort the spells list by power level in descending order using a lambda function.\n",
    "\n",
    "# Your solution here:\n",
    "# sorted_spells = ...\n",
    "\n",
    "# Expected Output\n",
    "# print(sorted_spells)\n",
    "```\n",
    "\n",
    "### Expected Output\n",
    "\n",
    "```\n",
    "[('Obliviate', 10), ('Expelliarmus', 7), ('Lumos', 5)]\n",
    "```\n"
   ]
  },
  {
   "cell_type": "code",
   "execution_count": 7,
   "metadata": {},
   "outputs": [
    {
     "name": "stdout",
     "output_type": "stream",
     "text": [
      "[('Obliviate', 10), ('Expelliarmus', 7), ('Lumos', 5)]\n"
     ]
    }
   ],
   "source": [
    "spells = [(\"Lumos\", 5), (\"Obliviate\", 10), (\"Expelliarmus\", 7)]\n",
    "\n",
    "\n",
    "def spell_sort(spells):\n",
    "    sorted_spells = list(sorted(spells, key=lambda spell: spell[1], reverse=True))\n",
    "    print(sorted_spells)\n",
    "\n",
    "\n",
    "spell_sort(spells)\n"
   ]
  },
  {
   "cell_type": "markdown",
   "metadata": {},
   "source": [
    "<summary>Exercise 8: Map Transformation for Potion Ingredients (⭐⭐)</summary>\n",
    "\n",
    "### 🧪 Objective\n",
    "\n",
    "Transform a list of potion ingredients to their required quantities using `map`.\n",
    "\n",
    "```python\n",
    "# Setup Code\n",
    "ingredients = [\"Wolfsbane\", \"Eye of Newt\", \"Dragon Scale\"]\n",
    "# Expected Task: Use `map` to append \": 3 grams\" to each ingredient.\n",
    "\n",
    "# Your solution here:\n",
    "# formatted_ingredients = ...\n",
    "\n",
    "# Expected Output\n",
    "# print(formatted_ingredients)\n",
    "```\n",
    "\n",
    "### Expected Output\n",
    "\n",
    "```\n",
    "['Wolfsbane: 3 grams', 'Eye of Newt: 3 grams', 'Dragon Scale: 3 grams']\n",
    "```\n"
   ]
  },
  {
   "cell_type": "code",
   "execution_count": 8,
   "metadata": {},
   "outputs": [
    {
     "name": "stdout",
     "output_type": "stream",
     "text": [
      "['Wolfsbane: 3 grams', 'Eye of Newt: 3 grams', 'Dragon Scale: 3 grams']\n"
     ]
    }
   ],
   "source": [
    "ingredients = [\"Wolfsbane\", \"Eye of Newt\", \"Dragon Scale\"]\n",
    "\n",
    "\n",
    "def three_grams(ingredients):\n",
    "    formatted_ingredients = list(map(lambda name: name + \": 3 grams\", ingredients))\n",
    "    print(formatted_ingredients)\n",
    "\n",
    "\n",
    "three_grams(ingredients)\n"
   ]
  },
  {
   "cell_type": "markdown",
   "metadata": {},
   "source": [
    "<summary>Exercise 9: Magical Book Filter and Formatter (⭐⭐⭐)</summary>\n",
    "\n",
    "### 📚 Objective\n",
    "\n",
    "Combine `filter`, `map`, and lambda functions to process a list of books and format their titles.\n",
    "\n",
    "```python\n",
    "# Setup Code\n",
    "books = [{\"title\": \"A History of Magic\", \"pages\": 100}, {\"title\": \"Magical Drafts and Potions\", \"pages\": 150}]\n",
    "# Expected Task: Filter books with more than 120 pages and format their titles to uppercase.\n",
    "\n",
    "# Your solution here:\n",
    "# formatted_titles = ...\n",
    "\n",
    "# Expected Output\n",
    "# print(formatted_titles)\n",
    "```\n",
    "\n",
    "### Expected Output\n",
    "\n",
    "```\n",
    "['MAGICAL DRAFTS AND POTIONS']\n",
    "```"
   ]
  },
  {
   "cell_type": "code",
   "execution_count": 9,
   "metadata": {},
   "outputs": [
    {
     "name": "stdout",
     "output_type": "stream",
     "text": [
      "['MAGICAL DRAFTS AND POTIONS']\n"
     ]
    }
   ],
   "source": [
    "books = [\n",
    "    {\"title\": \"A History of Magic\", \"pages\": 100},\n",
    "    {\"title\": \"Magical Drafts and Potions\", \"pages\": 150},\n",
    "]\n",
    "\n",
    "\n",
    "def format_titles(books):\n",
    "    filtered_titles = list(filter(lambda book: book[\"pages\"] > 120, books))\n",
    "    formatted_titles = list(map(lambda book: book[\"title\"].upper(), filtered_titles))\n",
    "\n",
    "    print(formatted_titles)\n",
    "\n",
    "\n",
    "format_titles(books)\n"
   ]
  },
  {
   "cell_type": "markdown",
   "metadata": {},
   "source": [
    "<summary>Exercise 10: Wizard Duel Game Class (⭐⭐⭐⭐)</summary>\n",
    "\n",
    "### ⚔️ Objective\n",
    "\n",
    "Create a `WizardDuel` class where wizards can cast spells at each other until one wins.\n",
    "\n",
    "```python\n",
    "# Setup Code\n",
    "class WizardDuel:\n",
    "    # Your implementation here\n",
    "    pass\n",
    "\n",
    "# Example usage:\n",
    "# duel = WizardDuel(\"Harry\", \"Draco\", 50, 40)\n",
    "# duel.cast_spell(\"Harry\", 10)\n",
    "# duel.cast_spell(\"Draco\", 5)\n",
    "# winner = duel.get_winner()\n",
    "```\n",
    "\n",
    "### Expected Output\n",
    "\n",
    "```\n",
    "After a duel between Harry and Draco, Harry wins with 10 health points left.\n",
    "```"
   ]
  },
  {
   "cell_type": "code",
   "execution_count": 10,
   "metadata": {},
   "outputs": [
    {
     "name": "stdout",
     "output_type": "stream",
     "text": [
      "After a duel between Harry and Draco, Harry wins with 40 health points left.\n"
     ]
    }
   ],
   "source": [
    "class WizardDuel:\n",
    "    def __init__(self, name1, name2, health1, health2):\n",
    "        self.name1 = name1\n",
    "        self.name2 = name2\n",
    "        self.health1 = health1\n",
    "        self.health2 = health2\n",
    "\n",
    "    def cast_spell(self, name, points):\n",
    "        if self.name1 == name:\n",
    "            self.health1 -= points\n",
    "\n",
    "        if self.name2 == name:\n",
    "            self.health2 -= points\n",
    "\n",
    "    def get_winner(self):\n",
    "        if self.health1 > self.health2:\n",
    "            return f\"After a duel between {self.name1} and {self.name2}, {self.name1} wins with {self.health1} health points left.\"\n",
    "        elif self.health2 > self.health1:\n",
    "            return f\"After a duel between {self.name1} and {self.name2}, {self.name2} wins with {self.health2} health points left.\"\n",
    "        else:\n",
    "            return (\n",
    "                f\"After a duel between {self.name1} and {self.name2}, there was a tie.\"\n",
    "            )\n",
    "\n",
    "\n",
    "# Example usage:\n",
    "duel = WizardDuel(\"Harry\", \"Draco\", 50, 40)\n",
    "duel.cast_spell(\"Harry\", 10)\n",
    "duel.cast_spell(\"Draco\", 5)\n",
    "winner = duel.get_winner()\n",
    "print(winner)\n",
    "\n",
    "# Output: After a duel between Harry and Draco, Harry wins with 10 health points left.\n"
   ]
  },
  {
   "cell_type": "markdown",
   "metadata": {},
   "source": [
    "<summary>Exercise 11: Custom Error Handling in Potion Making (⭐⭐⭐)</summary>\n",
    "\n",
    "### 🧪 Objective\n",
    "\n",
    "Create a custom exception to handle errors in potion making, such as using the wrong ingredient.\n",
    "\n",
    "```python\n",
    "# Setup Code\n",
    "class PotionError(Exception):\n",
    "    pass\n",
    "\n",
    "def brew_potion(potion_name, ingredients):\n",
    "    # Your implementation here\n",
    "    pass\n",
    "\n",
    "# Example usage:\n",
    "# try:\n",
    "#     brew_potion(\"Love Potion\", [\"Rose Petal\", \"Unicorn Hair\"])\n",
    "# except PotionError as e:\n",
    "#     print(f\"Caught PotionError: {e}\")\n",
    "```\n",
    "\n",
    "### Expected Output\n",
    "\n",
    "```\n",
    "Caught PotionError: 'Eye of Newt' is not a valid ingredient for the Love Potion.\n",
    "```"
   ]
  },
  {
   "cell_type": "code",
   "execution_count": 11,
   "metadata": {},
   "outputs": [
    {
     "name": "stdout",
     "output_type": "stream",
     "text": [
      "Caught PotionError: 'Eye of Newt' is not a valid ingredient for the Love Potion.\n"
     ]
    }
   ],
   "source": [
    "class PotionError(Exception):\n",
    "    def __init__(self, *args: object):\n",
    "        super().__init__(*args)\n",
    "\n",
    "\n",
    "def brew_potion(potion_name, ingredients):\n",
    "    correct_ingredients = [\"Rose Petal\", \"Unicorn Hair\"]\n",
    "\n",
    "    for ingredient in ingredients:\n",
    "        if ingredient not in correct_ingredients:\n",
    "            raise PotionError(\n",
    "                f\"'{ingredient}' is not a valid ingredient for the {potion_name}.\"\n",
    "            )\n",
    "\n",
    "    print(f\"All ingredients are valid ingredients\")\n",
    "\n",
    "\n",
    "try:\n",
    "    brew_potion(\"Love Potion\", [\"Rose Petal\", \"Unicorn Hair\", \"Eye of Newt\"])\n",
    "except PotionError as e:\n",
    "    print(f\"Caught PotionError: {e}\")\n"
   ]
  },
  {
   "cell_type": "markdown",
   "metadata": {},
   "source": [
    "<summary>Exercise 12: Hogwarts Library Database Query (⭐⭐)</summary>\n",
    "\n",
    "### 📚 Objective\n",
    "\n",
    "Simulate a database query to find books by a specific author using list comprehensions.\n",
    "\n",
    "```python\n",
    "# Setup Code\n",
    "library = [\n",
    "    {\"title\": \"Unfogging the Future\", \"author\": \"Cassandra Vablatsky\"},\n",
    "    {\"title\": \"Magical Hieroglyphs and Logograms\", \"author\": \"Bathilda Bagshot\"}\n",
    "]\n",
    "# Expected Task: Use a list comprehension to select books written by Bathilda Bagshot.\n",
    "\n",
    "# Your solution here:\n",
    "# bagshot_books = ...\n",
    "\n",
    "# Expected Output\n",
    "# print(bagshot_books)\n",
    "```\n",
    "\n",
    "### Expected Output\n",
    "\n",
    "```\n",
    "[{'title': 'Magical Hieroglyphs and Logograms', 'author': 'Bathilda Bagshot'}]\n",
    "```"
   ]
  },
  {
   "cell_type": "code",
   "execution_count": 12,
   "metadata": {},
   "outputs": [
    {
     "name": "stdout",
     "output_type": "stream",
     "text": [
      "[{'title': 'Magical Hieroglyphs and Logograms', 'author': 'Bathilda Bagshot'}]\n"
     ]
    }
   ],
   "source": [
    "library = [\n",
    "    {\"title\": \"Unfogging the Future\", \"author\": \"Cassandra Vablatsky\"},\n",
    "    {\"title\": \"Magical Hieroglyphs and Logograms\", \"author\": \"Bathilda Bagshot\"},\n",
    "]\n",
    "\n",
    "\n",
    "def bathilda_books(library):\n",
    "    bagshot_books = [book for book in library if book[\"author\"] == \"Bathilda Bagshot\"]\n",
    "    print(bagshot_books)\n",
    "\n",
    "\n",
    "bathilda_books(library)\n"
   ]
  },
  {
   "cell_type": "markdown",
   "metadata": {},
   "source": [
    "<summary>Exercise 13: Hogwarts House Points Calculator (⭐⭐⭐)</summary>\n",
    "\n",
    "### 🏆 Objective\n",
    "\n",
    "Calculate the total points for each house using nested loops and a list of dictionaries.\n",
    "\n",
    "```python\n",
    "# Setup Code\n",
    "house_points = [\n",
    "    {\"house\": \"Gryffindor\", \"points\": 35},\n",
    "    {\"house\": \"Slytherin\", \"points\": 50},\n",
    "    {\"house\": \"Gryffindor\", \"points\": 60},\n",
    "    {\"house\": \"Slytherin\", \"points\": 40}\n",
    "]\n",
    "# Expected Task: Aggregate points for each house and print the total.\n",
    "\n",
    "# Your solution here:\n",
    "# house_totals = ...\n",
    "\n",
    "# Expected Output\n",
    "# print(house_totals)\n",
    "```\n",
    "\n",
    "### Expected Output\n",
    "\n",
    "```\n",
    "{\n",
    "    \"Gryffindor\": 95,\n",
    "    \"Slytherin\": 90\n",
    "}\n",
    "```"
   ]
  },
  {
   "cell_type": "code",
   "execution_count": 13,
   "metadata": {},
   "outputs": [
    {
     "name": "stdout",
     "output_type": "stream",
     "text": [
      "{'Gryffindor': 95, 'Slytherin': 90}\n"
     ]
    }
   ],
   "source": [
    "house_points = [\n",
    "    {\"house\": \"Gryffindor\", \"points\": 35},\n",
    "    {\"house\": \"Slytherin\", \"points\": 50},\n",
    "    {\"house\": \"Gryffindor\", \"points\": 60},\n",
    "    {\"house\": \"Slytherin\", \"points\": 40},\n",
    "]\n",
    "\n",
    "\n",
    "def house_total(house_points):\n",
    "    house_totals = {}\n",
    "\n",
    "    for house_point in house_points:\n",
    "        house = house_point[\"house\"]\n",
    "        points = house_point[\"points\"]\n",
    "\n",
    "        if house in house_totals:\n",
    "            house_totals[house] += points\n",
    "        else:\n",
    "            house_totals[house] = points\n",
    "\n",
    "    print(house_totals)\n",
    "\n",
    "\n",
    "house_total(house_points)\n"
   ]
  },
  {
   "cell_type": "markdown",
   "metadata": {},
   "source": [
    "<summary>Exercise 14: Class Inheritance for Magical Creatures (⭐⭐⭐⭐)</summary>\n",
    "\n",
    "### 🐉 Objective\n",
    "\n",
    "Implement a class hierarchy for magical creatures where each subclass overrides a common method.\n",
    "\n",
    "```python\n",
    "# Setup Code\n",
    "class MagicalCreature:\n",
    "    # Your implementation here\n",
    "    pass\n",
    "\n",
    "class Dragon(MagicalCreature):\n",
    "    # Your implementation here\n",
    "    pass\n",
    "\n",
    "class Unicorn(MagicalCreature):\n",
    "    # Your implementation here\n",
    "    pass\n",
    "\n",
    "# Example usage:\n",
    "# dragon = Dragon(\"Norwegian Ridgeback\")\n",
    "# unicorn = Unicorn(\"Silver-maned\")\n",
    "# dragon.sound()  # Should print \"Roar\"\n",
    "# unicorn.sound()  # Should print \"Neigh\"\n",
    "```\n",
    "\n",
    "### Expected Output\n",
    "\n",
    "```\n",
    "Norwegian Ridgeback the Dragon says: Roar!\n",
    "Silver-maned the Unicorn says: Neigh!\n",
    "```\n"
   ]
  },
  {
   "cell_type": "code",
   "execution_count": 14,
   "metadata": {},
   "outputs": [
    {
     "name": "stdout",
     "output_type": "stream",
     "text": [
      "Norwegian Ridgeback the Dragon says: Roar!\n",
      "Silver-maned the Unicorn says: Neigh!\n"
     ]
    }
   ],
   "source": [
    "class MagicalCreature:\n",
    "    def __init__(self, creature):\n",
    "        self.creature = creature\n",
    "\n",
    "\n",
    "class Dragon(MagicalCreature):\n",
    "    def __init__(self, creature):\n",
    "        super().__init__(creature)\n",
    "\n",
    "    def sound(self):\n",
    "        print(f\"{self.creature} the Dragon says: Roar!\")\n",
    "\n",
    "\n",
    "class Unicorn(MagicalCreature):\n",
    "    def __init__(self, creature):\n",
    "        super().__init__(creature)\n",
    "\n",
    "    def sound(self):\n",
    "        print(f\"{self.creature} the Unicorn says: Neigh!\")\n",
    "\n",
    "\n",
    "# Example usage:\n",
    "dragon = Dragon(\"Norwegian Ridgeback\")\n",
    "unicorn = Unicorn(\"Silver-maned\")\n",
    "dragon.sound()\n",
    "unicorn.sound()\n"
   ]
  },
  {
   "cell_type": "markdown",
   "metadata": {},
   "source": [
    "<summary>Exercise 15: Custom Sorting with Lambda for Magical Artifacts (⭐⭐⭐)</summary>\n",
    "\n",
    "### 🔍 Objective\n",
    "\n",
    "Sort a list of magical artifacts by their age and power level using a custom lambda function.\n",
    "\n",
    "```python\n",
    "# Setup Code\n",
    "artifacts = [\n",
    "    {\"name\": \"Cloak of Invisibility\", \"age\": 657, \"power\": 9.5},\n",
    "    {\"name\": \"Elder Wand\", \"age\": 1000, \"power\": 10},\n",
    "    {\"name\": \"Resurrection Stone\", \"age\": 800, \"power\": 7}\n",
    "]\n",
    "# Expected Task: Sort the artifacts first by age, then by power, using a lambda function.\n",
    "\n",
    "# Your solution here:\n",
    "# sorted_artifacts = ...\n",
    "\n",
    "# Expected Output\n",
    "# print(sorted_artifacts)\n",
    "```\n",
    "\n",
    "### Expected Output\n",
    "\n",
    "```\n",
    "[\n",
    "    {\"name\": \"Cloak of Invisibility\", \"age\": 657, \"power\": 9.5},\n",
    "    {\"name\": \"Resurrection Stone\", \"age\": 800, \"power\": 7},\n",
    "    {\"name\": \"Elder Wand\", \"age\": 1000, \"power\": 10}\n",
    "]\n",
    "```"
   ]
  },
  {
   "cell_type": "code",
   "execution_count": 15,
   "metadata": {},
   "outputs": [
    {
     "name": "stdout",
     "output_type": "stream",
     "text": [
      "[{'name': 'Cloak of Invisibility', 'age': 657, 'power': 9.5}, {'name': 'Resurrection Stone', 'age': 800, 'power': 7}, {'name': 'Elder Wand', 'age': 1000, 'power': 10}]\n"
     ]
    }
   ],
   "source": [
    "artifacts = [\n",
    "    {\"name\": \"Cloak of Invisibility\", \"age\": 657, \"power\": 9.5},\n",
    "    {\"name\": \"Elder Wand\", \"age\": 1000, \"power\": 10},\n",
    "    {\"name\": \"Resurrection Stone\", \"age\": 800, \"power\": 7},\n",
    "]\n",
    "\n",
    "\n",
    "def sort_artifact(artifacts):\n",
    "    sorted_artifacts = list(\n",
    "        sorted(artifacts, key=lambda artifact: (artifact[\"age\"], artifact[\"power\"]))\n",
    "    )\n",
    "    print(sorted_artifacts)\n",
    "\n",
    "\n",
    "sort_artifact(artifacts)\n"
   ]
  },
  {
   "cell_type": "markdown",
   "metadata": {},
   "source": [
    "<summary>Exercise 16: Wizard Profile Generator with f-strings (⭐)</summary>\n",
    "\n",
    "### 🧙‍♂️ Objective\n",
    "\n",
    "Dynamically generate wizard profiles using f-strings and dictionary unpacking.\n",
    "\n",
    "```python\n",
    "# Setup Code\n",
    "wizard = {\"name\": \"Albus Dumbledore\", \"title\": \"Headmaster\", \"house\": \"Gryffindor\"}\n",
    "# Expected Task: Use an f-string to create a profile string that includes the wizard's name, title, and house.\n",
    "\n",
    "# Your solution here:\n",
    "# profile = ...\n",
    "\n",
    "# Expected Output\n",
    "# print(profile)\n",
    "```\n",
    "\n",
    "### Expected Output\n",
    "\n",
    "```\n",
    "Albus Dumbledore, the Headmaster of Gryffindor.\n",
    "```"
   ]
  },
  {
   "cell_type": "code",
   "execution_count": 22,
   "metadata": {},
   "outputs": [
    {
     "name": "stdout",
     "output_type": "stream",
     "text": [
      "Albus Dumbledore, the Headmaster of Gryffindor.\n"
     ]
    }
   ],
   "source": [
    "wizard = {\"name\": \"Albus Dumbledore\", \"title\": \"Headmaster\", \"house\": \"Gryffindor\"}\n",
    "\n",
    "\n",
    "def profile(wizard):\n",
    "    profile = f\"{wizard['name']}, the {wizard['title']} of {wizard['house']}.\"\n",
    "    print(profile)\n",
    "\n",
    "\n",
    "profile(wizard)\n"
   ]
  },
  {
   "cell_type": "markdown",
   "metadata": {},
   "source": [
    "<summary>Exercise 17: Magical Creature Adoption Matching (⭐⭐⭐)</summary>\n",
    "\n",
    "### 🦄 Objective\n",
    "\n",
    "Match potential magical creature adopters with creatures based on preferences using `filter` and `map`.\n",
    "\n",
    "```python\n",
    "# Setup Code\n",
    "adopters = [(\"Harry\", \"Phoenix\"), (\"Hermione\", \"House Elf\")]\n",
    "creatures = [(\"Fawkes\", \"Phoenix\"), (\"Dobby\", \"House Elf\"), (\"Buckbeak\", \"Hippogriff\")]\n",
    "# Expected Task: Use `filter` and `map` to create a list of matches between adopters and creatures.\n",
    "\n",
    "# Your solution here:\n",
    "# matches = ...\n",
    "\n",
    "# Expected Output\n",
    "# print(matches)\n",
    "```\n",
    "\n",
    "### Expected Output\n",
    "\n",
    "```\n",
    "[('Harry', 'Fawkes'), ('Hermione', 'Dobby')]\n",
    "```"
   ]
  },
  {
   "cell_type": "code",
   "execution_count": 17,
   "metadata": {},
   "outputs": [
    {
     "name": "stdout",
     "output_type": "stream",
     "text": [
      "[('Harry', 'Fawkes'), ('Hermione', 'Dobby')]\n"
     ]
    }
   ],
   "source": [
    "adopters = [(\"Harry\", \"Phoenix\"), (\"Hermione\", \"House Elf\")]\n",
    "creatures = [(\"Fawkes\", \"Phoenix\"), (\"Dobby\", \"House Elf\"), (\"Buckbeak\", \"Hippogriff\")]\n",
    "\n",
    "\n",
    "def match(adopters, creatures):\n",
    "    matches = []\n",
    "\n",
    "    for adopter in adopters:\n",
    "        filtered_creatures = filter(\n",
    "            lambda creature: adopter[1] == creature[1], creatures\n",
    "        )\n",
    "        map_creatures = \" \".join(\n",
    "            list(map(lambda creature: creature[0], filtered_creatures))\n",
    "        )\n",
    "\n",
    "        matches.append((adopter[0], map_creatures))\n",
    "\n",
    "    print(matches)\n",
    "\n",
    "\n",
    "match(adopters, creatures)\n"
   ]
  },
  {
   "cell_type": "markdown",
   "metadata": {},
   "source": [
    "<summary>Exercise 18: Advanced Potion Making with Nested Loops (⭐⭐⭐)</summary>\n",
    "\n",
    "### 🧪 Objective\n",
    "\n",
    "Simulate potion making where each combination of ingredients produces a unique result using nested loops.\n",
    "\n",
    "```python\n",
    "# Setup Code\n",
    "ingredients = [\"Moonstone\", \"Silver Dust\", \"Dragon Blood\"]\n",
    "# Expected Task: For each pair of ingredients, print out the unique potion they produce.\n",
    "\n",
    "# Your solution here:\n",
    "# potential_potions = ...\n",
    "\n",
    "# Expected Output\n",
    "```\n",
    "\n",
    "### Expected Output\n",
    "\n",
    "```\n",
    "Combining Moonstone and Silver Dust produces a unique potion.\n",
    "Combining Moonstone and Dragon Blood produces a unique potion.\n",
    "Combining Silver Dust and Dragon Blood produces a unique potion.\n",
    "```"
   ]
  },
  {
   "cell_type": "code",
   "execution_count": 18,
   "metadata": {},
   "outputs": [
    {
     "name": "stdout",
     "output_type": "stream",
     "text": [
      "Combining Moonstone and Silver Dust produces a unique potion\n",
      "Combining Moonstone and Dragon Blood produces a unique potion\n",
      "Combining Silver Dust and Dragon Blood produces a unique potion\n"
     ]
    }
   ],
   "source": [
    "ingredients = [\"Moonstone\", \"Silver Dust\", \"Dragon Blood\"]\n",
    "\n",
    "\n",
    "def different_potions(ingredients):\n",
    "    for i in range(len(ingredients) - 1):\n",
    "        for j in range(i + 1, len(ingredients)):\n",
    "            potiential_potions = f\"Combining {ingredients[i]} and {ingredients[j]} produces a unique potion\"\n",
    "            print(potiential_potions)\n",
    "\n",
    "\n",
    "different_potions(ingredients)\n"
   ]
  },
  {
   "cell_type": "markdown",
   "metadata": {},
   "source": [
    "<summary>Exercise 19: Nested Data Manipulation (⭐⭐⭐⭐)</summary>\n",
    "\n",
    "### 🧩 Objective\n",
    "\n",
    "Navigate and manipulate a nested data structure.\n",
    "\n",
    "```python\n",
    "# Setup Code\n",
    "data = [\n",
    "    {\"id\": 1, \"name\": \"Item 1\", \"tags\": [\"tag1\", \"tag2\"]},\n",
    "    {\"id\": 2, \"name\": \"Item 2\", \"tags\": [\"tag2\", \"tag3\"]},\n",
    "    {\"id\": 3, \"name\": \"Item 3\", \"tags\": [\"tag1\", \"tag3\"]}\n",
    "]\n",
    "# Expected Task: For each item, add a new tag \"tag4\" only if \"tag1\" is present in the tags list.\n",
    "\n",
    "# Your solution here:\n",
    "# modified_data = ...\n",
    "\n",
    "# Expected Output\n",
    "# print(modified_data)\n",
    "```\n",
    "\n",
    "### Expected Output\n",
    "\n",
    "```\n",
    "[\n",
    "    {\"id\": 1, \"name\": \"Item 1\", \"tags\": [\"tag1\", \"tag2\", \"tag4\"]},\n",
    "    {\"id\": 2, \"name\": \"Item 2\", \"tags\": [\"tag2\", \"tag3\"]},\n",
    "    {\"id\": 3, \"name\": \"Item 3\", \"tags\": [\"tag1\", \"tag3\", \"tag4\"]}\n",
    "]\n",
    "```"
   ]
  },
  {
   "cell_type": "code",
   "execution_count": 19,
   "metadata": {},
   "outputs": [
    {
     "name": "stdout",
     "output_type": "stream",
     "text": [
      "{'id': 1, 'name': 'Item 1', 'tags': ['tag1', 'tag2', 'tag4']}\n",
      "{'id': 2, 'name': 'Item 2', 'tags': ['tag2', 'tag3']}\n",
      "{'id': 3, 'name': 'Item 3', 'tags': ['tag1', 'tag3', 'tag4']}\n"
     ]
    }
   ],
   "source": [
    "data = [\n",
    "    {\"id\": 1, \"name\": \"Item 1\", \"tags\": [\"tag1\", \"tag2\"]},\n",
    "    {\"id\": 2, \"name\": \"Item 2\", \"tags\": [\"tag2\", \"tag3\"]},\n",
    "    {\"id\": 3, \"name\": \"Item 3\", \"tags\": [\"tag1\", \"tag3\"]},\n",
    "]\n",
    "\n",
    "\n",
    "def tag4(data, tag_no):\n",
    "    for info in data:\n",
    "        if tag_no in info[\"tags\"]:\n",
    "            info[\"tags\"].append(\"tag4\")\n",
    "        print(info)\n",
    "\n",
    "\n",
    "tag4(data, \"tag1\")\n"
   ]
  },
  {
   "cell_type": "markdown",
   "metadata": {},
   "source": [
    "<summary>Exercise 20: Implementing a Custom Sort Function (⭐⭐⭐⭐⭐)</summary>\n",
    "\n",
    "### 🔄 Objective\n",
    "\n",
    "Implement a custom sort function for a list of dictionaries based on multiple criteria.\n",
    "\n",
    "```python\n",
    "# Setup Code\n",
    "tasks = [\n",
    "    {\"id\": 1, \"priority\": \"High\", \"completed\": False},\n",
    "    {\"id\": 2, \"priority\": \"Low\", \"completed\": True},\n",
    "    {\"id\": 3, \"priority\": \"Medium\", \"completed\": False}\n",
    "]\n",
    "# Expected Task: Sort the tasks by \"completed\" status (False first) and then by priority (\"High\", \"Medium\", \"Low\").\n",
    "\n",
    "# Your solution here:\n",
    "# sorted_tasks = ...\n",
    "\n",
    "# Expected Output\n",
    "# print(sorted_tasks)\n",
    "```\n",
    "\n",
    "### Expected Output\n",
    "\n",
    "```\n",
    "[\n",
    "    {\"id\": 1, \"priority\": \"High\", \"completed\": False},\n",
    "    {\"id\": 3, \"priority\": \"Medium\", \"completed\": False},\n",
    "    {\"id\": 2, \"priority\": \"Low\", \"completed\": True}\n",
    "]\n",
    "```"
   ]
  },
  {
   "cell_type": "code",
   "execution_count": 20,
   "metadata": {},
   "outputs": [
    {
     "name": "stdout",
     "output_type": "stream",
     "text": [
      "[{'id': 1, 'priority': 'High', 'completed': False}, {'id': 3, 'priority': 'Medium', 'completed': False}, {'id': 2, 'priority': 'Low', 'completed': True}]\n"
     ]
    }
   ],
   "source": [
    "tasks = [\n",
    "    {\"id\": 1, \"priority\": \"High\", \"completed\": False},\n",
    "    {\"id\": 2, \"priority\": \"Low\", \"completed\": True},\n",
    "    {\"id\": 3, \"priority\": \"Medium\", \"completed\": False},\n",
    "]\n",
    "\n",
    "\n",
    "def sort_task(tasks):\n",
    "    sorted_tasks = list(\n",
    "        sorted(tasks, key=lambda task: (task[\"completed\"], task[\"priority\"]))\n",
    "    )\n",
    "    print(sorted_tasks)\n",
    "\n",
    "\n",
    "sort_task(tasks)\n"
   ]
  }
 ],
 "metadata": {
  "kernelspec": {
   "display_name": ".venv",
   "language": "python",
   "name": "python3"
  },
  "language_info": {
   "codemirror_mode": {
    "name": "ipython",
    "version": 3
   },
   "file_extension": ".py",
   "mimetype": "text/x-python",
   "name": "python",
   "nbconvert_exporter": "python",
   "pygments_lexer": "ipython3",
   "version": "3.10.2"
  }
 },
 "nbformat": 4,
 "nbformat_minor": 2
}
