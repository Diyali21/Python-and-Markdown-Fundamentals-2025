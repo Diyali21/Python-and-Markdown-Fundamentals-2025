{
 "cells": [
  {
   "cell_type": "markdown",
   "metadata": {},
   "source": [
    "## Paradigms (Style of code)\n",
    "- Functional programming - Lisp\n",
    "- OOP - Object Oriented Programming\n",
    "- Procedural programming\n",
    "- Mathematical programming"
   ]
  },
  {
   "cell_type": "markdown",
   "metadata": {
    "vscode": {
     "languageId": "plaintext"
    }
   },
   "source": [
    "## Object Oriented Programming ?\n",
    "\n",
    "- Inspiration nature to solve complex problem\n",
    "- Programming abstract\n",
    "- Programming constructs into objects"
   ]
  },
  {
   "cell_type": "markdown",
   "metadata": {},
   "source": [
    "## Car (Blue print)\n",
    "- Wheels\n",
    "- Engine\n",
    "- model\n",
    "- Doors"
   ]
  },
  {
   "cell_type": "markdown",
   "metadata": {
    "vscode": {
     "languageId": "plaintext"
    }
   },
   "source": [
    "## Object\n",
    "### BMW\n",
    "- Wheels - 4\n",
    "- Engine - v8\n",
    "- model - x5\n",
    "- Doors - 4\n",
    "\n",
    "### Jeep\n",
    "- Wheels - 4\n",
    "- Engine - v6\n",
    "- model - wrangler\n",
    "- Doors - 5\n",
    "\n",
    "### Mclaren \n",
    "- Wheels - 4\n",
    "- Engine - v8\n",
    "- model - 650s\n",
    "- Doors - 2"
   ]
  },
  {
   "cell_type": "code",
   "execution_count": null,
   "metadata": {},
   "outputs": [
    {
     "name": "stdout",
     "output_type": "stream",
     "text": [
      "<__main__.Car object at 0x000001BE99AA9940>\n",
      "4\n",
      "v8\n",
      "x5\n",
      "4\n",
      "wrangler\n",
      "Vroom Vroom\n",
      "Vroom Vroom\n"
     ]
    }
   ],
   "source": [
    "# Blueprint\n",
    "class Car:\n",
    "    # method init -> Called when you create object\n",
    "    def __init__(self, wheels, engine, model, doors):\n",
    "        # self -> object\n",
    "        # instance variables\n",
    "        self.wheels = wheels\n",
    "        self.engine = engine\n",
    "        self.model = model\n",
    "        self.doors = doors\n",
    "     \n",
    "    # instance method   \n",
    "    def horn(self):\n",
    "        return \"Vroom Vroom\"  \n",
    "    \n",
    "# Class -> Data + Logic\n",
    "# instance variables - Data\n",
    "# instance methods  - Logic   \n",
    "        \n",
    "bmw = Car(4, \"v8\", \"x5\", 4)    # bmw -> object / instance of class\n",
    "jeep = Car(4, \"v6\", \"wrangler\", 5) # jeep -> object / instance of class \n",
    "\n",
    "print(bmw) # Car Object\n",
    "# print(bmw['wheels']) # Error\n",
    "print(bmw.wheels) # dot syntax\n",
    "print(bmw.engine)\n",
    "print(bmw.model)\n",
    "print(bmw.doors)\n",
    "\n",
    "print(jeep.model)\n",
    "\n",
    "print(bmw.horn())\n",
    "print(jeep.horn())\n",
    "        "
   ]
  },
  {
   "cell_type": "markdown",
   "metadata": {},
   "source": [
    "## Task 1.1\n",
    "Create blueprint\n",
    "\n",
    "### Bank\n",
    "1. acc_no\n",
    "2. name\n",
    "3. balance\n",
    "\n",
    "\n",
    "## Task 1.2\n",
    "Create 3 accounts\n",
    "- chelo  - 100_000\n",
    "- diyali - 60_000   \n",
    "- jevan  - 800_000"
   ]
  },
  {
   "cell_type": "code",
   "execution_count": 2,
   "metadata": {},
   "outputs": [
    {
     "name": "stdout",
     "output_type": "stream",
     "text": [
      "100000\n"
     ]
    }
   ],
   "source": [
    "class Bank:\n",
    "    def __init__(self, acc_no, name, balance):\n",
    "        self.acc_no = acc_no\n",
    "        self.name = name\n",
    "        self.balance = balance\n",
    "        \n",
    "      \n",
    "chelo = Bank(123, \"Chleo Smith\", 100_000)\n",
    "diyali = Bank(124, \"Diyali Devraj\", 60_000)  \n",
    "jevan = Bank(125, \"Jevan Peters\", 800_000)           \n",
    "\n",
    "\n",
    "print(chelo.balance)"
   ]
  },
  {
   "cell_type": "markdown",
   "metadata": {},
   "source": [
    "## Task 1.3\n",
    "\n",
    "```py\n",
    "print(chelo.display_balance())  # Your balance is: R100,000.00\n",
    "```"
   ]
  },
  {
   "cell_type": "code",
   "execution_count": null,
   "metadata": {},
   "outputs": [
    {
     "name": "stdout",
     "output_type": "stream",
     "text": [
      "100000\n",
      "Your balance is: R100,000.00\n",
      "Your balance is: R60,000.00\n"
     ]
    }
   ],
   "source": [
    "class Bank:\n",
    "    def __init__(self, acc_no, name, balance):\n",
    "        self.acc_no = acc_no\n",
    "        self.name = name\n",
    "        self.balance = balance # int\n",
    "        \n",
    "    # instance method -> self (always first parameter) \n",
    "    def display_balance(self):\n",
    "       return f\"Your balance is: R{self.balance:,.2f}\"  \n",
    "        \n",
    "      \n",
    "chelo = Bank(123, \"Chleo Smith\", 100_000)\n",
    "diyali = Bank(124, \"Diyali Devraj\", 60_000)  \n",
    "jevan = Bank(125, \"Jevan Peters\", 800_000)           \n",
    "\n",
    "\n",
    "# print(chelo.balance) # Allow access to data via methods\n",
    "print(chelo.display_balance()) # ux # display_balance() -> self.balance\n",
    "print(diyali.display_balance())"
   ]
  },
  {
   "cell_type": "markdown",
   "metadata": {},
   "source": [
    "## Task 1.4\n",
    "\n",
    "```py\n",
    "print(chelo.withdraw(2_000))  # Success. Your balance is: R98,000.00\n",
    "print(chelo.display_balance())  # Your balance is: R98,000.00\n",
    "```"
   ]
  },
  {
   "cell_type": "code",
   "execution_count": 16,
   "metadata": {},
   "outputs": [
    {
     "name": "stdout",
     "output_type": "stream",
     "text": [
      "Your balance is: R100,000.00\n",
      "Your balance is: R60,000.00\n",
      "Success. Your balance is: R98,000.00\n",
      "Your balance is: R98,000.00\n",
      "Insufficient funds. Your balance is: R98,000.00\n",
      "Your balance is: R98,000.00\n",
      "Invalid amount\n",
      "Your balance is: R98,000.00\n"
     ]
    }
   ],
   "source": [
    "# 1. Encapsulation - Data + logic -> instance variable + instance methods -> Container (Class)\n",
    "# Access to data\n",
    "class Bank:\n",
    "    def __init__(self, acc_no, name, balance):\n",
    "        self.acc_no = acc_no\n",
    "        self.name = name\n",
    "        self.balance = balance # int\n",
    "        \n",
    "    # instance method -> self (always first parameter) \n",
    "    def display_balance(self):\n",
    "       return f\"Your balance is: R{self.balance:,.2f}\" \n",
    "   \n",
    "    \n",
    "    def withdraw(self, amount):\n",
    "        if amount <= 0:\n",
    "           return \"Invalid amount\" \n",
    "        \n",
    "        if amount > self.balance:\n",
    "          return f\"Insufficient funds. Your balance is: R{self.balance:,.2f}\" \n",
    "        \n",
    "        self.balance = self.balance - amount\n",
    "        return f\"Success. Your balance is: R{self.balance:,.2f}\"\n",
    "        \n",
    "      \n",
    "chelo = Bank(123, \"Chleo Smith\", 100_000)\n",
    "diyali = Bank(124, \"Diyali Devraj\", 60_000)  \n",
    "jevan = Bank(125, \"Jevan Peters\", 800_000)           \n",
    "\n",
    "\n",
    "# print(chelo.balance) # Allow access to data via methods\n",
    "print(chelo.display_balance()) # ux # display_balance() -> self.balance\n",
    "print(diyali.display_balance())\n",
    "print(chelo.withdraw(2_000))\n",
    "print(chelo.display_balance())\n",
    "\n",
    "print(chelo.withdraw(200_000))\n",
    "print(chelo.display_balance())\n",
    "\n",
    "print(chelo.withdraw(-1000))\n",
    "print(chelo.display_balance())"
   ]
  },
  {
   "cell_type": "code",
   "execution_count": null,
   "metadata": {},
   "outputs": [
    {
     "name": "stdout",
     "output_type": "stream",
     "text": [
      "Your balance is: R100,000.000\n",
      "Your balance is: R60,000.000\n",
      "Success. Your balance is: R98,000.000\n",
      "Your balance is: R98,000.000\n",
      "Insufficient funds. Your balance is: R98,000.000\n",
      "Your balance is: R98,000.000\n",
      "Invalid amount\n",
      "Your balance is: R98,000.000\n"
     ]
    }
   ],
   "source": [
    "# 1. Encapsulation - Data + logic -> instance variable + instance methods -> Container (Class)\n",
    "# Access to data\n",
    "class Bank:\n",
    "    def __init__(self, acc_no, name, balance):\n",
    "        self.acc_no = acc_no\n",
    "        self.name = name\n",
    "        self.balance = balance # int\n",
    "        \n",
    "    # instance method -> self (always first parameter) \n",
    "    def display_balance(self):\n",
    "       return f\"Your balance is: R{self.balance:,.2f}\" \n",
    "   \n",
    "    # 2. Abstraction - Beautiful - Complexity Hidden\n",
    "    def withdraw(self, amount):\n",
    "        if amount <= 0:\n",
    "           return \"Invalid amount\" \n",
    "        \n",
    "        if amount > self.balance:\n",
    "          return f\"Insufficient funds. {self.display_balance()}\" \n",
    "        \n",
    "        self.balance -= amount\n",
    "        return f\"Success. {self.display_balance()}\"\n",
    "        \n",
    "      \n",
    "chelo = Bank(123, \"Chleo Smith\", 100_000)\n",
    "diyali = Bank(124, \"Diyali Devraj\", 60_000)  \n",
    "jevan = Bank(125, \"Jevan Peters\", 800_000)           \n",
    "\n",
    "\n",
    "# print(chelo.balance) # Allow access to data via methods\n",
    "print(chelo.display_balance()) # ux # display_balance() -> self.balance\n",
    "print(diyali.display_balance())\n",
    "print(chelo.withdraw(2_000))\n",
    "print(chelo.display_balance())\n",
    "\n",
    "print(chelo.withdraw(200_000))\n",
    "print(chelo.display_balance())\n",
    "\n",
    "print(chelo.withdraw(-1000))\n",
    "print(chelo.display_balance())"
   ]
  },
  {
   "cell_type": "markdown",
   "metadata": {},
   "source": [
    "## Task 1.4\n",
    "\n",
    "```py\n",
    "print(diyali.deposit(5_000))  # Successfully deposited. Your balance is: R65,000.00\n",
    "print(diyali.display_balance())  # Your balance is: R65,000.00\n",
    "print(diyali.withdraw(1_000)) # Success. Your balance is: R64,000.00\n",
    "```"
   ]
  },
  {
   "cell_type": "code",
   "execution_count": null,
   "metadata": {},
   "outputs": [],
   "source": [
    "# 1. Encapsulation - Data + logic -> instance variable + instance methods -> Container (Class)\n",
    "# Access to data\n",
    "class Bank:\n",
    "    def __init__(self, acc_no, name, balance):\n",
    "        self.acc_no = acc_no\n",
    "        self.name = name\n",
    "        self.balance = balance # int\n",
    "        \n",
    "    # instance method -> self (always first parameter) \n",
    "    def display_balance(self):\n",
    "       return f\"Your balance is: R{self.balance:,.2f}\" \n",
    "   \n",
    "    # 2. Abstraction - Beautiful - Complexity Hidden\n",
    "    def withdraw(self, amount):\n",
    "        if amount <= 0:\n",
    "           return \"Invalid amount\" \n",
    "        \n",
    "        if amount > self.balance:\n",
    "          return f\"Insufficient funds. {self.display_balance()}\" \n",
    "        \n",
    "        self.balance -= amount\n",
    "        return f\"Success. {self.display_balance()}\"\n",
    "        \n",
    "      \n",
    "chelo = Bank(123, \"Chleo Smith\", 100_000)\n",
    "diyali = Bank(124, \"Diyali Devraj\", 60_000)  \n",
    "jevan = Bank(125, \"Jevan Peters\", 800_000)    "
   ]
  },
  {
   "cell_type": "code",
   "execution_count": null,
   "metadata": {},
   "outputs": [
    {
     "name": "stdout",
     "output_type": "stream",
     "text": [
      "3.14\n",
      "3.14\n",
      "3.14\n",
      "None\n",
      "None\n"
     ]
    }
   ],
   "source": [
    "# Class variable - for all the instance value remains same\n",
    "# instance variable -> for each instance value is different\n",
    "class Circle:\n",
    "    # Class variable - can change\n",
    "    PI = 3.14\n",
    "    \n",
    "    def __init__(self, radius):\n",
    "        # instance variable \n",
    "        self.radius = radius\n",
    "    \n",
    "    def calculate_area(self):\n",
    "        return self.PI * self.radius ** 2   \n",
    "        \n",
    "c1 = Circle(2)\n",
    "c2 = Circle(4)    \n",
    "\n",
    "print(c1.PI)    \n",
    "print(c2.PI)\n",
    "print(Circle.PI)    \n",
    "\n",
    "print(c1.calculate_area())\n",
    "print(c2.calculate_area())"
   ]
  },
  {
   "cell_type": "code",
   "execution_count": null,
   "metadata": {},
   "outputs": [
    {
     "name": "stdout",
     "output_type": "stream",
     "text": [
      "3.14\n",
      "3.14\n",
      "3.14\n",
      "12.56\n",
      "50.24\n"
     ]
    }
   ],
   "source": [
    "# Class variable - for all the instance value remains same\n",
    "# instance variable -> for each instance value is different\n",
    "class Circle:\n",
    "    # Class variable - can change\n",
    "    PI = 3.14\n",
    "    \n",
    "    def __init__(self, radius):\n",
    "        # instance variable \n",
    "        self.radius = radius\n",
    "    \n",
    "    def calculate_area(self):\n",
    "        return Circle.PI * self.radius ** 2   \n",
    "        \n",
    "c1 = Circle(2)\n",
    "c2 = Circle(4)    \n",
    "\n",
    "print(c1.PI)    \n",
    "print(c2.PI)\n",
    "print(Circle.PI)    \n",
    "\n",
    "print(c1.calculate_area())\n",
    "print(c2.calculate_area())"
   ]
  },
  {
   "cell_type": "markdown",
   "metadata": {},
   "source": [
    "1. @staticmethod\n",
    "2. @classmethod\n",
    "\n",
    "@ -> Decorator"
   ]
  },
  {
   "cell_type": "code",
   "execution_count": null,
   "metadata": {},
   "outputs": [
    {
     "name": "stdout",
     "output_type": "stream",
     "text": [
      "12.56\n"
     ]
    }
   ],
   "source": [
    "# Calculation & not modifying radius\n",
    "def perimeter(radius):\n",
    "    return 2 * Circle.PI * radius\n",
    "\n",
    "\n",
    "print(perimeter(2))"
   ]
  },
  {
   "cell_type": "code",
   "execution_count": null,
   "metadata": {},
   "outputs": [
    {
     "data": {
      "text/plain": [
       "12.56"
      ]
     },
     "execution_count": 27,
     "metadata": {},
     "output_type": "execute_result"
    }
   ],
   "source": [
    "# Class variable - for all the instance value remains same\n",
    "# instance variable -> for each instance value is different\n",
    "# staticmethod \n",
    "# 1. Loose access to self, cls\n",
    "# 2. Calculation \n",
    "# 3. Modify the instance variable\n",
    "class Circle:\n",
    "    # Class variable - can change\n",
    "    PI = 3.14\n",
    "    \n",
    "    def __init__(self, radius):\n",
    "        # instance variable \n",
    "        self.radius = radius\n",
    "    \n",
    "    @staticmethod    \n",
    "    def perimeter(radius):\n",
    "        return 2 * Circle.PI * radius    \n",
    "    \n",
    "    # staticmethod or instance method\n",
    "    def calculate_area(self):\n",
    "        return Circle.PI * self.radius ** 2   \n",
    "        \n",
    "# c1 = Circle(2)\n",
    "# c2 = Circle(4)    \n",
    "\n",
    "# print(c1.PI)    \n",
    "# print(c2.PI)\n",
    "# print(Circle.PI)    \n",
    "\n",
    "# print(c1.calculate_area())\n",
    "# print(c2.calculate_area()) # instance method -> no need to pass radius\n",
    "# print(c1.perimeter(2)) # staticmethod -> pass the radius\n",
    "#  Do you need self? yes. instance method\n",
    "\n",
    "Circle.perimeter(2) # Static method\n"
   ]
  },
  {
   "cell_type": "code",
   "execution_count": null,
   "metadata": {},
   "outputs": [
    {
     "name": "stdout",
     "output_type": "stream",
     "text": [
      "28.26\n",
      "28.26\n"
     ]
    }
   ],
   "source": [
    "# classmethod - access to cls \n",
    "# Modify your class variables\n",
    "\n",
    "# Modify instance variable -> instance method\n",
    "# Modify class variable -> class method\n",
    "\n",
    "class Circle:\n",
    "    # Class variable - can change\n",
    "    PI = 3.14\n",
    "    \n",
    "    def __init__(self, radius):\n",
    "        # instance variable \n",
    "        self.radius = radius\n",
    "    \n",
    "    @staticmethod    \n",
    "    def perimeter(radius):\n",
    "        return 2 * Circle.PI * radius \n",
    "    \n",
    "    @classmethod\n",
    "    def from_diameter(cls, diameter):\n",
    "        radius = diameter / 2\n",
    "        return cls(radius)   # Circle(radius) \n",
    "    \n",
    "    # staticmethod or instance method\n",
    "    def calculate_area(self):\n",
    "        return Circle.PI * self.radius ** 2   \n",
    "    \n",
    "c1 = Circle(3) # Circle(radius) \n",
    "c2 = Circle.from_diameter(6) \n",
    "\n",
    "print(c1.calculate_area())\n",
    "print(c2.calculate_area())\n"
   ]
  },
  {
   "cell_type": "code",
   "execution_count": 29,
   "metadata": {},
   "outputs": [
    {
     "name": "stdout",
     "output_type": "stream",
     "text": [
      "Successfully deposited. Your balance is: R65,000.00\n",
      "Your balance is: R65,000.00\n",
      "Success. Your balance is: R64,000.00\n"
     ]
    }
   ],
   "source": [
    "# 1. Encapsulation - Data + logic -> instance variable + instance methods -> Container (Class)\n",
    "# Access to data\n",
    "class Bank:\n",
    "    def __init__(self, acc_no, name, balance):\n",
    "        self.acc_no = acc_no\n",
    "        self.name = name\n",
    "        self.balance = balance # int\n",
    "        \n",
    "    # instance method -> self (always first parameter) \n",
    "    def display_balance(self):\n",
    "       return f\"Your balance is: R{self.balance:,.2f}\" \n",
    "   \n",
    "    # 2. Abstraction - Beautiful - Complexity Hidden\n",
    "    def withdraw(self, amount):\n",
    "        if amount <= 0:\n",
    "           return \"Invalid amount\" \n",
    "        \n",
    "        if amount > self.balance:\n",
    "          return f\"Insufficient funds. {self.display_balance()}\" \n",
    "        \n",
    "        self.balance -= amount\n",
    "        return f\"Success. {self.display_balance()}\"\n",
    "    \n",
    "    def deposit(self, amount):\n",
    "        if amount <= 0:\n",
    "           return \"Invalid amount\" \n",
    "      \n",
    "        if amount > 0:\n",
    "            self.balance += amount\n",
    "            return f\"Successfully deposited. {self.display_balance()}\"    \n",
    "        \n",
    "      \n",
    "chelo = Bank(123, \"Chleo Smith\", 100_000)\n",
    "diyali = Bank(124, \"Diyali Devraj\", 60_000)  \n",
    "jevan = Bank(125, \"Jevan Peters\", 800_000)    \n",
    "\n",
    "print(diyali.deposit(5_000))  # Successfully deposited. Your balance is: R65,000.00\n",
    "print(diyali.display_balance())  # Your balance is: R65,000.00\n",
    "print(diyali.withdraw(1_000)) # Success. Your balance is: R64,000.00"
   ]
  },
  {
   "cell_type": "markdown",
   "metadata": {},
   "source": [
    "## Task 1.5\n",
    "- interest_rate 2%\n",
    "- One year is done\n",
    "\n",
    "```py\n",
    "chelo.apply_interest()\n",
    "diyali.apply_interest()\n",
    "jevan.apply_interest()\n",
    "\n",
    "print(chelo.display_balance())\n",
    "print(diyali.display_balance())\n",
    "print(jevan.display_balance())\n",
    "\n",
    "```"
   ]
  },
  {
   "cell_type": "code",
   "execution_count": null,
   "metadata": {},
   "outputs": [
    {
     "name": "stdout",
     "output_type": "stream",
     "text": [
      "Success. Your balance is: R102,000.00\n",
      "Success. Your balance is: R61,200.00\n",
      "Success. Your balance is: R816,000.00\n",
      "Your balance is: R102,000.00\n",
      "Your balance is: R61,200.00\n",
      "Your balance is: R816,000.00\n"
     ]
    }
   ],
   "source": [
    "class Bank:\n",
    "    # Class variable\n",
    "    interest_rate = 0.02\n",
    "    \n",
    "    def __init__(self, acc_no, name, balance):\n",
    "        self.acc_no = acc_no\n",
    "        self.name = name\n",
    "        self.balance = balance # int\n",
    "        \n",
    "    def display_balance(self):\n",
    "       return f\"Your balance is: R{self.balance:,.2f}\" \n",
    "   \n",
    "    # Early return\n",
    "    def withdraw(self, amount):\n",
    "        if amount <= 0:\n",
    "           return \"Invalid amount\" \n",
    "        \n",
    "        if amount > self.balance:\n",
    "          return f\"Insufficient funds. {self.display_balance()}\" \n",
    "        \n",
    "        self.balance -= amount\n",
    "        return f\"Success. {self.display_balance()}\"\n",
    "    \n",
    "    def deposit(self, amount):\n",
    "        if amount <= 0:\n",
    "           return \"Invalid amount\" \n",
    "      \n",
    "        if amount > 0:\n",
    "            self.balance += amount\n",
    "            return f\"Successfully deposited. {self.display_balance()}\"    \n",
    "              \n",
    "    def apply_interest(self):\n",
    "        self.balance += Bank.interest_rate * self.balance   \n",
    "        return f\"Success. {self.display_balance()}\"  \n",
    "      \n",
    "chelo = Bank(123, \"Chleo Smith\", 100_000)\n",
    "diyali = Bank(124, \"Diyali Devraj\", 60_000)  \n",
    "jevan = Bank(125, \"Jevan Peters\", 800_000)    \n",
    "\n",
    "print(chelo.apply_interest())\n",
    "print(diyali.apply_interest())\n",
    "print(jevan.apply_interest())\n",
    "\n",
    "print(chelo.display_balance())\n",
    "print(diyali.display_balance())\n",
    "print(jevan.display_balance())"
   ]
  },
  {
   "cell_type": "markdown",
   "metadata": {},
   "source": [
    "## Task 1.6\n",
    "\n",
    "```py\n",
    "Bank.update_interest_rate(4) # 4%\n",
    "```"
   ]
  },
  {
   "cell_type": "code",
   "execution_count": 36,
   "metadata": {},
   "outputs": [
    {
     "name": "stdout",
     "output_type": "stream",
     "text": [
      "Invalid interest rate\n",
      "Success. Your balance is: R102,000.00\n",
      "Your balance is: R102,000.00\n"
     ]
    }
   ],
   "source": [
    "class Bank:\n",
    "    # Class variable\n",
    "    interest_rate = 0.02\n",
    "    \n",
    "    def __init__(self, acc_no, name, balance):\n",
    "        self.acc_no = acc_no\n",
    "        self.name = name\n",
    "        self.balance = balance # int\n",
    "        \n",
    "    def display_balance(self):\n",
    "       return f\"Your balance is: R{self.balance:,.2f}\" \n",
    "   \n",
    "    # Early return\n",
    "    def withdraw(self, amount):\n",
    "        if amount <= 0:\n",
    "           return \"Invalid amount\" \n",
    "        \n",
    "        if amount > self.balance:\n",
    "          return f\"Insufficient funds. {self.display_balance()}\" \n",
    "        \n",
    "        self.balance -= amount\n",
    "        return f\"Success. {self.display_balance()}\"\n",
    "    \n",
    "    def deposit(self, amount):\n",
    "        if amount <= 0:\n",
    "           return \"Invalid amount\" \n",
    "      \n",
    "        if amount > 0:\n",
    "            self.balance += amount\n",
    "            return f\"Successfully deposited. {self.display_balance()}\"    \n",
    "              \n",
    "    def apply_interest(self):\n",
    "        self.balance += Bank.interest_rate * self.balance   \n",
    "        return f\"Success. {self.display_balance()}\"  \n",
    "    \n",
    "    @classmethod\n",
    "    def update_interest_rate(cls, new_rate):\n",
    "        if new_rate <= 0 or new_rate > 100:\n",
    "            return \"Invalid interest rate\" \n",
    "        \n",
    "        cls.interest_rate = new_rate / 100\n",
    "        return f\"Success. The new interest rate is {new_rate}%\"\n",
    "        \n",
    "        \n",
    "      \n",
    "chelo = Bank(123, \"Chleo Smith\", 100_000)\n",
    "diyali = Bank(124, \"Diyali Devraj\", 60_000)  \n",
    "jevan = Bank(125, \"Jevan Peters\", 800_000)    \n",
    "\n",
    "print(Bank.update_interest_rate(105))\n",
    "\n",
    "print(chelo.apply_interest())\n",
    "print(chelo.display_balance())"
   ]
  },
  {
   "cell_type": "markdown",
   "metadata": {},
   "source": [
    "## Task 1.7\n",
    "\n",
    "### Clue:\n",
    "`no_of_accounts`  \n",
    "\n",
    "```py\n",
    "print(Bank.get_total_no_accounts())  # In total we have 3 accounts\n",
    "```"
   ]
  },
  {
   "cell_type": "code",
   "execution_count": null,
   "metadata": {},
   "outputs": [],
   "source": [
    "# 1. Encapsulation\n",
    "# 2. Abstraction\n",
    "# 3. Inheritance\n",
    "# 4. Polymorphism - Behaves differently based on the context (object)"
   ]
  },
  {
   "cell_type": "code",
   "execution_count": null,
   "metadata": {},
   "outputs": [
    {
     "name": "stdout",
     "output_type": "stream",
     "text": [
      "Some sound\n",
      "Woof Woof!! 🐕\n",
      "20\n",
      "Running at 40Km/hr\n"
     ]
    }
   ],
   "source": [
    "# Base / Parent Class\n",
    "class Animal:\n",
    "    def __init__(self, name):\n",
    "        self.name = name\n",
    "\n",
    "    def speak(self):\n",
    "        return \"Some sound\"\n",
    "\n",
    "\n",
    "# Dog inherits from Animal\n",
    "# Child Class\n",
    "class Dog(Animal):\n",
    "    def __init__(self, name, speed):\n",
    "        super().__init__(name) # super() -> Animal (takes care of name)\n",
    "        self.speed = speed\n",
    "        \n",
    "\n",
    "    # eg: Method Overriding: Functionality of Base class is overridden\n",
    "    def speak(self):\n",
    "        return \"Woof Woof!! 🐕\"\n",
    "\n",
    "    def run(self):\n",
    "        return \"🐶 wags tails!! 🐕\"\n",
    "    \n",
    "    def speed_bonus(self):\n",
    "        return f\"Running at {self.speed* 2}Km/hr\"\n",
    "\n",
    "\n",
    "toby = Animal(\"toby\") # speak\n",
    "maxy = Dog(\"maxy\", 20) # speak, run\n",
    "\n",
    "\n",
    "print(toby.speak())\n",
    "print(maxy.speak())\n",
    "maxy.run()\n",
    "\n",
    "# toby.run() ❌\n",
    "# toby.speed ❌\n",
    "print(maxy.speed)\n",
    "print(maxy.speed_bonus())\n"
   ]
  },
  {
   "cell_type": "code",
   "execution_count": null,
   "metadata": {},
   "outputs": [
    {
     "data": {
      "text/plain": [
       "9"
      ]
     },
     "execution_count": 42,
     "metadata": {},
     "output_type": "execute_result"
    }
   ],
   "source": [
    "4 + 5 # Addition"
   ]
  },
  {
   "cell_type": "code",
   "execution_count": null,
   "metadata": {},
   "outputs": [
    {
     "data": {
      "text/plain": [
       "'ss'"
      ]
     },
     "execution_count": 43,
     "metadata": {},
     "output_type": "execute_result"
    }
   ],
   "source": [
    "\"s\" + \"s\" # Concatenation"
   ]
  },
  {
   "cell_type": "markdown",
   "metadata": {},
   "source": [
    "## Task 1.7\n",
    "\n",
    "### Clue:\n",
    "`no_of_accounts`  \n",
    "\n",
    "```py\n",
    "print(Bank.get_total_no_accounts())  # In total we have 3 accounts\n",
    "```"
   ]
  },
  {
   "cell_type": "code",
   "execution_count": 49,
   "metadata": {},
   "outputs": [
    {
     "name": "stdout",
     "output_type": "stream",
     "text": [
      "In total we have 2 accounts\n",
      "In total we have 3 accounts\n"
     ]
    }
   ],
   "source": [
    "class Bank:\n",
    "    # Class variable\n",
    "    interest_rate = 0.02\n",
    "    no_of_accounts = 0\n",
    "    \n",
    "    def __init__(self, acc_no, name, balance):\n",
    "        self.acc_no = acc_no\n",
    "        self.name = name\n",
    "        self.balance = balance # int\n",
    "        Bank.no_of_accounts += 1\n",
    "        \n",
    "    def display_balance(self):\n",
    "       return f\"Your balance is: R{self.balance:,.2f}\" \n",
    "   \n",
    "    # Early return\n",
    "    def withdraw(self, amount):\n",
    "        if amount <= 0:\n",
    "           return \"Invalid amount\" \n",
    "        \n",
    "        if amount > self.balance:\n",
    "          return f\"Insufficient funds. {self.display_balance()}\" \n",
    "        \n",
    "        self.balance -= amount\n",
    "        return f\"Success. {self.display_balance()}\"\n",
    "    \n",
    "    def deposit(self, amount):\n",
    "        if amount <= 0:\n",
    "           return \"Invalid amount\" \n",
    "      \n",
    "        if amount > 0:\n",
    "            self.balance += amount\n",
    "            return f\"Successfully deposited. {self.display_balance()}\"    \n",
    "              \n",
    "    def apply_interest(self):\n",
    "        self.balance += Bank.interest_rate * self.balance   \n",
    "        return f\"Success. {self.display_balance()}\"  \n",
    "    \n",
    "    @classmethod\n",
    "    def update_interest_rate(cls, new_rate):\n",
    "        if new_rate <= 0 or new_rate > 100:\n",
    "            return \"Invalid interest rate\" \n",
    "        \n",
    "        cls.interest_rate = new_rate / 100\n",
    "        return f\"Success. The new interest rate is {new_rate}%\"\n",
    "     \n",
    "    @staticmethod   \n",
    "    def get_total_no_accounts():\n",
    "        return f\"In total we have {Bank.no_of_accounts} accounts\"   \n",
    "      \n",
    "chelo = Bank(123, \"Chleo Smith\", 100_000)\n",
    "diyali = Bank(124, \"Diyali Devraj\", 60_000)  \n",
    "\n",
    "print(Bank.get_total_no_accounts())\n",
    "\n",
    "jevan = Bank(125, \"Jevan Peters\", 800_000)  \n",
    "\n",
    "\n",
    "print(Bank.get_total_no_accounts())  \n"
   ]
  },
  {
   "cell_type": "markdown",
   "metadata": {},
   "source": [
    "## Task 1.8 & Task 1.9\n",
    "1.  SavingsAccount - 5%\n",
    "2.  CheckingAccount - R1 - transaction fee, Interest rate does not change\n",
    "\n",
    "```py\n",
    "chelo = SavingsAccount(123, \"Chleo Smith\", 100_000)\n",
    "diyali = Bank(124, \"Diyali Devraj\", 60_000)  \n",
    "\n",
    "\n",
    "chelo.apply_interest()\n",
    "diyali.apply_interest()\n",
    "```"
   ]
  },
  {
   "cell_type": "code",
   "execution_count": 51,
   "metadata": {},
   "outputs": [
    {
     "name": "stdout",
     "output_type": "stream",
     "text": [
      "Success. Your balance is: R105,000.00\n",
      "Success. Your balance is: R61,200.00\n"
     ]
    }
   ],
   "source": [
    "class Bank:\n",
    "    # Class variable\n",
    "    interest_rate = 0.02\n",
    "    no_of_accounts = 0\n",
    "    \n",
    "    def __init__(self, acc_no, name, balance):\n",
    "        self.acc_no = acc_no\n",
    "        self.name = name\n",
    "        self.balance = balance # int\n",
    "        Bank.no_of_accounts += 1\n",
    "        \n",
    "    def display_balance(self):\n",
    "       return f\"Your balance is: R{self.balance:,.2f}\" \n",
    "   \n",
    "    # Early return\n",
    "    def withdraw(self, amount):\n",
    "        if amount <= 0:\n",
    "           return \"Invalid amount\" \n",
    "        \n",
    "        if amount > self.balance:\n",
    "          return f\"Insufficient funds. {self.display_balance()}\" \n",
    "        \n",
    "        self.balance -= amount\n",
    "        return f\"Success. {self.display_balance()}\"\n",
    "    \n",
    "    def deposit(self, amount):\n",
    "        if amount <= 0:\n",
    "           return \"Invalid amount\" \n",
    "      \n",
    "        if amount > 0:\n",
    "            self.balance += amount\n",
    "            return f\"Successfully deposited. {self.display_balance()}\"    \n",
    "              \n",
    "    def apply_interest(self):\n",
    "        self.balance += Bank.interest_rate * self.balance   \n",
    "        return f\"Success. {self.display_balance()}\"  \n",
    "    \n",
    "    @classmethod\n",
    "    def update_interest_rate(cls, new_rate):\n",
    "        if new_rate <= 0 or new_rate > 100:\n",
    "            return \"Invalid interest rate\" \n",
    "        \n",
    "        cls.interest_rate = new_rate / 100\n",
    "        return f\"Success. The new interest rate is {new_rate}%\"\n",
    "     \n",
    "    @staticmethod   \n",
    "    def get_total_no_accounts():\n",
    "        return f\"In total we have {Bank.no_of_accounts} accounts\"   \n",
    "      \n",
    "class SavingsAccount(Bank):\n",
    "        interest_rate = 0.05\n",
    "        \n",
    "        def __init__(self, acc_no, name, balance):\n",
    "            super().__init__(acc_no, name, balance)\n",
    "         \n",
    "        # Method Overriding \n",
    "        def apply_interest(self):\n",
    "            self.balance += SavingsAccount.interest_rate * self.balance   \n",
    "            return f\"Success. {self.display_balance()}\"      \n",
    "            \n",
    "        \n",
    "\n",
    "chelo = SavingsAccount(123, \"Chleo Smith\", 100_000)\n",
    "diyali = Bank(124, \"Diyali Devraj\", 60_000)  \n",
    "\n",
    "\n",
    "print(chelo.apply_interest())\n",
    "print(diyali.apply_interest())\n",
    "        "
   ]
  },
  {
   "cell_type": "code",
   "execution_count": null,
   "metadata": {},
   "outputs": [
    {
     "name": "stdout",
     "output_type": "stream",
     "text": [
      "Success. Your balance is: R105,000.00\n",
      "Success. Your balance is: R61,200.00\n"
     ]
    }
   ],
   "source": [
    "class Bank:\n",
    "    # Class variable\n",
    "    interest_rate = 0.02\n",
    "    no_of_accounts = 0\n",
    "    \n",
    "    def __init__(self, acc_no, name, balance):\n",
    "        self.acc_no = acc_no\n",
    "        self.name = name\n",
    "        self.balance = balance # int\n",
    "        Bank.no_of_accounts += 1\n",
    "        \n",
    "    def display_balance(self):\n",
    "       return f\"Your balance is: R{self.balance:,.2f}\" \n",
    "   \n",
    "    # Early return\n",
    "    def withdraw(self, amount):\n",
    "        if amount <= 0:\n",
    "           return \"Invalid amount\" \n",
    "        \n",
    "        if amount > self.balance:\n",
    "          return f\"Insufficient funds. {self.display_balance()}\" \n",
    "        \n",
    "        self.balance -= amount\n",
    "        return f\"Success. {self.display_balance()}\"\n",
    "    \n",
    "    def deposit(self, amount):\n",
    "        if amount <= 0:\n",
    "           return \"Invalid amount\" \n",
    "      \n",
    "        if amount > 0:\n",
    "            self.balance += amount\n",
    "            return f\"Successfully deposited. {self.display_balance()}\"    \n",
    "              \n",
    "    def apply_interest(self):\n",
    "        self.balance += self.interest_rate * self.balance   \n",
    "        return f\"Success. {self.display_balance()}\"  \n",
    "    \n",
    "    @classmethod\n",
    "    def update_interest_rate(cls, new_rate):\n",
    "        if new_rate <= 0 or new_rate > 100:\n",
    "            return \"Invalid interest rate\" \n",
    "        \n",
    "        cls.interest_rate = new_rate / 100\n",
    "        return f\"Success. The new interest rate is {new_rate}%\"\n",
    "     \n",
    "    @staticmethod   \n",
    "    def get_total_no_accounts():\n",
    "        return f\"In total we have {Bank.no_of_accounts} accounts\"   \n",
    "      \n",
    "class SavingsAccount(Bank):\n",
    "        interest_rate = 0.05 \n",
    "            \n",
    "    \n",
    "chelo = SavingsAccount(123, \"Chleo Smith\", 100_000)\n",
    "diyali = Bank(124, \"Diyali Devraj\", 60_000)  \n",
    "\n",
    "\n",
    "print(chelo.apply_interest())\n",
    "print(diyali.apply_interest())\n",
    "        "
   ]
  },
  {
   "cell_type": "code",
   "execution_count": 54,
   "metadata": {},
   "outputs": [
    {
     "data": {
      "text/plain": [
       "'Success. Your balance is: R48,999.00'"
      ]
     },
     "execution_count": 54,
     "metadata": {},
     "output_type": "execute_result"
    }
   ],
   "source": [
    "class CheckingAccount(Bank):\n",
    "    transaction_fee = 1\n",
    "\n",
    "    def withdraw(self, amount):\n",
    "        amount += self.transaction_fee\n",
    "        if amount <= 0:\n",
    "            return \"Invalid amount\"\n",
    "\n",
    "        if amount > self.balance:\n",
    "            return f\"Insufficient funds. {self.display_balance()}\"\n",
    "\n",
    "        self.balance -= amount\n",
    "        return f\"Success. {self.display_balance()}\"\n",
    "\n",
    "\n",
    "anita = CheckingAccount(123, \"Chleo Smith\", 50_000)\n",
    "anita.withdraw(1000)  # Balance -> 48,999"
   ]
  },
  {
   "cell_type": "code",
   "execution_count": 56,
   "metadata": {},
   "outputs": [
    {
     "data": {
      "text/plain": [
       "'Success. Your balance is: R48,999.00'"
      ]
     },
     "execution_count": 56,
     "metadata": {},
     "output_type": "execute_result"
    }
   ],
   "source": [
    "class CheckingAccount(Bank):\n",
    "    transaction_fee = 1\n",
    "\n",
    "    def withdraw(self, amount):\n",
    "        amount += self.transaction_fee\n",
    "        return super().withdraw(amount)\n",
    "\n",
    "\n",
    "anita = CheckingAccount(123, \"Chleo Smith\", 50_000)\n",
    "anita.withdraw(1000)  # Balance -> 48,999"
   ]
  },
  {
   "cell_type": "code",
   "execution_count": 57,
   "metadata": {},
   "outputs": [
    {
     "data": {
      "text/plain": [
       "'Success. Your balance is: R48,999.00'"
      ]
     },
     "execution_count": 57,
     "metadata": {},
     "output_type": "execute_result"
    }
   ],
   "source": [
    "class CheckingAccount(Bank):\n",
    "    transaction_fee = 1\n",
    "\n",
    "    def withdraw(self, amount):\n",
    "        return super().withdraw(amount + self.transaction_fee)\n",
    "\n",
    "\n",
    "anita = CheckingAccount(123, \"Chleo Smith\", 50_000)\n",
    "anita.withdraw(1000)  # Balance -> 48,999"
   ]
  }
 ],
 "metadata": {
  "kernelspec": {
   "display_name": ".venv",
   "language": "python",
   "name": "python3"
  },
  "language_info": {
   "codemirror_mode": {
    "name": "ipython",
    "version": 3
   },
   "file_extension": ".py",
   "mimetype": "text/x-python",
   "name": "python",
   "nbconvert_exporter": "python",
   "pygments_lexer": "ipython3",
   "version": "3.13.2"
  }
 },
 "nbformat": 4,
 "nbformat_minor": 2
}
