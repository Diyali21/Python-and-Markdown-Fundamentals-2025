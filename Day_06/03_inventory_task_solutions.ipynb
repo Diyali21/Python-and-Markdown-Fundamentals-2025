{
 "cells": [
  {
   "cell_type": "markdown",
   "metadata": {},
   "source": [
    "# Task 1.1"
   ]
  },
  {
   "cell_type": "code",
   "execution_count": null,
   "metadata": {},
   "outputs": [],
   "source": [
    "inventory = [\n",
    "    {\"name\": \"Apple 🍎\", \"quantity\": 30, \"price\": 0.5},\n",
    "    {\"name\": \"Banana 🍌\", \"quantity\": 20, \"price\": 0.2},\n",
    "]\n",
    "\n",
    "item_name = input(\"What is the product name? \")\n",
    "item_qty = int(input(\"What is the quantity? \"))\n",
    "item_price = float(input(\"What is the price? \"))\n",
    "\n",
    "product = {\"name: \": item_name, \"quantity: \": item_qty, \"price: \": item_price}\n",
    "\n",
    "inventory.append(product)\n",
    "\n",
    "\n",
    "continue_input = input(\"Do you want to continue? \").lower()\n",
    "\n",
    "while continue_input == \"yes\":\n",
    "    item_name = input(\"What is the product name? \")\n",
    "    item_qty = int(input(\"What is the quantity? \"))\n",
    "    item_price = float(input(\"What is the price? \"))\n",
    "\n",
    "    product = {\"name: \": item_name, \"quantity: \": item_qty, \"price: \": item_price}\n",
    "\n",
    "    inventory.append(product)\n",
    "    continue_input = input(\"Do you want to continue? \").lower()\n",
    "\n",
    "print(inventory)\n"
   ]
  },
  {
   "cell_type": "markdown",
   "metadata": {},
   "source": [
    "# Task 1.2"
   ]
  },
  {
   "cell_type": "code",
   "execution_count": null,
   "metadata": {},
   "outputs": [],
   "source": []
  }
 ],
 "metadata": {
  "language_info": {
   "name": "python"
  }
 },
 "nbformat": 4,
 "nbformat_minor": 2
}
