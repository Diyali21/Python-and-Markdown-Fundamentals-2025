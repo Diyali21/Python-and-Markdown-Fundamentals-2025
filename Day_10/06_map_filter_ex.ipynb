{
 "cells": [
  {
   "cell_type": "markdown",
   "metadata": {},
   "source": [
    "## Task 1.1 (map or filter)\n",
    "Number letter in the name\n",
    "`[4, 8, 11, 15, 10, 4]`"
   ]
  },
  {
   "cell_type": "code",
   "execution_count": null,
   "metadata": {},
   "outputs": [
    {
     "name": "stdout",
     "output_type": "stream",
     "text": [
      "[4, 8, 11, 15, 10, 4]\n"
     ]
    }
   ],
   "source": [
    "avengers = [\n",
    "    \"Hulk\",\n",
    "    \"Iron man\",\n",
    "    \"Black widow\",\n",
    "    \"Captain america\",\n",
    "    \"Spider man\",\n",
    "    \"Thor\",\n",
    "]\n",
    "\n",
    "# List of str -> List of int\n",
    "letter_count = list(map(lambda name: len(name), avengers))\n",
    "print(letter_count)\n"
   ]
  },
  {
   "cell_type": "markdown",
   "metadata": {},
   "source": [
    "## Task 1.2 (map or filter)\n",
    "\n",
    "Find longer names more the 10 letters name and stored in a new list\n",
    "\n",
    "Output\n",
    "[\"Black widow\", \"Captain america\"]"
   ]
  },
  {
   "cell_type": "code",
   "execution_count": 4,
   "metadata": {},
   "outputs": [
    {
     "data": {
      "text/plain": [
       "['Black widow', 'Captain america']"
      ]
     },
     "execution_count": 4,
     "metadata": {},
     "output_type": "execute_result"
    }
   ],
   "source": [
    "longer_names  = list(filter(lambda name: len(name) > 10, avengers))\n",
    "\n",
    "longer_names"
   ]
  },
  {
   "cell_type": "markdown",
   "metadata": {},
   "source": [
    "## Task 1.3\n",
    "\n",
    "Find the passed student's names (pass criteria >= 40)\n",
    "\n",
    "Output\n",
    "[\"Lillian Ellis\", \"Debra Beard\",  \"Nettie Hancock\" ]\n",
    "\n",
    "Clue:\n",
    "combination of map & filter"
   ]
  },
  {
   "cell_type": "code",
   "execution_count": 6,
   "metadata": {},
   "outputs": [],
   "source": [
    "scores = [\n",
    "  {\n",
    "    \"marks\": 32,\n",
    "    \"name\": \"Yvette Merritt\",\n",
    "  },\n",
    "  {\n",
    "    \"marks\": 57,\n",
    "    \"name\": \"Lillian Ellis\",\n",
    "  },\n",
    "  {\n",
    "    \"marks\": 22,\n",
    "    \"name\": \"Mccall Carter\",\n",
    "  },\n",
    "  {\n",
    "    \"marks\": 21,\n",
    "    \"name\": \"Pate Collier\",\n",
    "  },\n",
    "  {\n",
    "    \"marks\": 91,\n",
    "    \"name\": \"Debra Beard\",\n",
    "  },\n",
    "  {\n",
    "    \"marks\": 75,\n",
    "    \"name\": \"Nettie Hancock\",\n",
    "  },\n",
    "  {\n",
    "    \"marks\": 20,\n",
    "    \"name\": \"Hatfield Hodge\",\n",
    "  },\n",
    "]\n",
    "\n"
   ]
  },
  {
   "cell_type": "code",
   "execution_count": 13,
   "metadata": {},
   "outputs": [
    {
     "name": "stdout",
     "output_type": "stream",
     "text": [
      "[{'marks': 57, 'name': 'Lillian Ellis'},\n",
      " {'marks': 91, 'name': 'Debra Beard'},\n",
      " {'marks': 75, 'name': 'Nettie Hancock'}]\n",
      "['Lillian Ellis', 'Debra Beard', 'Nettie Hancock']\n"
     ]
    }
   ],
   "source": [
    "from pprint import pprint\n",
    "\n",
    "\n",
    "passed_students = list(filter(lambda student: student['marks'] >= 40, scores))\n",
    "pprint(passed_students)\n",
    "\n",
    "names = list(map(lambda student: student['name'], passed_students))\n",
    "pprint(names)\n",
    "\n"
   ]
  },
  {
   "cell_type": "code",
   "execution_count": 15,
   "metadata": {},
   "outputs": [
    {
     "name": "stdout",
     "output_type": "stream",
     "text": [
      "['Lillian Ellis', 'Debra Beard', 'Nettie Hancock']\n"
     ]
    }
   ],
   "source": [
    "names = list(\n",
    "    map(\n",
    "        lambda student: student[\"name\"],\n",
    "       filter(lambda student: student[\"marks\"] >= 40, scores),\n",
    "    )\n",
    ")\n",
    "pprint(names)"
   ]
  },
  {
   "cell_type": "markdown",
   "metadata": {},
   "source": [
    "## Task 1.4\n",
    "Find the topper\n",
    "\n",
    "Clue:\n",
    "Use sorted() - HOF\n",
    "\n",
    "Output\n",
    "Debra Beard"
   ]
  },
  {
   "cell_type": "code",
   "execution_count": null,
   "metadata": {},
   "outputs": [],
   "source": [
    "scores = [\n",
    "  {\n",
    "    \"marks\": 32,\n",
    "    \"name\": \"Yvette Merritt\",\n",
    "  },\n",
    "  {\n",
    "    \"marks\": 57,\n",
    "    \"name\": \"Lillian Ellis\",\n",
    "  },\n",
    "  {\n",
    "    \"marks\": 22,\n",
    "    \"name\": \"Mccall Carter\",\n",
    "  },\n",
    "  {\n",
    "    \"marks\": 21,\n",
    "    \"name\": \"Pate Collier\",\n",
    "  },\n",
    "  {\n",
    "    \"marks\": 91,\n",
    "    \"name\": \"Debra Beard\",\n",
    "  },\n",
    "  {\n",
    "    \"marks\": 75,\n",
    "    \"name\": \"Nettie Hancock\",\n",
    "  },\n",
    "  {\n",
    "    \"marks\": 20,\n",
    "    \"name\": \"Hatfield Hodge\",\n",
    "  },\n",
    "]\n",
    "\n"
   ]
  },
  {
   "cell_type": "code",
   "execution_count": 18,
   "metadata": {},
   "outputs": [
    {
     "data": {
      "text/plain": [
       "'Debra Beard'"
      ]
     },
     "execution_count": 18,
     "metadata": {},
     "output_type": "execute_result"
    }
   ],
   "source": [
    "# sort\n",
    "sorted_scores = sorted(scores,  key=lambda student: student[\"marks\"])\n",
    "\n",
    "topper = sorted_scores[-1]\n",
    "topper['name']"
   ]
  },
  {
   "cell_type": "code",
   "execution_count": 21,
   "metadata": {},
   "outputs": [
    {
     "data": {
      "text/plain": [
       "'Debra Beard'"
      ]
     },
     "execution_count": 21,
     "metadata": {},
     "output_type": "execute_result"
    }
   ],
   "source": [
    "sorted_scores = sorted(scores,  key=lambda student: student[\"marks\"], reverse=True)\n",
    "\n",
    "topper = sorted_scores[0]\n",
    "topper['name']"
   ]
  }
 ],
 "metadata": {
  "kernelspec": {
   "display_name": ".venv",
   "language": "python",
   "name": "python3"
  },
  "language_info": {
   "codemirror_mode": {
    "name": "ipython",
    "version": 3
   },
   "file_extension": ".py",
   "mimetype": "text/x-python",
   "name": "python",
   "nbconvert_exporter": "python",
   "pygments_lexer": "ipython3",
   "version": "3.13.2"
  }
 },
 "nbformat": 4,
 "nbformat_minor": 2
}
