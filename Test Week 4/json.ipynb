{
 "cells": [
  {
   "cell_type": "code",
   "execution_count": 2,
   "metadata": {},
   "outputs": [],
   "source": [
    "product_data = \"\"\"\n",
    "[\n",
    "    {\n",
    "        \"id\": 1,\n",
    "        \"name\": \"Wireless Headphones\",\n",
    "        \"category\": \"Electronics\",\n",
    "        \"inStock\": true,\n",
    "        \"price\": 199.99\n",
    "    },\n",
    "    {\n",
    "        \"id\": 2,\n",
    "        \"name\": \"Bluetooth Speaker\",\n",
    "        \"category\": \"Electronics\",\n",
    "        \"inStock\": false,\n",
    "        \"price\": 99.99\n",
    "    },\n",
    "    {\n",
    "        \"id\": 3,\n",
    "        \"name\": \"Smartwatch\",\n",
    "        \"category\": \"Wearables\",\n",
    "        \"inStock\": true,\n",
    "        \"price\": 149.99\n",
    "    }\n",
    "]\n",
    "\"\"\"\n"
   ]
  },
  {
   "cell_type": "markdown",
   "metadata": {},
   "source": [
    "## Task \n",
    "- For each product that is in stock, reduce the product's price by 7% (i.e., apply a discount) and round off to 2 decimal points.\n",
    "- Save the updated JSON data to a file named \"discounted_products.json\"."
   ]
  },
  {
   "cell_type": "code",
   "execution_count": 4,
   "metadata": {},
   "outputs": [],
   "source": [
    "import json\n",
    "\n",
    "product_dict = json.loads(product_data)\n",
    "\n",
    "product_list = [{**product, 'price': round(product['price'] * 0.93, 2)} if product['inStock'] else product for product in product_dict]\n",
    "\n",
    "with open(\"./discounted_products.json\", \"w\") as file:\n",
    "    json.dump(product_list, file, indent= 4)"
   ]
  }
 ],
 "metadata": {
  "kernelspec": {
   "display_name": ".venv",
   "language": "python",
   "name": "python3"
  },
  "language_info": {
   "codemirror_mode": {
    "name": "ipython",
    "version": 3
   },
   "file_extension": ".py",
   "mimetype": "text/x-python",
   "name": "python",
   "nbconvert_exporter": "python",
   "pygments_lexer": "ipython3",
   "version": "3.10.2"
  }
 },
 "nbformat": 4,
 "nbformat_minor": 2
}
