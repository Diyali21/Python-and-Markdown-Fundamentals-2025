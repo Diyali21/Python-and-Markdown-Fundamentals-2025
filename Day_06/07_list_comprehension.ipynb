{
 "cells": [
  {
   "cell_type": "markdown",
   "metadata": {},
   "source": [
    "# List Comprehension"
   ]
  },
  {
   "cell_type": "code",
   "execution_count": null,
   "metadata": {},
   "outputs": [],
   "source": [
    "nums = [3, 8, 10, 12]\n",
    "\n",
    "squares = []\n",
    "for num in nums:\n",
    "    squares.append(num**2)\n",
    "\n",
    "\n",
    "print(squares)"
   ]
  },
  {
   "cell_type": "code",
   "execution_count": null,
   "metadata": {},
   "outputs": [],
   "source": [
    "squares = [num**2  for num in nums] # Pythonic way\n",
    "# Square all num for each num in nums\n",
    "print(squares)"
   ]
  },
  {
   "cell_type": "code",
   "execution_count": null,
   "metadata": {},
   "outputs": [],
   "source": [
    "odds = []\n",
    "for i in range(50):\n",
    "    if i % 2 != 0:\n",
    "        odds.append(i)\n",
    "        \n",
    "odds = [num for num in range(50) if i % 2 != 0]   \n",
    "\n",
    "# Give num for each num in range(50) where it is odd\n",
    "        \n",
    "odds       "
   ]
  },
  {
   "cell_type": "code",
   "execution_count": null,
   "metadata": {},
   "outputs": [],
   "source": [
    "\"a\" if (5 > 6) and (7 > 6) else \"b\" if 6 > 10 else \"c\" # Nesting ternary"
   ]
  },
  {
   "cell_type": "code",
   "execution_count": 12,
   "metadata": {},
   "outputs": [
    {
     "name": "stdout",
     "output_type": "stream",
     "text": [
      "[4, 8, 11, 15, 10, 4]\n"
     ]
    }
   ],
   "source": [
    "avengers = [\n",
    "    \"Hulk\",\n",
    "    \"Iron man\",\n",
    "    \"Black widow\",\n",
    "    \"Captain america\",\n",
    "    \"Spider man\",\n",
    "    \"Thor\",\n",
    "]\n",
    "\n",
    "# avengers_letter_count = []\n",
    "\n",
    "# # Loop list & method\n",
    "# for i in range(len(avengers)):\n",
    "#     avengers_letter_count.append(len(avengers[i]))    \n",
    "# print(avengers_letter_count)\n",
    "\n",
    "avengers_letter_count = []\n",
    "for avenger in avengers:\n",
    "    avengers_letter_count.append(len(avenger)) \n",
    "    \n",
    "print(avengers_letter_count)    "
   ]
  },
  {
   "cell_type": "code",
   "execution_count": 13,
   "metadata": {},
   "outputs": [
    {
     "name": "stdout",
     "output_type": "stream",
     "text": [
      "[4, 8, 11, 15, 10, 4]\n"
     ]
    }
   ],
   "source": [
    "avengers_letter_count = [len(avenger)  for avenger in avengers ]   \n",
    "print(avengers_letter_count)    "
   ]
  },
  {
   "cell_type": "code",
   "execution_count": null,
   "metadata": {},
   "outputs": [],
   "source": [
    "points = [(3, 4), (6, 12) , (10, 13)]\n",
    "\n",
    "distances = []\n",
    "for x, y in points: # unpacking\n",
    "    distance = round((x**2 + y**2)**0.5, 2)\n",
    "    distances.append(distance)\n",
    "    \n",
    "print(distances)"
   ]
  },
  {
   "cell_type": "code",
   "execution_count": null,
   "metadata": {},
   "outputs": [
    {
     "name": "stdout",
     "output_type": "stream",
     "text": [
      "[5.0, 13.42, 16.4]\n"
     ]
    }
   ],
   "source": [
    "points = [(3, 4), (6, 12) , (10, 13)]\n",
    "\n",
    "distances = [round((x**2 + y**2)**0.5, 2)   for x, y in points]\n",
    "\n",
    "print(distances)"
   ]
  },
  {
   "cell_type": "code",
   "execution_count": 16,
   "metadata": {},
   "outputs": [
    {
     "data": {
      "text/plain": [
       "['Odd', 'Even', 'Even', 'Even', 'Odd', 'Even']"
      ]
     },
     "execution_count": 16,
     "metadata": {},
     "output_type": "execute_result"
    }
   ],
   "source": [
    "# Task - With List Comp\n",
    "\n",
    "nums = [ 7, 44, 90, 6, 75, 10]\n",
    "\n",
    "# Output \n",
    "# [\"Odd\", \"Even\", \"Even\", \"Even\", \"Odd\", \"Even\"]\n",
    "\n",
    "result = []\n",
    "\n",
    "for num in nums:\n",
    "    if num % 2 == 0:\n",
    "        result.append(\"Even\")\n",
    "    else:\n",
    "        result.append(\"Odd\")    \n",
    "        \n",
    "result        "
   ]
  },
  {
   "cell_type": "code",
   "execution_count": null,
   "metadata": {},
   "outputs": [
    {
     "data": {
      "text/plain": [
       "['Odd', 'Even', 'Even', 'Even', 'Odd', 'Even']"
      ]
     },
     "execution_count": 18,
     "metadata": {},
     "output_type": "execute_result"
    }
   ],
   "source": [
    "# Task - With List Comp\n",
    "\n",
    "nums = [ 7, 44, 90, 6, 75, 10]\n",
    "\n",
    "# Output \n",
    "# [\"Odd\", \"Even\", \"Even\", \"Even\", \"Odd\", \"Even\"]\n",
    "\n",
    "result = []\n",
    "for num in nums:\n",
    "        result.append(\"Even\" if num % 2 == 0 else \"Odd\")\n",
    "result       "
   ]
  },
  {
   "cell_type": "code",
   "execution_count": 19,
   "metadata": {},
   "outputs": [
    {
     "data": {
      "text/plain": [
       "['Odd', 'Even', 'Even', 'Even', 'Odd', 'Even']"
      ]
     },
     "execution_count": 19,
     "metadata": {},
     "output_type": "execute_result"
    }
   ],
   "source": [
    "result = [\"Even\" if num % 2 == 0 else \"Odd\" for num in nums ]\n",
    "result  "
   ]
  }
 ],
 "metadata": {
  "kernelspec": {
   "display_name": ".venv",
   "language": "python",
   "name": "python3"
  },
  "language_info": {
   "codemirror_mode": {
    "name": "ipython",
    "version": 3
   },
   "file_extension": ".py",
   "mimetype": "text/x-python",
   "name": "python",
   "nbconvert_exporter": "python",
   "pygments_lexer": "ipython3",
   "version": "3.13.2"
  }
 },
 "nbformat": 4,
 "nbformat_minor": 2
}
