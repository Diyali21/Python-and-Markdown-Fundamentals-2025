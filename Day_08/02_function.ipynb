{
 "cells": [
  {
   "cell_type": "code",
   "execution_count": null,
   "metadata": {},
   "outputs": [],
   "source": [
    "# Why Functions?"
   ]
  },
  {
   "cell_type": "code",
   "execution_count": 1,
   "metadata": {},
   "outputs": [
    {
     "data": {
      "text/plain": [
       "4"
      ]
     },
     "execution_count": 1,
     "metadata": {},
     "output_type": "execute_result"
    }
   ],
   "source": [
    "a = 1\n",
    "b = 3\n",
    "\n",
    "a + b"
   ]
  },
  {
   "cell_type": "code",
   "execution_count": 2,
   "metadata": {},
   "outputs": [
    {
     "data": {
      "text/plain": [
       "14"
      ]
     },
     "execution_count": 2,
     "metadata": {},
     "output_type": "execute_result"
    }
   ],
   "source": [
    "a = 4\n",
    "b = 10\n",
    "\n",
    "a + b"
   ]
  },
  {
   "cell_type": "code",
   "execution_count": null,
   "metadata": {},
   "outputs": [],
   "source": [
    "a = 4\n",
    "b = 10\n",
    "\n",
    "a + b # Logic repeated"
   ]
  },
  {
   "cell_type": "markdown",
   "metadata": {},
   "source": [
    "## DRY\n",
    "Principle. Code Smell - Logic Repeated. If not DRY - Room for improvement (in Code Quality)\n",
    "\n",
    "D - Don't\n",
    "R - Repeat\n",
    "Y - Yourself\n"
   ]
  },
  {
   "cell_type": "code",
   "execution_count": 3,
   "metadata": {},
   "outputs": [
    {
     "name": "stdout",
     "output_type": "stream",
     "text": [
      "4 14 9\n"
     ]
    }
   ],
   "source": [
    "\n",
    "# Function deceleration / definition - 1 time\n",
    "def add(a, b):\n",
    "    return a + b\n",
    "\n",
    "\n",
    "c1 = add(1, 3) # function call\n",
    "c2 = add(4, 10)\n",
    "c3 = add(5, 4)\n",
    "\n",
    "print(c1, c2, c3)"
   ]
  },
  {
   "cell_type": "code",
   "execution_count": null,
   "metadata": {},
   "outputs": [],
   "source": [
    "# What? & How?\n",
    "# Why? - Experience"
   ]
  },
  {
   "cell_type": "code",
   "execution_count": null,
   "metadata": {},
   "outputs": [
    {
     "name": "stdout",
     "output_type": "stream",
     "text": [
      "4 14.56 9 10.79\n"
     ]
    }
   ],
   "source": [
    "# Function deceleration / definition - 1 time\n",
    "# Logic Update in one place\n",
    "# Bug raises - fix in one place\n",
    "# Adding feature are easier\n",
    "def add(a, b):\n",
    "    return round(a + b, 2)\n",
    "\n",
    "\n",
    "c1 = add(1, 3) # function call - n times\n",
    "c2 = add(4, 10.5555)\n",
    "c3 = add(5, 4)\n",
    "c4 = add(5.892323, 4.899)\n",
    "\n",
    "print(c1, c2, c3, c4)"
   ]
  },
  {
   "cell_type": "code",
   "execution_count": null,
   "metadata": {},
   "outputs": [],
   "source": [
    "# How ?\n",
    "# Definition\n",
    "# a, b -> Parameter\n",
    "# add -> Function name\n",
    "# Function body\n",
    "def add(a, b):\n",
    "    c = round(a + b, 2)\n",
    "    return c\n",
    "\n",
    "\n",
    "# 1, 3 -> are argument\n",
    "c1 = add(1, 3) # Execution starts"
   ]
  },
  {
   "cell_type": "markdown",
   "metadata": {},
   "source": [
    "## Function Terms\n",
    "- Function Definition / Declaration\n",
    "- Function Name\n",
    "- Function Body\n",
    "- Function Parameters\n",
    "- Function Argument\n",
    "- Function Call"
   ]
  },
  {
   "cell_type": "code",
   "execution_count": null,
   "metadata": {},
   "outputs": [
    {
     "name": "stdout",
     "output_type": "stream",
     "text": [
      "None\n"
     ]
    }
   ],
   "source": [
    "def add(a, b):\n",
    "    c = round(a + b, 2)\n",
    "\n",
    "\n",
    "\n",
    "\n",
    "\n",
    "\n",
    "c1 = add(1, 3)\n",
    "print(c1)"
   ]
  },
  {
   "cell_type": "code",
   "execution_count": null,
   "metadata": {},
   "outputs": [
    {
     "name": "stdout",
     "output_type": "stream",
     "text": [
      "4\n"
     ]
    }
   ],
   "source": [
    "def add(a, b):\n",
    "    c = round(a + b, 2)\n",
    "    c\n",
    "\n",
    "\n",
    "\n",
    "\n",
    "\n",
    "c1 = add(1, 3)\n",
    "print(c1)"
   ]
  },
  {
   "cell_type": "code",
   "execution_count": null,
   "metadata": {},
   "outputs": [
    {
     "name": "stdout",
     "output_type": "stream",
     "text": [
      "Hi Ragav! 👋\n",
      "Hi Jamie! 👋\n",
      "Hi Vuyo! 👋\n"
     ]
    }
   ],
   "source": [
    "# Task 1\n",
    "# Create function\n",
    "\n",
    "def greet(name):\n",
    "    return f\"Hi {name}! 👋\"\n",
    "\n",
    "\n",
    "print(greet(\"Ragav\")) # Hi Ragav! 👋\n",
    "print(greet(\"Jamie\")) # Hi Jamie! 👋\n",
    "print(greet(\"Vuyo\")) # Hi Vuyo! 👋"
   ]
  },
  {
   "cell_type": "code",
   "execution_count": null,
   "metadata": {},
   "outputs": [],
   "source": [
    "# Function needs to do thing - one thing very well - Single responsibility principle"
   ]
  },
  {
   "cell_type": "code",
   "execution_count": 16,
   "metadata": {},
   "outputs": [
    {
     "name": "stdout",
     "output_type": "stream",
     "text": [
      "Anita is eligible for driving test\n",
      "Try again after few years 👶🍼\n",
      "Chelo is eligible for driving test\n"
     ]
    }
   ],
   "source": [
    "# Task 2\n",
    "# Create a function named driving_test which takes name, age are parameter and returns eligibility\n",
    "\n",
    "# Case 1:\n",
    "# Anita is eligible for driving test.\n",
    "\n",
    "# Case 2:\n",
    "# Try again after few years 👶🍼\n",
    "\n",
    "def driving_test(name, age):\n",
    "    if age >= 18:\n",
    "        return f\"{name} is eligible for driving test\"\n",
    "    else:\n",
    "        return \"Try again after few years 👶🍼\"\n",
    "\n",
    "\n",
    "print(driving_test(\"Anita\", 20))\n",
    "print(driving_test(\"Jevan\", 14))\n",
    "print(driving_test(\"Chelo\", 18))\n"
   ]
  },
  {
   "cell_type": "code",
   "execution_count": 17,
   "metadata": {},
   "outputs": [
    {
     "name": "stdout",
     "output_type": "stream",
     "text": [
      "Anita is eligible for driving test\n",
      "Try again after few years 👶🍼\n",
      "Chelo is eligible for driving test\n"
     ]
    }
   ],
   "source": [
    "def driving_test(name, age):\n",
    "    return (\n",
    "        f\"{name} is eligible for driving test\"\n",
    "        if age >= 18\n",
    "        else \"Try again after few years 👶🍼\"\n",
    "    )\n",
    "\n",
    "\n",
    "print(driving_test(\"Anita\", 20))\n",
    "print(driving_test(\"Jevan\", 14))\n",
    "print(driving_test(\"Chelo\", 18))"
   ]
  },
  {
   "cell_type": "markdown",
   "metadata": {},
   "source": [
    "## Task 3 \n",
    "Pattern creation (List Compression)\n",
    "\n",
    "\n",
    "`pattern(\"🥕\", 5)`\n",
    "\n",
    "## Output\n",
    "```\n",
    "🥕\n",
    "🥕🥕\n",
    "🥕🥕🥕\n",
    "🥕🥕🥕🥕\n",
    "🥕🥕🥕🥕🥕\n",
    "```\n",
    "\n",
    "`pattern(\"🥔\", 3)`\n",
    "\n",
    "## Output\n",
    "```\n",
    "🥔\n",
    "🥔🥔\n",
    "🥔🥔🥔\n",
    "```"
   ]
  },
  {
   "cell_type": "code",
   "execution_count": null,
   "metadata": {},
   "outputs": [],
   "source": [
    "# Task 4\n",
    "\n",
    "def greet(name):\n",
    "    return f\"Hi {name}! 👋\"\n",
    "\n",
    "\n",
    "names = [\"Anita\", \"Jamie\", \"Divyali\", \"Siyanda\"]\n",
    "\n",
    "# Output\n",
    "# Hi Anita! 👋\n",
    "# Hi Jamie! 👋\n",
    "# Hi Divyali! 👋\n",
    "# Hi Siyanda! 👋"
   ]
  },
  {
   "cell_type": "code",
   "execution_count": null,
   "metadata": {},
   "outputs": [
    {
     "name": "stdout",
     "output_type": "stream",
     "text": [
      "🥕\n",
      "🥕🥕\n",
      "🥕🥕🥕\n",
      "🥕🥕🥕🥕\n",
      "🥕🥕🥕🥕🥕\n",
      "🥔\n",
      "🥔🥔\n",
      "🥔🥔🥔\n"
     ]
    }
   ],
   "source": [
    "def pattern(emoji, no):\n",
    "    for i in range(1, no + 1):\n",
    "        print(emoji * i)\n",
    "\n",
    "\n",
    "pattern(\"🥕\", 5)\n",
    "pattern(\"🥔\", 3)"
   ]
  },
  {
   "cell_type": "code",
   "execution_count": null,
   "metadata": {},
   "outputs": [
    {
     "name": "stdout",
     "output_type": "stream",
     "text": [
      "🥕\n",
      "🥕🥕\n",
      "🥕🥕🥕\n",
      "🥕🥕🥕🥕\n",
      "🥕🥕🥕🥕🥕\n",
      "🥔\n",
      "🥔🥔\n",
      "🥔🥔🥔\n"
     ]
    }
   ],
   "source": [
    "# Function + List comp + repeat operator + join (list methods)\n",
    "def pattern(emoji, no):\n",
    "    patterns = [emoji * i for i in range(1, no + 1)]\n",
    "    return \"\\n\".join(patterns)\n",
    "\n",
    "\n",
    "print(pattern(\"🥕\", 5)) # list\n",
    "print(pattern(\"🥔\", 3)) # list"
   ]
  },
  {
   "cell_type": "code",
   "execution_count": null,
   "metadata": {},
   "outputs": [
    {
     "name": "stdout",
     "output_type": "stream",
     "text": [
      "Hi Anita! 👋\n",
      "Hi Jamie! 👋\n",
      "Hi Divyali! 👋\n",
      "Hi Siyanda! 👋\n"
     ]
    }
   ],
   "source": [
    "\n",
    "def greet(name):\n",
    "    return f\"Hi {name}! 👋\"\n",
    "\n",
    "\n",
    "names = [\"Anita\", \"Jamie\", \"Divyali\", \"Siyanda\"]\n",
    "\n",
    "# Output\n",
    "# Hi Anita! 👋\n",
    "# Hi Jamie! 👋\n",
    "# Hi Divyali! 👋\n",
    "# Hi Siyanda! 👋\n",
    "\n",
    "print(greet(names[0]))\n",
    "print(greet(names[1]))\n",
    "print(greet(names[2]))\n",
    "print(greet(names[3]))\n"
   ]
  },
  {
   "cell_type": "code",
   "execution_count": 27,
   "metadata": {},
   "outputs": [
    {
     "name": "stdout",
     "output_type": "stream",
     "text": [
      "Hi Anita! 👋\n",
      "Hi Jamie! 👋\n",
      "Hi Divyali! 👋\n",
      "Hi Siyanda! 👋\n",
      "Hi Anita! 👋\n",
      "Hi Jamie! 👋\n",
      "Hi Divyali! 👋\n",
      "Hi Siyanda! 👋\n"
     ]
    }
   ],
   "source": [
    "\n",
    "def greet(name):\n",
    "    return f\"Hi {name}! 👋\"\n",
    "\n",
    "\n",
    "names = [\"Anita\", \"Jamie\", \"Divyali\", \"Siyanda\"]\n",
    "\n",
    "# Output\n",
    "# Hi Anita! 👋\n",
    "# Hi Jamie! 👋\n",
    "# Hi Divyali! 👋\n",
    "# Hi Siyanda! 👋\n",
    "\n",
    "\n",
    "for i in range(len(names)):\n",
    "    print(greet(names[i]))\n",
    "\n",
    "\n",
    "for name in names:\n",
    "    print(greet(name))\n"
   ]
  },
  {
   "cell_type": "code",
   "execution_count": null,
   "metadata": {},
   "outputs": [],
   "source": [
    "library_list = [\n",
    "    {\n",
    "        \"title\": \"Python Programming\",\n",
    "        \"author\": \"Eric Matthes\",\n",
    "        \"year\": 2019,\n",
    "        \"available\": True\n",
    "    },\n",
    "    {\n",
    "        \"title\": \"Automate the Boring Stuff with Python\",\n",
    "        \"author\": \"Al Sweigart\",\n",
    "        \"year\": 2020,\n",
    "        \"available\": True\n",
    "    },\n",
    "    {\n",
    "        \"title\": \"Learning Python I\",\n",
    "        \"author\": \"Mark Lutz\",\n",
    "        \"year\": 2013,\n",
    "        \"available\": False\n",
    "    },\n",
    "    {\n",
    "        \"title\": \"Fluent Python\",\n",
    "        \"author\": \"Luciano Ramalho\",\n",
    "        \"year\": 2015,\n",
    "        \"available\": True\n",
    "    },\n",
    "    {\n",
    "        \"title\": \"Adavance Python\",\n",
    "        \"author\": \"Mark Lutz\",\n",
    "        \"year\": 2015,\n",
    "        \"available\": False\n",
    "    },\n",
    "]\n"
   ]
  },
  {
   "cell_type": "code",
   "execution_count": null,
   "metadata": {},
   "outputs": [],
   "source": [
    "# Output\n",
    "# Welcome to our Library app\n",
    "# Main menu:\n",
    "# 1. Add book to the library\n",
    "# 2. Print all the books\n",
    "# 3. Exit\n",
    "\n",
    "# Please choose an option: 1\n",
    "# Please tell me the title?\n",
    "# Please tell me the author?\n",
    "# Please tell me the year?\n",
    "# Please tell me the available?\n",
    "\n",
    "# Successfully added 😄✅\n",
    "\n",
    "# Main menu:\n",
    "# 1. Add book to the library\n",
    "# 2. Print all the books\n",
    "# 3. Exit\n",
    "\n",
    "# Please choose an option: 2\n",
    "\n",
    "[\n",
    "    {\n",
    "        \"title\": \"Python Programming\",\n",
    "        \"author\": \"Eric Matthes\",\n",
    "        \"year\": 2019,\n",
    "        \"available\": True\n",
    "    },\n",
    "    {\n",
    "        \"title\": \"Automate the Boring Stuff with Python\",\n",
    "        \"author\": \"Al Sweigart\",\n",
    "        \"year\": 2020,\n",
    "        \"available\": True\n",
    "    },\n",
    "    {\n",
    "        \"title\": \"Learning Python I\",\n",
    "        \"author\": \"Mark Lutz\",\n",
    "        \"year\": 2013,\n",
    "        \"available\": False\n",
    "    },\n",
    "    {\n",
    "        \"title\": \"Fluent Python\",\n",
    "        \"author\": \"Luciano Ramalho\",\n",
    "        \"year\": 2015,\n",
    "        \"available\": True\n",
    "    },\n",
    "    {\n",
    "        \"title\": \"Adavance Python\",\n",
    "        \"author\": \"Mark Lutz\",\n",
    "        \"year\": 2015,\n",
    "        \"available\": False\n",
    "    },\n",
    "]\n",
    "\n",
    "# Main menu:\n",
    "# 1. Add book to the library\n",
    "# 2. Print all the books\n",
    "# 3. Exit\n",
    "\n",
    "\n",
    "# Please choose an option: 3\n",
    "# Bye 😄👋\n",
    "\n",
    "def add_book():\n",
    "    pass # placeholder\n",
    "\n",
    "def print_books():\n",
    "    pass\n",
    "\n",
    "def exit_book_app():\n",
    "    pass\n"
   ]
  }
 ],
 "metadata": {
  "kernelspec": {
   "display_name": ".venv",
   "language": "python",
   "name": "python3"
  },
  "language_info": {
   "codemirror_mode": {
    "name": "ipython",
    "version": 3
   },
   "file_extension": ".py",
   "mimetype": "text/x-python",
   "name": "python",
   "nbconvert_exporter": "python",
   "pygments_lexer": "ipython3",
   "version": "3.13.2"
  }
 },
 "nbformat": 4,
 "nbformat_minor": 2
}
