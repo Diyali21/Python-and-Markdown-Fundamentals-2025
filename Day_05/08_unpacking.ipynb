{
 "cells": [
  {
   "cell_type": "markdown",
   "metadata": {},
   "source": [
    "# Multiple Variable assignment"
   ]
  },
  {
   "cell_type": "code",
   "execution_count": null,
   "metadata": {},
   "outputs": [],
   "source": [
    "a = 0\n",
    "b = 0\n",
    "c = 0\n",
    "\n",
    "print(a, b, c)"
   ]
  },
  {
   "cell_type": "code",
   "execution_count": null,
   "metadata": {},
   "outputs": [],
   "source": [
    "a = b = c = 10\n",
    "print(a, b, c)"
   ]
  },
  {
   "cell_type": "code",
   "execution_count": null,
   "metadata": {},
   "outputs": [],
   "source": [
    "# Unpacking\n",
    "\n",
    "a, b, c = 10, 15, 20 # Tuple\n",
    "print(a, b, c)"
   ]
  },
  {
   "cell_type": "code",
   "execution_count": null,
   "metadata": {},
   "outputs": [],
   "source": [
    "a, b, c = (10, 15, 20)\n",
    "print(a, b, c)"
   ]
  },
  {
   "cell_type": "code",
   "execution_count": null,
   "metadata": {},
   "outputs": [],
   "source": [
    "a, b, c = [10, 15, 20] # List of int\n",
    "\n",
    "print(a, b, c) # unpacking works with both list & tuple\n",
    "print(type(a), type(b), type(c))"
   ]
  },
  {
   "cell_type": "code",
   "execution_count": null,
   "metadata": {},
   "outputs": [],
   "source": [
    "# Skip b\n",
    "\n",
    "a, _, c = [10, 15, 20]\n",
    "print(a, c)"
   ]
  },
  {
   "cell_type": "code",
   "execution_count": null,
   "metadata": {},
   "outputs": [],
   "source": [
    "c1, c2, _, _ = [\"🦸 Batman\", \"🦸 Superman\", \"🦹 Joker\", \"🦹 Harley Quinn\"]\n",
    "print(c1, c2)"
   ]
  },
  {
   "cell_type": "code",
   "execution_count": null,
   "metadata": {},
   "outputs": [],
   "source": [
    "m1, _, _, _, m2 = [80, 90, 70, 45, 95]\n",
    "print(m1, m2)"
   ]
  },
  {
   "cell_type": "code",
   "execution_count": null,
   "metadata": {},
   "outputs": [],
   "source": [
    "m1, *t1, m2 = [80, 90, 70, 45, 95] # * -> unpacking operator\n",
    "print(m1, m2, t1)"
   ]
  },
  {
   "cell_type": "code",
   "execution_count": null,
   "metadata": {},
   "outputs": [],
   "source": [
    "c1, *c2 = (\"🦸 Batman\", \"🦸 Superman\", \"🦹 Joker\", \"🦹 Harley Quinn\") # star gathers remaining values\n",
    "print(c1, c2, type(c1), type(c2)) # c1 -> string c2 -> list of string"
   ]
  },
  {
   "cell_type": "code",
   "execution_count": null,
   "metadata": {},
   "outputs": [],
   "source": [
    "## Task 1.1 (Without Unpacking)\n",
    "\n",
    "import math\n",
    "\n",
    "points = [(3, 4), (6, 12), (10, 13)]\n",
    "\n",
    "# Expected Output\n",
    "# distances = [5.0, 13.42, 16.4]\n",
    "\n",
    "distances = []\n",
    "\n",
    "for point in points:\n",
    "    distances.append(round(math.sqrt(point[0] ** 2 + point[1] ** 2), 2))\n",
    "print(distances)\n"
   ]
  },
  {
   "cell_type": "code",
   "execution_count": null,
   "metadata": {},
   "outputs": [],
   "source": [
    "## Task 1.2 (With Unpacking)\n",
    "\n",
    "# Expected Output\n",
    "# distances = [5.0, 13.42, 16.4]\n",
    "\n",
    "import math\n",
    "\n",
    "points = [(3, 4), (6, 12), (10, 13)]\n",
    "\n",
    "# Expected Output\n",
    "# distances = [5.0, 13.42, 16.4]\n",
    "\n",
    "distances = []\n",
    "\n",
    "for point in points:\n",
    "    a, b = point\n",
    "    d = math.sqrt(a**2 + b**2)\n",
    "    distances.append(round(d, 2))\n",
    "print(distances)"
   ]
  }
 ],
 "metadata": {
  "language_info": {
   "name": "python"
  }
 },
 "nbformat": 4,
 "nbformat_minor": 2
}
