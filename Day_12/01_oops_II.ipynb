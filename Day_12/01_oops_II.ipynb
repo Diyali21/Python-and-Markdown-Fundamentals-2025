{
 "cells": [
  {
   "cell_type": "markdown",
   "metadata": {},
   "source": [
    "## Access modifiers"
   ]
  },
  {
   "cell_type": "code",
   "execution_count": 8,
   "metadata": {},
   "outputs": [
    {
     "name": "stdout",
     "output_type": "stream",
     "text": [
      "toby says Some sound\n",
      "The height is 120cm\n",
      "She is 130cm tall\n"
     ]
    }
   ],
   "source": [
    "# Base / Parent Class\n",
    "class Animal:\n",
    "    def __init__(self, name, height):\n",
    "        # Private variable -> Only in Animal\n",
    "        self.__name = name\n",
    "        # Protected variable -> Accessible in Animal & Dog\n",
    "        self._height = height\n",
    "        \n",
    "\n",
    "    def speak(self):\n",
    "        return f\"{self.__name} says Some sound\" # ✅\n",
    "    \n",
    "    def check_height(self):\n",
    "        return f\"The height is {self._height}cm\" # ✅\n",
    "    \n",
    "\n",
    "\n",
    "# Private variables are not inherited\n",
    "class Dog(Animal):\n",
    "    def __init__(self, name, height, speed):\n",
    "        super().__init__(name, height) \n",
    "        self.speed = speed\n",
    "        \n",
    "    def speak(self):\n",
    "        return f\"{self.__name} says Woof Woof!! 🐕\" # ❌\n",
    "\n",
    "    def run(self):\n",
    "        return \"🐶 wags tails!! 🐕\"\n",
    "    \n",
    "    def tall(self):\n",
    "        return f\"She is {self._height}cm tall\" # ✅\n",
    "    \n",
    "    def speed_bonus(self):\n",
    "        return f\"Running at {self.speed* 2}Km/hr\"\n",
    "\n",
    "\n",
    "toby = Animal(\"toby\", 120) # speak\n",
    "maxy = Dog(\"maxy\",130,  20) # speak, run\n",
    "\n",
    "# toby.name = \"222\"\n",
    "# print(toby.name)\n",
    "\n",
    "# toby.__name = \"sss\"\n",
    "# print(toby.__name)\n",
    "\n",
    "# print(maxy.speak())\n",
    "print(toby.speak())\n",
    "\n",
    "print(toby.check_height())\n",
    "print(maxy.tall())"
   ]
  },
  {
   "cell_type": "code",
   "execution_count": 16,
   "metadata": {},
   "outputs": [
    {
     "name": "stdout",
     "output_type": "stream",
     "text": [
      "This account belongs to Chleo Smith and has balance of R50,000.00\n",
      "This account belongs to Chleo Smith and has balance of R50,000.00\n",
      "CheckingAccount(123, 'Chleo Smith', 50000)\n",
      "110000\n"
     ]
    }
   ],
   "source": [
    "class Bank:\n",
    "    # Class variable\n",
    "    interest_rate = 0.02\n",
    "    \n",
    "    def __init__(self, acc_no, name, balance):\n",
    "        self.acc_no = acc_no\n",
    "        self.name = name\n",
    "        self.balance = balance # int\n",
    "        \n",
    "    def display_balance(self):\n",
    "       return f\"Your balance is: R{self.balance:,.2f}\" \n",
    "   \n",
    "    # Early return\n",
    "    def withdraw(self, amount):\n",
    "        if amount <= 0:\n",
    "           return \"Invalid amount\" \n",
    "        \n",
    "        if amount > self.balance:\n",
    "          return f\"Insufficient funds. {self.display_balance()}\" \n",
    "        \n",
    "        self.balance -= amount\n",
    "        return f\"Success. {self.display_balance()}\"\n",
    "    \n",
    "    def deposit(self, amount):\n",
    "        if amount <= 0:\n",
    "           return \"Invalid amount\" \n",
    "      \n",
    "        if amount > 0:\n",
    "            self.balance += amount\n",
    "            return f\"Successfully deposited. {self.display_balance()}\"    \n",
    "              \n",
    "    def apply_interest(self):\n",
    "        self.balance += Bank.interest_rate * self.balance   \n",
    "        return f\"Success. {self.display_balance()}\"  \n",
    "    \n",
    "    @classmethod\n",
    "    def update_interest_rate(cls, new_rate):\n",
    "        if new_rate <= 0 or new_rate > 100:\n",
    "            return \"Invalid interest rate\" \n",
    "        \n",
    "        cls.interest_rate = new_rate / 100\n",
    "        return f\"Success. The new interest rate is {new_rate}%\"\n",
    "    \n",
    "\n",
    "# Magic methods:  __str__, __repr__\n",
    "class CheckingAccount(Bank):\n",
    "    transaction_fee = 1\n",
    "\n",
    "    def withdraw(self, amount):\n",
    "        \"\"\" Calculates balance with adding transaction free \"\"\"\n",
    "        return super().withdraw(amount + self.transaction_fee)\n",
    "    \n",
    "    # Dunder method - method overriding\n",
    "    def __str__(self):\n",
    "        \"\"\" Human readable UX ⬆️\"\"\"\n",
    "        return f\"This account belongs to {self.name} and has balance of R{self.balance:,.2f}\"\n",
    "\n",
    "    def __repr__(self):\n",
    "        \"\"\" DX ⬆️  \"\"\"\n",
    "        return f\"CheckingAccount({self.acc_no}, '{self.name}', {self.balance})\"\n",
    "    \n",
    "    def __add__(self, other):\n",
    "        return self.balance + other.balance\n",
    "\n",
    "anita = CheckingAccount(123, \"Chleo Smith\", 50_000)\n",
    "diyali = CheckingAccount(124, \"Diyali Devraj\", 60_000)\n",
    "# anita.withdraw(1000)  # Balance -> 48,999\n",
    "\n",
    "print(anita) \n",
    "print(anita.__str__()) # Dunder method\n",
    "\n",
    "print(repr(anita)) # Debug\n",
    "# print(anita.acc_no)\n",
    "# print(anita.name)\n",
    "# print(anita.balance)\n",
    "\n",
    "print(anita + diyali)"
   ]
  },
  {
   "cell_type": "code",
   "execution_count": null,
   "metadata": {},
   "outputs": [
    {
     "name": "stdout",
     "output_type": "stream",
     "text": [
      "<class 'list'>\n",
      "None\n"
     ]
    },
    {
     "data": {
      "text/plain": [
       "['a', 'b', 'c', 'd']"
      ]
     },
     "execution_count": 19,
     "metadata": {},
     "output_type": "execute_result"
    }
   ],
   "source": [
    "x = [\"a\", \"b\", \"c\"]\n",
    "\n",
    "print(type(x))\n",
    "print(x.append(\"d\"))\n"
   ]
  },
  {
   "cell_type": "code",
   "execution_count": null,
   "metadata": {},
   "outputs": [
    {
     "data": {
      "text/plain": [
       "['__add__',\n",
       " '__class__',\n",
       " '__class_getitem__',\n",
       " '__contains__',\n",
       " '__delattr__',\n",
       " '__delitem__',\n",
       " '__dir__',\n",
       " '__doc__',\n",
       " '__eq__',\n",
       " '__format__',\n",
       " '__ge__',\n",
       " '__getattribute__',\n",
       " '__getitem__',\n",
       " '__getstate__',\n",
       " '__gt__',\n",
       " '__hash__',\n",
       " '__iadd__',\n",
       " '__imul__',\n",
       " '__init__',\n",
       " '__init_subclass__',\n",
       " '__iter__',\n",
       " '__le__',\n",
       " '__len__',\n",
       " '__lt__',\n",
       " '__mul__',\n",
       " '__ne__',\n",
       " '__new__',\n",
       " '__reduce__',\n",
       " '__reduce_ex__',\n",
       " '__repr__',\n",
       " '__reversed__',\n",
       " '__rmul__',\n",
       " '__setattr__',\n",
       " '__setitem__',\n",
       " '__sizeof__',\n",
       " '__str__',\n",
       " '__subclasshook__',\n",
       " 'append',\n",
       " 'clear',\n",
       " 'copy',\n",
       " 'count',\n",
       " 'extend',\n",
       " 'index',\n",
       " 'insert',\n",
       " 'pop',\n",
       " 'remove',\n",
       " 'reverse',\n",
       " 'sort']"
      ]
     },
     "execution_count": 21,
     "metadata": {},
     "output_type": "execute_result"
    }
   ],
   "source": [
    "y = list(\"abcd\")\n",
    "\n",
    "# Dont use dunder methods inside list ❌\n",
    "# Reason: Implementation might change\n",
    "\n",
    "dir(y)"
   ]
  }
 ],
 "metadata": {
  "kernelspec": {
   "display_name": ".venv",
   "language": "python",
   "name": "python3"
  },
  "language_info": {
   "codemirror_mode": {
    "name": "ipython",
    "version": 3
   },
   "file_extension": ".py",
   "mimetype": "text/x-python",
   "name": "python",
   "nbconvert_exporter": "python",
   "pygments_lexer": "ipython3",
   "version": "3.13.2"
  }
 },
 "nbformat": 4,
 "nbformat_minor": 2
}
