{
 "cells": [
  {
   "cell_type": "markdown",
   "metadata": {},
   "source": [
    "# Assignment:\n",
    "- Write a comparison in terms of scope on keywords\n",
    "- global vs nonlocal\n",
    "- with examples\n"
   ]
  },
  {
   "cell_type": "markdown",
   "metadata": {},
   "source": [
    "# Global vs Nonlocal\n",
    "\n",
    "- In Python the `global` and `nonlocal` keywords are used to modify the scope of the variables."
   ]
  },
  {
   "cell_type": "markdown",
   "metadata": {},
   "source": [
    "## Global\n",
    "- `global` in Python allows a function to modify a variable that is defined outside the function\n",
    "- This applies to the class body and scope of a function\n",
    "- Without the `global` keyword, by default, the `local scope is always given higher priority`\n",
    "- The `global` keyword outside a function doesn't change the scope"
   ]
  },
  {
   "cell_type": "code",
   "execution_count": null,
   "metadata": {},
   "outputs": [],
   "source": [
    "# Example of global keyword\n",
    "\n",
    "num = 5\n",
    "\n",
    "def multiply_num():\n",
    "    global num\n",
    "    num = num * 2\n",
    "\n",
    "print(\"Old num = \", num) # num = 5\n",
    "\n",
    "multiply_num()\n",
    "\n",
    "print(\"New num = \", num) # num = 10"
   ]
  },
  {
   "cell_type": "markdown",
   "metadata": {},
   "source": [
    "- In the above example `num = 5` until the `multiply_num()` function is called\n",
    "- Once the `multiply_num()` function is called, because `num` is `global` within the function, `num` is modified - new num is `5 * 2 = 10`\n",
    "  - `num = 10`"
   ]
  },
  {
   "cell_type": "markdown",
   "metadata": {},
   "source": [
    "## Nonlocal\n",
    "- `nonlocal` in Python is used within nested functions\n",
    "- The `nonlocal` variable is only accessible within the nearest outer function and the scope of the function the `nonlocal` keyword is used in\n",
    "- Changes can be made to variables in the outer function within the inner function\n",
    "- `nonlocal` doesn't make a variable global"
   ]
  },
  {
   "cell_type": "code",
   "execution_count": null,
   "metadata": {},
   "outputs": [],
   "source": [
    "# Example of nonlocal keyword\n",
    "\n",
    "\n",
    "def msg1():\n",
    "    singer = \"Dua Lipa\"\n",
    "\n",
    "    def msg2():\n",
    "        singer = \"dua lipa is the best singer\"\n",
    "\n",
    "        def msg3():\n",
    "            nonlocal singer\n",
    "            singer = \"Dua Lipa is the greatest singer of all time\"\n",
    "            print(singer) # Output: Dua Lipa is the greatest singer of all time\n",
    "\n",
    "        msg3()\n",
    "        print(singer)  # Output: Dua Lipa is the greatest singer of all time\n",
    "\n",
    "    msg2()\n",
    "    print(singer) # Output: Dua Lipa\n",
    "\n",
    "\n",
    "msg1()"
   ]
  },
  {
   "cell_type": "markdown",
   "metadata": {},
   "source": [
    "- In the above example, there are nested functions\n",
    "- Since `nonlocal` keyword is used in the inner most function, the `singer` variable is modified from the `msg2()` function\n",
    "- Output:\n",
    "  - `msg3()` function prints `Dua Lipa is the greatest singer of all time`\n",
    "  - `msg2()` function calls the `msg3()` function which changes the value of `singer` from `\"dua lipa is the best singer\"` to `\"Dua Lipa is the greatest singer of all time\"`\n",
    "  - `msg1()` calls `msg2()` but the `singer` variable in `msg1()` function remains unchanged - `Dua Lipa`"
   ]
  }
 ],
 "metadata": {
  "language_info": {
   "name": "python"
  }
 },
 "nbformat": 4,
 "nbformat_minor": 2
}
