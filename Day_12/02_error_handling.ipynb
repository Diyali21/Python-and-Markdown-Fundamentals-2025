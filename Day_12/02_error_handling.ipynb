{
 "cells": [
  {
   "cell_type": "code",
   "execution_count": null,
   "metadata": {},
   "outputs": [
    {
     "name": "stdout",
     "output_type": "stream",
     "text": [
      "2.0\n",
      "Somthing bad happened\n"
     ]
    }
   ],
   "source": [
    "# Exception Handling\n",
    "# try and except\n",
    "def math_divide(n1, n2):\n",
    "    try:\n",
    "        result = n1 / n2 # Lines likely to be Error\n",
    "        print(result)\n",
    "    except:  # Catch all\n",
    "        print(\"Something bad happened\")\n",
    "\n",
    "\n",
    "math_divide(10, 5) # 2\n",
    "math_divide(10, 0) # ZeroDivisionError: division by zero"
   ]
  },
  {
   "cell_type": "code",
   "execution_count": null,
   "metadata": {},
   "outputs": [],
   "source": [
    "# Exception Handling\n",
    "# try and except\n",
    "def math_divide(n1, n2):\n",
    "    try:\n",
    "        result = n1 / n2 # Lines likely to be Error\n",
    "        print(result)\n",
    "    except ZeroDivisionError: # Specific\n",
    "        print(\"You cannot divide by zero! 💀\")\n",
    "         \n",
    "\n",
    "\n",
    "math_divide(10, 5) # 2\n",
    "math_divide(10, 0) # ZeroDivisionError: division by zero"
   ]
  },
  {
   "cell_type": "code",
   "execution_count": 5,
   "metadata": {},
   "outputs": [
    {
     "name": "stdout",
     "output_type": "stream",
     "text": [
      "2.0\n",
      "Division was successful ✅\n",
      "Operation done 😁✌️\n",
      "You cannot divide by zero! 💀\n",
      "Operation done 😁✌️\n"
     ]
    }
   ],
   "source": [
    "# Exception Handling\n",
    "# try and except\n",
    "def math_divide(n1, n2):\n",
    "    try:\n",
    "        result = n1 / n2 # Lines likely to be Error\n",
    "        print(result) # 1\n",
    "    except ZeroDivisionError: # Specific\n",
    "        # When error happens\n",
    "        print(\"You cannot divide by zero! 💀\") # 2\n",
    "    else:\n",
    "        # When no error\n",
    "        print(\"Division was successful ✅\")  # 1\n",
    "    finally:\n",
    "        # No matter\n",
    "        print(\"Operation done 😁✌️\") # 1 2        \n",
    "\n",
    "math_divide(10, 5) # 2\n",
    "math_divide(10, 0) # ZeroDivisionError: division by zero"
   ]
  },
  {
   "cell_type": "code",
   "execution_count": null,
   "metadata": {},
   "outputs": [],
   "source": [
    "# Exception Handling\n",
    "# try and except\n",
    "def math_divide(n1, n2):\n",
    "    try:\n",
    "        result = n1 / n2 # Lines likely to be Error\n",
    "    except:\n",
    "        print(\"Somthing bad happened\")\n",
    "    return result\n",
    "\n",
    "\n",
    "print(math_divide(10, 5)) # 2\n",
    "print(math_divide(10, 0)) # ZeroDivisionError: division by zero"
   ]
  },
  {
   "cell_type": "markdown",
   "metadata": {},
   "source": [
    "## Task 1.1\n",
    "\n",
    "### Expected Output\n",
    "```\n",
    "Please tell me your year of birth 2000\n",
    "Your age is 25\n",
    "```\n"
   ]
  },
  {
   "cell_type": "code",
   "execution_count": 9,
   "metadata": {},
   "outputs": [
    {
     "name": "stdout",
     "output_type": "stream",
     "text": [
      "Your age is 25\n"
     ]
    }
   ],
   "source": [
    "\n",
    "# calculate_age\n",
    "# Clue: datetime\n",
    "\n",
    "from datetime import datetime\n",
    "\n",
    "def calculate_age():\n",
    "    birth_year = int(input(\"Please tell me your year of birth: \"))\n",
    "    current_year = datetime.now().year\n",
    "    print(f\"Your age is {current_year - birth_year}\")\n",
    "\n",
    "calculate_age()\n",
    "\n",
    "# Task 1.2\n",
    "# Handling Error"
   ]
  },
  {
   "cell_type": "code",
   "execution_count": 12,
   "metadata": {},
   "outputs": [
    {
     "name": "stdout",
     "output_type": "stream",
     "text": [
      "Please provide a number\n"
     ]
    }
   ],
   "source": [
    "from datetime import datetime\n",
    "\n",
    "def calculate_age():\n",
    "    try:\n",
    "        birth_year = int(input(\"Please tell me your year of birth: \"))\n",
    "        current_year = datetime.now().year\n",
    "        print(f\"Your age is {current_year - birth_year}\")\n",
    "    except:\n",
    "        print(\"Please provide a number\")    \n",
    "\n",
    "calculate_age()"
   ]
  },
  {
   "cell_type": "code",
   "execution_count": null,
   "metadata": {},
   "outputs": [
    {
     "ename": "ValueError",
     "evalue": "invalid literal for int() with base 10: 'sss'",
     "output_type": "error",
     "traceback": [
      "\u001b[1;31m---------------------------------------------------------------------------\u001b[0m",
      "\u001b[1;31mValueError\u001b[0m                                Traceback (most recent call last)",
      "Cell \u001b[1;32mIn[15], line 11\u001b[0m\n\u001b[0;32m      7\u001b[0m         \u001b[38;5;28mprint\u001b[39m(\u001b[38;5;124mf\u001b[39m\u001b[38;5;124m\"\u001b[39m\u001b[38;5;124mYour age is \u001b[39m\u001b[38;5;132;01m{\u001b[39;00mcurrent_year\u001b[38;5;250m \u001b[39m\u001b[38;5;241m-\u001b[39m\u001b[38;5;250m \u001b[39mbirth_year\u001b[38;5;132;01m}\u001b[39;00m\u001b[38;5;124m\"\u001b[39m)\n\u001b[0;32m      8\u001b[0m     \u001b[38;5;66;03m# except ValueError:\u001b[39;00m\n\u001b[0;32m      9\u001b[0m     \u001b[38;5;66;03m#     print(\"Please provide a number\")    \u001b[39;00m\n\u001b[1;32m---> 11\u001b[0m \u001b[43mcalculate_age\u001b[49m\u001b[43m(\u001b[49m\u001b[43m)\u001b[49m\n",
      "Cell \u001b[1;32mIn[15], line 5\u001b[0m, in \u001b[0;36mcalculate_age\u001b[1;34m()\u001b[0m\n\u001b[0;32m      3\u001b[0m \u001b[38;5;28;01mdef\u001b[39;00m\u001b[38;5;250m \u001b[39m\u001b[38;5;21mcalculate_age\u001b[39m():\n\u001b[0;32m      4\u001b[0m     \u001b[38;5;66;03m# try:\u001b[39;00m\n\u001b[1;32m----> 5\u001b[0m         birth_year \u001b[38;5;241m=\u001b[39m \u001b[38;5;28;43mint\u001b[39;49m\u001b[43m(\u001b[49m\u001b[38;5;28;43minput\u001b[39;49m\u001b[43m(\u001b[49m\u001b[38;5;124;43m\"\u001b[39;49m\u001b[38;5;124;43mPlease tell me your year of birth: \u001b[39;49m\u001b[38;5;124;43m\"\u001b[39;49m\u001b[43m)\u001b[49m\u001b[43m)\u001b[49m\n\u001b[0;32m      6\u001b[0m         current_year \u001b[38;5;241m=\u001b[39m datetime\u001b[38;5;241m.\u001b[39mnow()\u001b[38;5;241m.\u001b[39myear\n\u001b[0;32m      7\u001b[0m         \u001b[38;5;28mprint\u001b[39m(\u001b[38;5;124mf\u001b[39m\u001b[38;5;124m\"\u001b[39m\u001b[38;5;124mYour age is \u001b[39m\u001b[38;5;132;01m{\u001b[39;00mcurrent_year\u001b[38;5;250m \u001b[39m\u001b[38;5;241m-\u001b[39m\u001b[38;5;250m \u001b[39mbirth_year\u001b[38;5;132;01m}\u001b[39;00m\u001b[38;5;124m\"\u001b[39m)\n",
      "\u001b[1;31mValueError\u001b[0m: invalid literal for int() with base 10: 'sss'"
     ]
    }
   ],
   "source": [
    "from datetime import datetime\n",
    "\n",
    "def calculate_age():\n",
    "    try:\n",
    "        birth_year = int(input(\"Please tell me your year of birth: \")) # Runtime - Cannot convert to int\n",
    "        current_year = datetime.now().year\n",
    "        print(f\"Your age is {current_year - birth_year}\")\n",
    "    except ValueError:\n",
    "        print(\"Please provide a number\")    \n",
    "\n",
    "calculate_age()"
   ]
  },
  {
   "cell_type": "markdown",
   "metadata": {},
   "source": [
    "### Business logical error\n",
    "`raise` -> Intentionally throwing error - Because against business logical"
   ]
  },
  {
   "cell_type": "code",
   "execution_count": 20,
   "metadata": {},
   "outputs": [
    {
     "ename": "ValueError",
     "evalue": "Simply 😄",
     "output_type": "error",
     "traceback": [
      "\u001b[1;31m---------------------------------------------------------------------------\u001b[0m",
      "\u001b[1;31mValueError\u001b[0m                                Traceback (most recent call last)",
      "Cell \u001b[1;32mIn[20], line 1\u001b[0m\n\u001b[1;32m----> 1\u001b[0m \u001b[38;5;28;01mraise\u001b[39;00m \u001b[38;5;167;01mValueError\u001b[39;00m(\u001b[38;5;124m\"\u001b[39m\u001b[38;5;124mSimply 😄\u001b[39m\u001b[38;5;124m\"\u001b[39m)\n",
      "\u001b[1;31mValueError\u001b[0m: Simply 😄"
     ]
    }
   ],
   "source": [
    "raise ValueError(\"Simply 😄\")"
   ]
  },
  {
   "cell_type": "code",
   "execution_count": null,
   "metadata": {},
   "outputs": [
    {
     "name": "stdout",
     "output_type": "stream",
     "text": [
      "Your age is 2125\n"
     ]
    }
   ],
   "source": [
    "# Task 1.3\n",
    "\n",
    "# Error Scenario\n",
    "# Case 1:\n",
    "# Cannot be -ve: Year cannot be negative\n",
    "# Case 2:\n",
    "# birth_year > current_year:   Your not flash to be from the future 🚀\n",
    "\n",
    "from datetime import datetime\n",
    "\n",
    "def calculate_age():\n",
    "    try:\n",
    "        birth_year = int(input(\"Please tell me your year of birth: \"))\n",
    "        current_year = datetime.now().year\n",
    "        print(f\"Your age is {current_year - birth_year}\")\n",
    "    except ValueError as err:\n",
    "        print(f\"❌ Invalid: {err}\")    \n",
    "\n",
    "calculate_age()"
   ]
  },
  {
   "cell_type": "code",
   "execution_count": null,
   "metadata": {},
   "outputs": [
    {
     "name": "stdout",
     "output_type": "stream",
     "text": [
      "❌ Invalid: Year cannot be negative\n"
     ]
    }
   ],
   "source": [
    "\n",
    "from datetime import datetime\n",
    "\n",
    "def calculate_age():\n",
    "    try:\n",
    "        birth_year = int(input(\"Please tell me your year of birth: \"))\n",
    "        current_year = datetime.now().year\n",
    "        # -ve scenario\n",
    "        if birth_year < 0:\n",
    "            # raise -> Stops further execution\n",
    "            raise ValueError(\"Year cannot be negative\")\n",
    "        if birth_year > current_year:\n",
    "            raise ValueError(\"Your not flash to be from the future 🚀\")\n",
    "        \n",
    "        # Code is shield 🛡️    \n",
    "        age = current_year - birth_year\n",
    "        print(f\"Your age is {age}\") # +ve scenario\n",
    "    except ValueError as err:\n",
    "        print(f\"❌ Invalid: {err}\")\n",
    "            \n",
    "\n",
    "calculate_age()"
   ]
  },
  {
   "cell_type": "code",
   "execution_count": null,
   "metadata": {},
   "outputs": [],
   "source": [
    "\n",
    "from datetime import datetime\n",
    "\n",
    "def calculate_age():\n",
    "    try:\n",
    "        birth_year = int(input(\"Please tell me your year of birth: \"))\n",
    "        current_year = datetime.now().year\n",
    "        # -ve scenario\n",
    "        if birth_year < 0:\n",
    "            # raise -> Stops further execution\n",
    "            raise ValueError(\"Year cannot be negative\")\n",
    "        if birth_year > current_year:\n",
    "            raise ValueError(\"Your not flash to be from the future 🚀\")\n",
    "        \n",
    "        # Code is shield 🛡️    \n",
    "        age = current_year - birth_year\n",
    "        print(f\"Your age is {age}\") # +ve scenario\n",
    "    except ValueError as err: # Specific\n",
    "        print(f\"❌ Invalid: {err}\")\n",
    "    except Exception as err:\n",
    "        # Catch all errors\n",
    "        print(f\"Something went really wrong: {err}\" )        \n",
    "\n",
    "calculate_age()"
   ]
  },
  {
   "cell_type": "markdown",
   "metadata": {},
   "source": [
    "## Types of Errors\n",
    "1. Syntax\n",
    "2. Runtime\n",
    "3. Logical"
   ]
  },
  {
   "cell_type": "code",
   "execution_count": null,
   "metadata": {},
   "outputs": [
    {
     "name": "stdout",
     "output_type": "stream",
     "text": [
      "❌ Invalid: Negative numbers are not allowed\n"
     ]
    }
   ],
   "source": [
    "# Create you own Error Class\n",
    "# Exception -> Base class of all errors\n",
    "class NegativeNumberError(Exception):\n",
    "    def __init__(self):\n",
    "        self.message = \"Negative numbers are not allowed\"\n",
    "        super().__init__(self.message)\n",
    "        \n",
    "# Business Logical \n",
    "def only_positive_num():\n",
    "    try:\n",
    "        x = -10\n",
    "        if x < 0:       \n",
    "            raise NegativeNumberError()\n",
    "        print(x)\n",
    "        \n",
    "    except NegativeNumberError as err: # Specific # reuse\n",
    "        print(f\"❌ Invalid: {err}\")\n",
    " \n",
    "only_positive_num()        \n",
    "          "
   ]
  },
  {
   "cell_type": "code",
   "execution_count": 29,
   "metadata": {},
   "outputs": [
    {
     "name": "stdout",
     "output_type": "stream",
     "text": [
      "❌ Invalid: -10  ->  Negative numbers are not allowed\n"
     ]
    }
   ],
   "source": [
    "# Create you own Error Class\n",
    "# Exception -> Base class of all errors\n",
    "class NegativeNumberError(Exception):\n",
    "    def __init__(self, value):\n",
    "        self.value = value\n",
    "        self.message = \"Negative numbers are not allowed\"\n",
    "        super().__init__(self.message)\n",
    "     \n",
    "    # Method overriding: Base  __str__ -> Better logging\n",
    "    # def __str__(self):\n",
    "    #     return self.message\n",
    "    \n",
    "    def __str__(self):\n",
    "        return f\"{self.value}  ->  {self.message}\"\n",
    "        \n",
    "        \n",
    "# Business Logical \n",
    "def only_positive_num():\n",
    "    try:\n",
    "        x = -10\n",
    "        if x < 0:       \n",
    "            raise NegativeNumberError(x)\n",
    "        \n",
    "    except NegativeNumberError as err: # Specific\n",
    "        print(f\"❌ Invalid: {err}\")\n",
    " \n",
    "only_positive_num()        \n",
    "          "
   ]
  }
 ],
 "metadata": {
  "kernelspec": {
   "display_name": ".venv",
   "language": "python",
   "name": "python3"
  },
  "language_info": {
   "codemirror_mode": {
    "name": "ipython",
    "version": 3
   },
   "file_extension": ".py",
   "mimetype": "text/x-python",
   "name": "python",
   "nbconvert_exporter": "python",
   "pygments_lexer": "ipython3",
   "version": "3.13.2"
  }
 },
 "nbformat": 4,
 "nbformat_minor": 2
}
