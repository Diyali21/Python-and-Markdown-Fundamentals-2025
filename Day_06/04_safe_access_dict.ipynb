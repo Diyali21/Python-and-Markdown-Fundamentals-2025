{
 "cells": [
  {
   "cell_type": "code",
   "execution_count": null,
   "metadata": {},
   "outputs": [
    {
     "ename": "KeyError",
     "evalue": "'height'",
     "output_type": "error",
     "traceback": [
      "\u001b[1;31m---------------------------------------------------------------------------\u001b[0m",
      "\u001b[1;31mKeyError\u001b[0m                                  Traceback (most recent call last)",
      "Cell \u001b[1;32mIn[1], line 9\u001b[0m\n\u001b[0;32m      1\u001b[0m spiderman \u001b[38;5;241m=\u001b[39m {\n\u001b[0;32m      2\u001b[0m     \u001b[38;5;124m\"\u001b[39m\u001b[38;5;124mname\u001b[39m\u001b[38;5;124m\"\u001b[39m: \u001b[38;5;124m\"\u001b[39m\u001b[38;5;124mPeter Parker\u001b[39m\u001b[38;5;124m\"\u001b[39m,\n\u001b[0;32m      3\u001b[0m     \u001b[38;5;124m\"\u001b[39m\u001b[38;5;124mage\u001b[39m\u001b[38;5;124m\"\u001b[39m: \u001b[38;5;241m18\u001b[39m,\n\u001b[0;32m      4\u001b[0m     \u001b[38;5;124m\"\u001b[39m\u001b[38;5;124mteam_name\u001b[39m\u001b[38;5;124m\"\u001b[39m: \u001b[38;5;124m\"\u001b[39m\u001b[38;5;124mAvengers\u001b[39m\u001b[38;5;124m\"\u001b[39m,\n\u001b[0;32m      5\u001b[0m     \u001b[38;5;124m\"\u001b[39m\u001b[38;5;124mteam\u001b[39m\u001b[38;5;124m\"\u001b[39m: [\u001b[38;5;124m\"\u001b[39m\u001b[38;5;124mIron Man\u001b[39m\u001b[38;5;124m\"\u001b[39m, \u001b[38;5;124m\"\u001b[39m\u001b[38;5;124mThor\u001b[39m\u001b[38;5;124m\"\u001b[39m, \u001b[38;5;124m\"\u001b[39m\u001b[38;5;124mHulk\u001b[39m\u001b[38;5;124m\"\u001b[39m, \u001b[38;5;124m\"\u001b[39m\u001b[38;5;124mCaptain America\u001b[39m\u001b[38;5;124m\"\u001b[39m]\n\u001b[0;32m      6\u001b[0m }\n\u001b[1;32m----> 9\u001b[0m \u001b[38;5;28mprint\u001b[39m(\u001b[43mspiderman\u001b[49m\u001b[43m[\u001b[49m\u001b[38;5;124;43m'\u001b[39;49m\u001b[38;5;124;43mheight\u001b[39;49m\u001b[38;5;124;43m'\u001b[39;49m\u001b[43m]\u001b[49m)\n",
      "\u001b[1;31mKeyError\u001b[0m: 'height'"
     ]
    }
   ],
   "source": [
    "spiderman = {\n",
    "    \"name\": \"Peter Parker\",\n",
    "    \"age\": 18,\n",
    "    \"team_name\": \"Avengers\",\n",
    "    \"team\": [\"Iron Man\", \"Thor\", \"Hulk\", \"Captain America\"]\n",
    "}\n",
    "\n",
    "\n",
    "print(spiderman['height']) # KeyError"
   ]
  },
  {
   "cell_type": "code",
   "execution_count": null,
   "metadata": {},
   "outputs": [
    {
     "name": "stdout",
     "output_type": "stream",
     "text": [
      "185\n"
     ]
    }
   ],
   "source": [
    "captain_america = {\n",
    "    \"name\": \"Steve Rogers 🦸‍♂️\",\n",
    "    \"age\": 100,\n",
    "    \"height\": 185\n",
    "}\n",
    "\n",
    "\n",
    "print(captain_america[\"height\"])"
   ]
  },
  {
   "cell_type": "code",
   "execution_count": 3,
   "metadata": {},
   "outputs": [
    {
     "data": {
      "text/plain": [
       "18"
      ]
     },
     "execution_count": 3,
     "metadata": {},
     "output_type": "execute_result"
    }
   ],
   "source": [
    "spiderman = {\n",
    "    \"name\": \"Peter Parker\",\n",
    "    \"age\": 18,\n",
    "    \"team_name\": \"Avengers\",\n",
    "    \"team\": [\"Iron Man\", \"Thor\", \"Hulk\", \"Captain America\"]\n",
    "}\n",
    "\n",
    "\n",
    "spiderman.get('age')"
   ]
  },
  {
   "cell_type": "code",
   "execution_count": null,
   "metadata": {},
   "outputs": [
    {
     "name": "stdout",
     "output_type": "stream",
     "text": [
      "None\n"
     ]
    }
   ],
   "source": [
    "print(spiderman.get('height')) # None ✅ # Safe access of value\n",
    "print(spiderman['height']) # KeyError ❌"
   ]
  },
  {
   "cell_type": "code",
   "execution_count": null,
   "metadata": {},
   "outputs": [
    {
     "name": "stdout",
     "output_type": "stream",
     "text": [
      "None\n"
     ]
    }
   ],
   "source": [
    "captain_america = {\n",
    "    \"name\": \"Steve Rogers 🦸‍♂️\",\n",
    "    \"age\": 100,\n",
    "    \"height\": 185,\n",
    "    \"address\": {\n",
    "        \"city\": \"Brooklyn\",\n",
    "        \"country\": \"US\"\n",
    "    }\n",
    "}\n",
    "\n",
    "\n",
    "spiderman = {\n",
    "    \"name\": \"Peter Parker\",\n",
    "    \"age\": 18,\n",
    "    \"team_name\": \"Avengers\",\n",
    "    \"team\": [\"Iron Man\", \"Thor\", \"Hulk\", \"Captain America\"],\n",
    "    \"address\": {}\n",
    "}\n",
    "\n",
    "captain_america['address']['city'] # 'Brooklyn'\n",
    "\n",
    "\n",
    "# spiderman['address']['city']  # KeyError\n",
    "print(spiderman.get('address').get(\"city\"))"
   ]
  },
  {
   "cell_type": "code",
   "execution_count": 10,
   "metadata": {},
   "outputs": [
    {
     "data": {
      "text/plain": [
       "'Brooklyn'"
      ]
     },
     "execution_count": 10,
     "metadata": {},
     "output_type": "execute_result"
    }
   ],
   "source": [
    "captain_america.get('address').get('city')"
   ]
  },
  {
   "cell_type": "code",
   "execution_count": null,
   "metadata": {},
   "outputs": [
    {
     "data": {
      "text/plain": [
       "175"
      ]
     },
     "execution_count": 14,
     "metadata": {},
     "output_type": "execute_result"
    }
   ],
   "source": [
    "\n",
    "spiderman = {\n",
    "    \"name\": \"Peter Parker\",\n",
    "    \"age\": 18,\n",
    "    \"team_name\": \"Avengers\",\n",
    "    \"team\": [\"Iron Man\", \"Thor\", \"Hulk\", \"Captain America\"],\n",
    "    \"address\": {}\n",
    "}\n",
    "\n",
    "spiderman.get('height', 175) # Default value"
   ]
  },
  {
   "cell_type": "code",
   "execution_count": null,
   "metadata": {},
   "outputs": [
    {
     "data": {
      "text/plain": [
       "185"
      ]
     },
     "execution_count": 15,
     "metadata": {},
     "output_type": "execute_result"
    }
   ],
   "source": [
    "spiderman = {\n",
    "    \"name\": \"Peter Parker\",\n",
    "    \"age\": 18,\n",
    "    \"team_name\": \"Avengers\",\n",
    "    \"team\": [\"Iron Man\", \"Thor\", \"Hulk\", \"Captain America\"],\n",
    "    \"height\": 185,\n",
    "    \"address\": {}\n",
    "}\n",
    "\n",
    "spiderman.get('height', 175) # Default value: Default value is take in value does not exist"
   ]
  },
  {
   "cell_type": "code",
   "execution_count": null,
   "metadata": {},
   "outputs": [
    {
     "ename": "AttributeError",
     "evalue": "'NoneType' object has no attribute 'get'",
     "output_type": "error",
     "traceback": [
      "\u001b[1;31m---------------------------------------------------------------------------\u001b[0m",
      "\u001b[1;31mAttributeError\u001b[0m                            Traceback (most recent call last)",
      "Cell \u001b[1;32mIn[16], line 22\u001b[0m\n\u001b[0;32m     19\u001b[0m captain_america\u001b[38;5;241m.\u001b[39mget(\u001b[38;5;124m'\u001b[39m\u001b[38;5;124maddress\u001b[39m\u001b[38;5;124m'\u001b[39m)\u001b[38;5;241m.\u001b[39mget(\u001b[38;5;124m'\u001b[39m\u001b[38;5;124mcity\u001b[39m\u001b[38;5;124m'\u001b[39m) \u001b[38;5;66;03m# 'Brooklyn'\u001b[39;00m\n\u001b[0;32m     21\u001b[0m \u001b[38;5;66;03m# spiderman['address']['city']  # KeyError\u001b[39;00m\n\u001b[1;32m---> 22\u001b[0m \u001b[38;5;28mprint\u001b[39m(\u001b[43mspiderman\u001b[49m\u001b[38;5;241;43m.\u001b[39;49m\u001b[43mget\u001b[49m\u001b[43m(\u001b[49m\u001b[38;5;124;43m'\u001b[39;49m\u001b[38;5;124;43maddress\u001b[39;49m\u001b[38;5;124;43m'\u001b[39;49m\u001b[43m)\u001b[49m\u001b[38;5;241;43m.\u001b[39;49m\u001b[43mget\u001b[49m(\u001b[38;5;124m\"\u001b[39m\u001b[38;5;124mcity\u001b[39m\u001b[38;5;124m\"\u001b[39m))\n",
      "\u001b[1;31mAttributeError\u001b[0m: 'NoneType' object has no attribute 'get'"
     ]
    }
   ],
   "source": [
    "captain_america = {\n",
    "    \"name\": \"Steve Rogers 🦸‍♂️\",\n",
    "    \"age\": 100,\n",
    "    \"height\": 185,\n",
    "    \"address\": {\n",
    "        \"city\": \"Brooklyn\",\n",
    "        \"country\": \"US\"\n",
    "    }\n",
    "}\n",
    "\n",
    "\n",
    "spiderman = {\n",
    "    \"name\": \"Peter Parker\",\n",
    "    \"age\": 18,\n",
    "    \"team_name\": \"Avengers\",\n",
    "    \"team\": [\"Iron Man\", \"Thor\", \"Hulk\", \"Captain America\"],\n",
    "}\n",
    "\n",
    "captain_america.get('address').get('city') # 'Brooklyn'\n",
    "\n",
    "# spiderman['address']['city']  # KeyError\n",
    "# spiderman.get('address') -> None\n",
    "print(spiderman.get('address').get(\"city\")) # Error"
   ]
  },
  {
   "cell_type": "code",
   "execution_count": null,
   "metadata": {},
   "outputs": [
    {
     "name": "stdout",
     "output_type": "stream",
     "text": [
      "None\n",
      "None\n"
     ]
    }
   ],
   "source": [
    "captain_america = {\n",
    "    \"name\": \"Steve Rogers 🦸‍♂️\",\n",
    "    \"age\": 100,\n",
    "    \"height\": 185,\n",
    "    \"address\": {\n",
    "        \"city\": \"Brooklyn\",\n",
    "        \"country\": \"US\"\n",
    "    }\n",
    "}\n",
    "\n",
    "\n",
    "spiderman = {\n",
    "    \"name\": \"Peter Parker\",\n",
    "    \"age\": 18,\n",
    "    \"team_name\": \"Avengers\",\n",
    "    \"team\": [\"Iron Man\", \"Thor\", \"Hulk\", \"Captain America\"],\n",
    "}\n",
    "\n",
    "captain_america.get('address').get('city') # 'Brooklyn'\n",
    "\n",
    "# spiderman['address']['city']  # KeyError\n",
    "# spiderman.get('address') -> None\n",
    "print(spiderman.get('address', {}).get(\"city\")) # Error\n",
    "\n",
    "print(spiderman.get('address', {}).get(\"city\", {}).get('street'))\n",
    "\n",
    "# # Defensive\n",
    "# if spiderman.get('address') != None:\n",
    "#     spiderman.get('address').get(\"city\")"
   ]
  },
  {
   "cell_type": "code",
   "execution_count": null,
   "metadata": {},
   "outputs": [],
   "source": [
    "captain_america = {\n",
    "    \"name\": \"Steve Rogers 🦸‍♂️\",\n",
    "    \"age\": 100,\n",
    "    \"height\": 185,\n",
    "    \"address\": {\n",
    "        \"city\": \"Brooklyn\",\n",
    "        \"country\": \"US\"\n",
    "    }\n",
    "}\n",
    "\n",
    "\n",
    "spiderman = {\n",
    "    \"name\": \"Peter Parker\",\n",
    "    \"age\": 18,\n",
    "    \"team_name\": \"Avengers\",\n",
    "    \"team\": [\"Iron Man\", \"Thor\", \"Hulk\", \"Captain America\"],\n",
    "}\n",
    "\n",
    "hulk = {\n",
    "    \"name\": \"Bruce Banner\",\n",
    "    \"age\": 35,\n",
    "}\n",
    "\n",
    "heroes = [captain_america, spiderman, hulk]\n",
    "\n",
    "# Output\n",
    "# Steve Rogers 🦸‍♂️ lives in Brooklyn\n",
    "# Peter Parker location is Top Secret 🔒\n",
    "# Bruce Banner location is Top Secret 🔒\n",
    "\n",
    "for hero in heroes:\n",
    "    city = hero.get(\"address\", {}).get(\"city\")\n",
    "    if city != None:\n",
    "        print(f\"{hero['name']} lives in {city}\")\n",
    "    else:\n",
    "        print(f\"{hero['name']} location is Top Secret 🔒\")\n"
   ]
  }
 ],
 "metadata": {
  "kernelspec": {
   "display_name": ".venv",
   "language": "python",
   "name": "python3"
  },
  "language_info": {
   "codemirror_mode": {
    "name": "ipython",
    "version": 3
   },
   "file_extension": ".py",
   "mimetype": "text/x-python",
   "name": "python",
   "nbconvert_exporter": "python",
   "pygments_lexer": "ipython3",
   "version": "3.13.2"
  }
 },
 "nbformat": 4,
 "nbformat_minor": 2
}
