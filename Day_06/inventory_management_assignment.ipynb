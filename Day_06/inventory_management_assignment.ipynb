{
 "cells": [
  {
   "cell_type": "markdown",
   "metadata": {},
   "source": [
    "# Inventory Management Assignment\n",
    "### *Diyali Devraj*"
   ]
  },
  {
   "cell_type": "markdown",
   "metadata": {},
   "source": [
    "## Task 2: Update an Existing Product\n",
    "\n",
    "**Instructions:**\n",
    "\n",
    "- Prompt for the product name, additional quantity, and new price.\n",
    "- Loop through the inventory; if the product exists, update its quantity and price.\n",
    "\n",
    "**Example Scenario:**\n",
    "\n",
    "- **Initial Inventory:**\n",
    "  ```python\n",
    "  [{'name': 'Apple 🍎', 'quantity': 30, 'price': 0.5}, {'name': 'Banana 🍌', 'quantity': 20, 'price': 0.2}]\n",
    "  ```\n",
    "- **User Input:**\n",
    "  ```\n",
    "  Enter product name to update: Apple 🍎\n",
    "  Enter additional quantity: 40\n",
    "  Enter new price: 0.4\n",
    "  ```\n",
    "- **Expected Output:**\n",
    "  ```\n",
    "  Updated Apple 🍎 successfully! 🎉\n",
    "  Updated Inventory: [{'name': 'Apple 🍎', 'quantity': 70, 'price': 0.4}, {'name': 'Banana 🍌', 'quantity': 20, 'price': 0.2}]\n",
    "  ```"
   ]
  },
  {
   "cell_type": "code",
   "execution_count": null,
   "metadata": {},
   "outputs": [],
   "source": [
    "inventory = [\n",
    "    {\"name\": \"Apple 🍎\", \"quantity\": 30, \"price\": 0.5},\n",
    "    {\"name\": \"Banana 🍌\", \"quantity\": 20, \"price\": 0.2},\n",
    "]\n",
    "\n",
    "name = input(\"Enter product name to update: \")\n",
    "qty = int(input(\"Enter additional quantity: \"))\n",
    "price = float(input(\"Enter new price: \"))\n",
    "\n",
    "for product in inventory:\n",
    "    product_name = product.get(\"name\")\n",
    "    if name == product_name:\n",
    "        print(f\"Updated {name} successfully! 🎉\")\n",
    "        product[\"quantity\"] += qty\n",
    "        product[\"price\"] = price\n",
    "print(f\"Updated Inventory: {inventory}\")"
   ]
  },
  {
   "cell_type": "markdown",
   "metadata": {},
   "source": [
    "## Task 3: Add or Update Using a `for-else` Construct\n",
    "\n",
    "**Instructions:**\n",
    "\n",
    "- Ask the user for product details.\n",
    "- Use a `for-else` loop: if the product exists, update it; if not, add it to the inventory.\n",
    "\n",
    "**Example Scenario:**\n",
    "\n",
    "- **Initial Inventory:**\n",
    "  ```python\n",
    "  [{'name': 'Apple 🍎', 'quantity': 70, 'price': 0.4}, {'name': 'Banana 🍌', 'quantity': 20, 'price': 0.2}]\n",
    "  ```\n",
    "- **User Input:**\n",
    "  ```\n",
    "  Enter product name: Grape 🍇\n",
    "  Enter quantity: 15\n",
    "  Enter price: 1.2\n",
    "  ```\n",
    "- **Expected Output:**\n",
    "  ```\n",
    "  Added new product Grape 🍇! 🎉\n",
    "  Updated Inventory: [{'name': 'Apple 🍎', 'quantity': 70, 'price': 0.4}, {'name': 'Banana 🍌', 'quantity': 20, 'price': 0.2}, {'name': 'Grape 🍇', 'quantity': 15, 'price': 1.2}]\n",
    "  ```\n"
   ]
  },
  {
   "cell_type": "code",
   "execution_count": null,
   "metadata": {},
   "outputs": [],
   "source": [
    "inventory = [\n",
    "    {\"name\": \"Apple 🍎\", \"quantity\": 70, \"price\": 0.4},\n",
    "    {\"name\": \"Banana 🍌\", \"quantity\": 20, \"price\": 0.2},\n",
    "]\n",
    "\n",
    "\n",
    "name = input(\"Enter product name: \")\n",
    "qty = int(input(\"Enter quantity: \"))\n",
    "price = float(input(\"Enter price: \"))\n",
    "\n",
    "for product in inventory:\n",
    "    product_name = product.get(\"name\")\n",
    "    if name == product_name:\n",
    "        product[\"quantity\"] += qty\n",
    "        product[\"price\"] = price\n",
    "        print(f\"Updated {name} successfully! 🎉\")\n",
    "        break\n",
    "else:\n",
    "    product = {\"name: \": name, \"quantity: \": qty, \"price: \": price}\n",
    "    inventory.append(product)\n",
    "    print(f\"Added new product {name}! 🎉\")\n",
    "\n",
    "print(f\"Updated Inventory: {inventory}\")"
   ]
  }
 ],
 "metadata": {
  "language_info": {
   "name": "python"
  }
 },
 "nbformat": 4,
 "nbformat_minor": 2
}
