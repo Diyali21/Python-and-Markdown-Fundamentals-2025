{
 "cells": [
  {
   "cell_type": "code",
   "execution_count": null,
   "metadata": {},
   "outputs": [],
   "source": [
    "inventory = [\n",
    "    {\"name\": \"Apple 🍎\", \"quantity\": 30, \"price\": 0.5},\n",
    "    {\"name\": \"Banana 🍌\", \"quantity\": 20, \"price\": 0.2},\n",
    "]\n",
    "\n",
    "# - **User Input:**\n",
    "#   ```\n",
    "#   Enter product name to update: Apple 🍎\n",
    "#   Enter additional quantity: 40\n",
    "#   Enter new price: 0.4\n",
    "#   ```\n",
    "# - **Expected Output:**\n",
    "#   ```\n",
    "#   Updated Apple 🍎 successfully! 🎉\n",
    "#   Updated Inventory: [{'name': 'Apple 🍎', 'quantity': 70, 'price': 0.4}, {'name': 'Banana 🍌', 'quantity': 20, 'price': 0.2}]\n",
    "\n",
    "\n",
    "name = input(\"Enter product name to update: \")\n",
    "qty = int(input(\"Enter additional quantity: \"))\n",
    "price = float(input(\"Enter new price: \"))\n",
    "\n",
    "for product in inventory:\n",
    "    product_name = product.get(\"name\")\n",
    "    if name == product_name:\n",
    "        print(f\"Updated {product['name']} successfully! 🎉\")\n",
    "        product[\"quantity\"] += qty\n",
    "        product[\"price\"] = price\n",
    "print(f\"Updated Inventory: {inventory}\")\n"
   ]
  }
 ],
 "metadata": {
  "language_info": {
   "name": "python"
  }
 },
 "nbformat": 4,
 "nbformat_minor": 2
}
