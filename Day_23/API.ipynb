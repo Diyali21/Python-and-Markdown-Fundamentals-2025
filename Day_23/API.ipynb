{
 "cells": [
  {
   "cell_type": "markdown",
   "metadata": {},
   "source": [
    "## Task\n",
    "Create a function `get_city_temp` given city it should print the temp"
   ]
  },
  {
   "cell_type": "code",
   "execution_count": 18,
   "metadata": {},
   "outputs": [
    {
     "name": "stdout",
     "output_type": "stream",
     "text": [
      "The temperature in cape town is 22.3°C\n"
     ]
    }
   ],
   "source": [
    "import requests\n",
    "\n",
    "\n",
    "def get_city_temp(city_name):\n",
    "    API = f\"http://api.weatherapi.com/v1/current.json?key=1e898689d42f4d6285f91807252403&q={city_name}&aqi=no\"\n",
    "    response = requests.get(API, verify=False)\n",
    "    city = response.json()\n",
    "\n",
    "    print(f\"The temperature in {city_name} is {city['current']['temp_c']}°C\")\n",
    "\n",
    "get_city_temp(\"cape town\")\n",
    "# The temperature in Cape Town is 24°C"
   ]
  },
  {
   "cell_type": "markdown",
   "metadata": {},
   "source": [
    "# Task 2 (Challenging)\n",
    "Create a function which takes list of cities and provide the corresponding temperature in a dictionary\n",
    " \n",
    "```python\n",
    "cities = [\"Cape town\", \"Johannesburg\", \"Durban\"]\n",
    "```\n",
    " \n",
    "## Expected Output\n",
    "```python\n",
    "{\n",
    "\"Cape town\": 24,\n",
    "\"Johannesburg\": 25,\n",
    "\"Durban\": 18\n",
    "}\n",
    "```"
   ]
  },
  {
   "cell_type": "code",
   "execution_count": 24,
   "metadata": {},
   "outputs": [
    {
     "data": {
      "text/plain": [
       "{'Cape Town': 22.2, 'Johannesburg': 24.1, 'Durban': 27.2}"
      ]
     },
     "execution_count": 24,
     "metadata": {},
     "output_type": "execute_result"
    }
   ],
   "source": [
    "import requests\n",
    "\n",
    "def get_city_temp(city_name):\n",
    "\n",
    "    API = f\"http://api.weatherapi.com/v1/current.json?key=1e898689d42f4d6285f91807252403&q={city_name}&aqi=no\"\n",
    "    response = requests.get(API, verify=False)\n",
    "    city = response.json()\n",
    "\n",
    "    return city['location']['name'], city['current']['temp_c']\n",
    "\n",
    "cities = [\"Cape town\", \"Johannesburg\", \"Durban\"]\n",
    "\n",
    "def get_temps(cities):\n",
    "    return {\n",
    "        get_city_temp(city_weather)[0]: get_city_temp(city_weather)[1]\n",
    "        for city_weather in cities\n",
    "    }\n",
    "\n",
    "get_temps(cities)\n"
   ]
  }
 ],
 "metadata": {
  "kernelspec": {
   "display_name": ".venv",
   "language": "python",
   "name": "python3"
  },
  "language_info": {
   "codemirror_mode": {
    "name": "ipython",
    "version": 3
   },
   "file_extension": ".py",
   "mimetype": "text/x-python",
   "name": "python",
   "nbconvert_exporter": "python",
   "pygments_lexer": "ipython3",
   "version": "3.10.2"
  }
 },
 "nbformat": 4,
 "nbformat_minor": 2
}
